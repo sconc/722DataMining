{
 "cells": [
  {
   "cell_type": "markdown",
   "id": "8e425462",
   "metadata": {},
   "source": [
    "### Linear Regression"
   ]
  },
  {
   "cell_type": "code",
   "execution_count": 1,
   "id": "2ff7448c",
   "metadata": {},
   "outputs": [
    {
     "name": "stderr",
     "output_type": "stream",
     "text": [
      "WARNING: An illegal reflective access operation has occurred\n",
      "WARNING: Illegal reflective access by org.apache.spark.unsafe.Platform (file:/home/ubuntu/spark-3.2.1-bin-hadoop2.7/jars/spark-unsafe_2.12-3.2.1.jar) to constructor java.nio.DirectByteBuffer(long,int)\n",
      "WARNING: Please consider reporting this to the maintainers of org.apache.spark.unsafe.Platform\n",
      "WARNING: Use --illegal-access=warn to enable warnings of further illegal reflective access operations\n",
      "WARNING: All illegal access operations will be denied in a future release\n",
      "Using Spark's default log4j profile: org/apache/spark/log4j-defaults.properties\n",
      "Setting default log level to \"WARN\".\n",
      "To adjust logging level use sc.setLogLevel(newLevel). For SparkR, use setLogLevel(newLevel).\n",
      "22/10/12 21:55:41 WARN NativeCodeLoader: Unable to load native-hadoop library for your platform... using builtin-java classes where applicable\n"
     ]
    }
   ],
   "source": [
    "# Must be included at the beginning of each new notebook. Remember to change the app name.\n",
    "import findspark\n",
    "findspark.init('/home/ubuntu/spark-3.2.1-bin-hadoop2.7')\n",
    "import pyspark\n",
    "from pyspark.sql import SparkSession\n",
    "spark = SparkSession.builder.appName('722LinearRegression').getOrCreate()\n",
    "\n",
    "# import other packages\n",
    "import pyspark.sql.functions as F\n",
    "from pyspark.ml.feature import StringIndexer\n",
    "from pyspark.ml import Pipeline\n",
    "from pyspark.sql.types import (StructField,StringType,IntegerType,StructType)"
   ]
  },
  {
   "cell_type": "markdown",
   "id": "6133af4e",
   "metadata": {},
   "source": [
    "### Load Data"
   ]
  },
  {
   "cell_type": "code",
   "execution_count": 2,
   "id": "0f148fb1",
   "metadata": {},
   "outputs": [],
   "source": [
    "# integrate the 2 sources\n",
    "# code adapted from https://www.geeksforgeeks.org/merge-two-dataframes-in-pyspark/\n",
    "import functools \n",
    "def unionAll(dfs):\n",
    "    return functools.reduce(lambda df1, df2: df1.union(df2.select(df1.columns)), dfs)"
   ]
  },
  {
   "cell_type": "code",
   "execution_count": 3,
   "id": "46386fb6",
   "metadata": {},
   "outputs": [],
   "source": [
    "# create a variable with the correct structure\n",
    "data_schema = [StructField('Total Household Income',IntegerType(),True), StructField('Region',StringType(),True),\n",
    "              StructField('Total Food Expenditure',IntegerType(),True), StructField('Main Source of Income',StringType(),True),\n",
    "              StructField('Agricultural Household indicator',IntegerType(),True), StructField('Bread and Cereals Expenditure',IntegerType(),True),\n",
    "              StructField('Total Rice Expenditure',IntegerType(),True), StructField('Meat Expenditure',IntegerType(),True),\n",
    "              StructField('Total Fish and  marine products Expenditure',IntegerType(),True), StructField('Fruit Expenditure',IntegerType(),True),\n",
    "              StructField('Vegetables Expenditure',IntegerType(),True), StructField('Restaurant and hotels Expenditure',IntegerType(),True),\n",
    "              StructField('Alcoholic Beverages Expenditure',IntegerType(),True), StructField('Tobacco Expenditure',IntegerType(),True),\n",
    "              StructField('Clothing, Footwear and Other Wear Expenditure',IntegerType(),True), StructField('Housing and water Expenditure',IntegerType(),True),\n",
    "              StructField('Imputed House Rental Value',IntegerType(),True), StructField('Medical Care Expenditure',IntegerType(),True),\n",
    "              StructField('Transportation Expenditure',IntegerType(),True), StructField('Communication Expenditure',IntegerType(),True),\n",
    "              StructField('Education Expenditure',IntegerType(),True), StructField('Miscellaneous Goods and Services Expenditure',IntegerType(),True),\n",
    "              StructField('Special Occasions Expenditure',IntegerType(),True), StructField('Crop Farming and Gardening expenses',IntegerType(),True),\n",
    "              StructField('Total Income from Entrepreneurial Acitivites',IntegerType(),True), StructField('Household Head Sex',StringType(),True),\n",
    "              StructField('Household Head Age',IntegerType(),True), StructField('Household Head Marital Status',StringType(),True),\n",
    "              StructField('Household Head Highest Grade Completed',StringType(),True), StructField('Household Head Job or Business Indicator',StringType(),True),\n",
    "              StructField('Household Head Occupation',StringType(),True), StructField('Household Head Class of Worker',StringType(),True),\n",
    "              StructField('Type of Household',StringType(),True), StructField('Total Number of Family members',IntegerType(),True),\n",
    "              StructField('Members with age less than 5 year old',IntegerType(),True), StructField('Members with age 5 - 17 years old',IntegerType(),True),\n",
    "              StructField('Total number of family members employed',IntegerType(),True), StructField('Type of Building/House',StringType(),True),\n",
    "              StructField('Type of Roof',StringType(),True), StructField('Type of Walls',StringType(),True),\n",
    "              StructField('House Floor Area',IntegerType(),True), StructField('House Age',IntegerType(),True),\n",
    "              StructField('Number of bedrooms',IntegerType(),True), StructField('Tenure Status',StringType(),True),\n",
    "              StructField('Toilet Facilities',StringType(),True), StructField('Electricity',IntegerType(),True),\n",
    "              StructField('Main Source of Water Supply',StringType(),True), StructField('Number of Television',IntegerType(),True),\n",
    "              StructField('Number of CD/VCD/DVD',IntegerType(),True), StructField('Number of Component/Stereo set',IntegerType(),True),\n",
    "              StructField('Number of Refrigerator/Freezer',IntegerType(),True), StructField('Number of Washing Machine',IntegerType(),True),\n",
    "              StructField('Number of Airconditioner',IntegerType(),True), StructField('Number of Car, Jeep, Van',IntegerType(),True),\n",
    "              StructField('Number of Landline/wireless telephones',IntegerType(),True), StructField('Number of Cellular phone',IntegerType(),True),\n",
    "              StructField('Number of Personal Computer',IntegerType(),True), StructField('Number of Stove with Oven/Gas Range',IntegerType(),True),\n",
    "              StructField('Number of Motorized Banca',IntegerType(),True), StructField('Number of Motorcycle/Tricycle',IntegerType(),True)\n",
    "              ]\n",
    "\n",
    "final_struct = StructType(fields=data_schema)"
   ]
  },
  {
   "cell_type": "code",
   "execution_count": 4,
   "id": "2df739ff",
   "metadata": {},
   "outputs": [
    {
     "name": "stderr",
     "output_type": "stream",
     "text": [
      "[Stage 0:===================>                                       (1 + 2) / 3]\r"
     ]
    },
    {
     "name": "stdout",
     "output_type": "stream",
     "text": [
      "Combined dataset with updated dtypes: 41544 x 60\n",
      "root\n",
      " |-- Total Household Income: integer (nullable = true)\n",
      " |-- Region: string (nullable = true)\n",
      " |-- Total Food Expenditure: integer (nullable = true)\n",
      " |-- Main Source of Income: string (nullable = true)\n",
      " |-- Agricultural Household indicator: integer (nullable = true)\n",
      " |-- Bread and Cereals Expenditure: integer (nullable = true)\n",
      " |-- Total Rice Expenditure: integer (nullable = true)\n",
      " |-- Meat Expenditure: integer (nullable = true)\n",
      " |-- Total Fish and  marine products Expenditure: integer (nullable = true)\n",
      " |-- Fruit Expenditure: integer (nullable = true)\n",
      " |-- Vegetables Expenditure: integer (nullable = true)\n",
      " |-- Restaurant and hotels Expenditure: integer (nullable = true)\n",
      " |-- Alcoholic Beverages Expenditure: integer (nullable = true)\n",
      " |-- Tobacco Expenditure: integer (nullable = true)\n",
      " |-- Clothing, Footwear and Other Wear Expenditure: integer (nullable = true)\n",
      " |-- Housing and water Expenditure: integer (nullable = true)\n",
      " |-- Imputed House Rental Value: integer (nullable = true)\n",
      " |-- Medical Care Expenditure: integer (nullable = true)\n",
      " |-- Transportation Expenditure: integer (nullable = true)\n",
      " |-- Communication Expenditure: integer (nullable = true)\n",
      " |-- Education Expenditure: integer (nullable = true)\n",
      " |-- Miscellaneous Goods and Services Expenditure: integer (nullable = true)\n",
      " |-- Special Occasions Expenditure: integer (nullable = true)\n",
      " |-- Crop Farming and Gardening expenses: integer (nullable = true)\n",
      " |-- Total Income from Entrepreneurial Acitivites: integer (nullable = true)\n",
      " |-- Household Head Sex: string (nullable = true)\n",
      " |-- Household Head Age: integer (nullable = true)\n",
      " |-- Household Head Marital Status: string (nullable = true)\n",
      " |-- Household Head Highest Grade Completed: string (nullable = true)\n",
      " |-- Household Head Job or Business Indicator: string (nullable = true)\n",
      " |-- Household Head Occupation: string (nullable = true)\n",
      " |-- Household Head Class of Worker: string (nullable = true)\n",
      " |-- Type of Household: string (nullable = true)\n",
      " |-- Total Number of Family members: integer (nullable = true)\n",
      " |-- Members with age less than 5 year old: integer (nullable = true)\n",
      " |-- Members with age 5 - 17 years old: integer (nullable = true)\n",
      " |-- Total number of family members employed: integer (nullable = true)\n",
      " |-- Type of Building/House: string (nullable = true)\n",
      " |-- Type of Roof: string (nullable = true)\n",
      " |-- Type of Walls: string (nullable = true)\n",
      " |-- House Floor Area: integer (nullable = true)\n",
      " |-- House Age: integer (nullable = true)\n",
      " |-- Number of bedrooms: integer (nullable = true)\n",
      " |-- Tenure Status: string (nullable = true)\n",
      " |-- Toilet Facilities: string (nullable = true)\n",
      " |-- Electricity: integer (nullable = true)\n",
      " |-- Main Source of Water Supply: string (nullable = true)\n",
      " |-- Number of Television: integer (nullable = true)\n",
      " |-- Number of CD/VCD/DVD: integer (nullable = true)\n",
      " |-- Number of Component/Stereo set: integer (nullable = true)\n",
      " |-- Number of Refrigerator/Freezer: integer (nullable = true)\n",
      " |-- Number of Washing Machine: integer (nullable = true)\n",
      " |-- Number of Airconditioner: integer (nullable = true)\n",
      " |-- Number of Car, Jeep, Van: integer (nullable = true)\n",
      " |-- Number of Landline/wireless telephones: integer (nullable = true)\n",
      " |-- Number of Cellular phone: integer (nullable = true)\n",
      " |-- Number of Personal Computer: integer (nullable = true)\n",
      " |-- Number of Stove with Oven/Gas Range: integer (nullable = true)\n",
      " |-- Number of Motorized Banca: integer (nullable = true)\n",
      " |-- Number of Motorcycle/Tricycle: integer (nullable = true)\n",
      "\n"
     ]
    },
    {
     "name": "stderr",
     "output_type": "stream",
     "text": [
      "\r",
      "                                                                                \r"
     ]
    }
   ],
   "source": [
    "# And now we can read in the data using that schema. The other fields are read as integer. \n",
    "df1 = spark.read.option(\"header\", True).csv('dataset/data_ncr.csv', schema=final_struct)\n",
    "df2 = spark.read.option(\"header\", True).csv('dataset/data_therest.csv', schema=final_struct)\n",
    "statsdata = unionAll([df1, df2])\n",
    "\n",
    "print(\"Combined dataset with updated dtypes:\", statsdata.count(), \"x\", len(statsdata.columns))\n",
    "statsdata.printSchema()"
   ]
  },
  {
   "cell_type": "markdown",
   "id": "a6902a08",
   "metadata": {},
   "source": [
    "### Clean Data"
   ]
  },
  {
   "cell_type": "code",
   "execution_count": 9,
   "id": "376dc853",
   "metadata": {},
   "outputs": [
    {
     "name": "stdout",
     "output_type": "stream",
     "text": [
      "Updated dimensions after removing 32 columns: 41544 x 29\n"
     ]
    },
    {
     "name": "stderr",
     "output_type": "stream",
     "text": [
      "                                                                                \r"
     ]
    }
   ],
   "source": [
    "# Drop columns\n",
    "Columns_To_Remove = ['Region', 'Number of Television', 'Number of CD/VCD/DVD', 'Number of Component/Stereo set', \n",
    "                     'Number of Refrigerator/Freezer', 'Number of Washing Machine', 'Number of Airconditioner', \n",
    "                     'Number of Car, Jeep, Van', 'Number of Landline/wireless telephones', 'Number of Cellular phone', \n",
    "                     'Number of Personal Computer', 'Number of Stove with Oven/Gas Range', 'Number of Motorized Banca', \n",
    "                     'Number of Motorcycle/Tricycle']\n",
    "statsupdate = statsdata.drop(*Columns_To_Remove)\n",
    "\n",
    "# Add New Column with Total Expenses\n",
    "expenses_cols = ['Total Food Expenditure', 'Bread and Cereals Expenditure', 'Total Rice Expenditure', 'Meat Expenditure', 'Total Fish and  marine products Expenditure', 'Fruit Expenditure', 'Vegetables Expenditure', 'Restaurant and hotels Expenditure', 'Alcoholic Beverages Expenditure', 'Tobacco Expenditure', 'Clothing, Footwear and Other Wear Expenditure', 'Housing and water Expenditure', 'Medical Care Expenditure', 'Transportation Expenditure', 'Communication Expenditure', 'Education Expenditure', 'Miscellaneous Goods and Services Expenditure', 'Special Occasions Expenditure', 'Crop Farming and Gardening expenses']\n",
    "statsupdate = statsupdate.withColumn('Total Expenditures', sum(statsupdate[col] for col in expenses_cols))\n",
    "\n",
    "# Drop the other expenses columns, except Medical Care Expenditure\n",
    "expenses_cols.remove('Medical Care Expenditure')\n",
    "statsupdate = statsupdate.drop(*expenses_cols)\n",
    "print(\"Updated dimensions after removing\",len(expenses_cols)+len(Columns_To_Remove),\"columns:\",statsupdate.count(), \"x\", len(statsupdate.columns))\n",
    "\n",
    "# remove na/nulls\n",
    "statsupdate = statsupdate.na.fill('Not Specified')\n",
    "\n",
    "# remove outliers\n",
    "# calculate upper and lower bounds for outliers, adapted from internet\n",
    "def calculate_bounds(df):\n",
    "    bounds = {\n",
    "        c: dict(\n",
    "            zip([\"q1\", \"q3\"], df.approxQuantile(c, [0.25, 0.75], 0))\n",
    "        )\n",
    "        for c,d in zip(df.columns, df.dtypes) if d[1] == \"int\"\n",
    "    }\n",
    "    for c in bounds:\n",
    "        iqr = bounds[c]['q3'] - bounds[c]['q1']\n",
    "        bounds[c]['min'] = bounds[c]['q1'] - (iqr * 1.5)\n",
    "        bounds[c]['max'] = bounds[c]['q3'] + (iqr * 1.5)\n",
    "    return bounds\n",
    "bounds = calculate_bounds(statsupdate)\n",
    "\n",
    "# remove outliers for \"Total Household Income\"\n",
    "c = \"Total Household Income\"\n",
    "newstats = statsupdate.filter(F.col(c).between(bounds[c]['min'], bounds[c]['max']))\n",
    "\n",
    "# remove outliers for \"Medical Care Expenditure\"\n",
    "c = \"Medical Care Expenditure\"\n",
    "newstats = newstats.filter(F.col(c).between(bounds[c]['min'], bounds[c]['max']))\n",
    "\n",
    "# rename misspelled column\n",
    "newstats = newstats.withColumnRenamed(\"Total Income from Entrepreneurial Acitivites\", \"Total Income from Entrepreneurial Activities\")\n",
    "\n",
    "# categorize\n",
    "#create a list of the columns that are string types\n",
    "categoricalColumns = [item[0] for item in newstats.dtypes if item[1].startswith('string') ]\n",
    "\n",
    "#define a list of stages in your pipeline. The string indexer will be one stage\n",
    "stages = []\n",
    "#iterate through all categorical values, create a string indexer, assign new column name with 'Index' at end\n",
    "for categoricalCol in categoricalColumns:\n",
    "    stringIndexer = StringIndexer(inputCol = categoricalCol, outputCol = categoricalCol + ' Index')\n",
    "    stages += [stringIndexer]\n",
    "pipeline = Pipeline(stages = stages)\n",
    "newstats = pipeline.fit(newstats).transform(newstats)"
   ]
  },
  {
   "cell_type": "code",
   "execution_count": 10,
   "id": "6aab5ce8",
   "metadata": {
    "scrolled": true
   },
   "outputs": [
    {
     "name": "stdout",
     "output_type": "stream",
     "text": [
      "root\n",
      " |-- Total Household Income: integer (nullable = true)\n",
      " |-- Main Source of Income: string (nullable = false)\n",
      " |-- Agricultural Household indicator: integer (nullable = true)\n",
      " |-- Imputed House Rental Value: integer (nullable = true)\n",
      " |-- Medical Care Expenditure: integer (nullable = true)\n",
      " |-- Total Income from Entrepreneurial Activities: integer (nullable = true)\n",
      " |-- Household Head Sex: string (nullable = false)\n",
      " |-- Household Head Age: integer (nullable = true)\n",
      " |-- Household Head Marital Status: string (nullable = false)\n",
      " |-- Household Head Highest Grade Completed: string (nullable = false)\n",
      " |-- Household Head Job or Business Indicator: string (nullable = false)\n",
      " |-- Household Head Occupation: string (nullable = false)\n",
      " |-- Household Head Class of Worker: string (nullable = false)\n",
      " |-- Type of Household: string (nullable = false)\n",
      " |-- Total Number of Family members: integer (nullable = true)\n",
      " |-- Members with age less than 5 year old: integer (nullable = true)\n",
      " |-- Members with age 5 - 17 years old: integer (nullable = true)\n",
      " |-- Total number of family members employed: integer (nullable = true)\n",
      " |-- Type of Building/House: string (nullable = false)\n",
      " |-- Type of Roof: string (nullable = false)\n",
      " |-- Type of Walls: string (nullable = false)\n",
      " |-- House Floor Area: integer (nullable = true)\n",
      " |-- House Age: integer (nullable = true)\n",
      " |-- Number of bedrooms: integer (nullable = true)\n",
      " |-- Tenure Status: string (nullable = false)\n",
      " |-- Toilet Facilities: string (nullable = false)\n",
      " |-- Electricity: integer (nullable = true)\n",
      " |-- Main Source of Water Supply: string (nullable = false)\n",
      " |-- Total Expenditures: integer (nullable = true)\n",
      " |-- Main Source of Income Index: double (nullable = false)\n",
      " |-- Household Head Sex Index: double (nullable = false)\n",
      " |-- Household Head Marital Status Index: double (nullable = false)\n",
      " |-- Household Head Highest Grade Completed Index: double (nullable = false)\n",
      " |-- Household Head Job or Business Indicator Index: double (nullable = false)\n",
      " |-- Household Head Occupation Index: double (nullable = false)\n",
      " |-- Household Head Class of Worker Index: double (nullable = false)\n",
      " |-- Type of Household Index: double (nullable = false)\n",
      " |-- Type of Building/House Index: double (nullable = false)\n",
      " |-- Type of Roof Index: double (nullable = false)\n",
      " |-- Type of Walls Index: double (nullable = false)\n",
      " |-- Tenure Status Index: double (nullable = false)\n",
      " |-- Toilet Facilities Index: double (nullable = false)\n",
      " |-- Main Source of Water Supply Index: double (nullable = false)\n",
      "\n"
     ]
    }
   ],
   "source": [
    "newstats.printSchema()"
   ]
  },
  {
   "cell_type": "markdown",
   "id": "d587a26c",
   "metadata": {},
   "source": [
    "### Linear Regression"
   ]
  },
  {
   "cell_type": "code",
   "execution_count": 7,
   "id": "a1f11b8f",
   "metadata": {},
   "outputs": [],
   "source": [
    "# import LinearRegression \n",
    "from pyspark.ml.regression import LinearRegression\n",
    "# Import VectorAssembler and Vectors\n",
    "from pyspark.ml.linalg import Vectors\n",
    "from pyspark.ml.feature import VectorAssembler"
   ]
  },
  {
   "cell_type": "code",
   "execution_count": 11,
   "id": "1d188ffd",
   "metadata": {},
   "outputs": [],
   "source": [
    "assembler = VectorAssembler(\n",
    "    inputCols=[\"Total Household Income\", \"Main Source of Income Index\", \n",
    "            \"Agricultural Household indicator\",\"Imputed House Rental Value\",\n",
    "            \"Total Income from Entrepreneurial Activities\",\n",
    "            \"Household Head Age\", \"Total Number of Family members\",\n",
    "            \"Members with age less than 5 year old\",\"Members with age 5 - 17 years old\",\n",
    "            \"Total number of family members employed\", \"House Floor Area\",\n",
    "             \"House Age\",\"Number of bedrooms\",\n",
    "             \"Electricity\",\"Total Expenditures\",\n",
    "             \"Main Source of Income Index\",\"Household Head Sex Index\",\n",
    "             \"Household Head Marital Status Index\",\"Household Head Highest Grade Completed Index\",\n",
    "             \"Household Head Job or Business Indicator Index\",\n",
    "             \"Household Head Class of Worker Index\",\"Type of Household Index\",\n",
    "             \"Type of Building/House Index\",\"Type of Roof Index\",\"Type of Walls Index\",\n",
    "             \"Tenure Status Index\",\"Toilet Facilities Index\",\n",
    "             \"Main Source of Water Supply Index\"],\n",
    "    outputCol=\"features\")\n",
    "output = assembler.transform(newstats)"
   ]
  },
  {
   "cell_type": "code",
   "execution_count": 12,
   "id": "2feb2fdf",
   "metadata": {},
   "outputs": [
    {
     "name": "stderr",
     "output_type": "stream",
     "text": [
      "22/10/12 21:57:59 WARN package: Truncated the string representation of a plan since it was too large. This behavior can be adjusted by setting 'spark.sql.debug.maxToStringFields'.\n"
     ]
    },
    {
     "name": "stdout",
     "output_type": "stream",
     "text": [
      "+--------------------+------------------------+\n",
      "|            features|Medical Care Expenditure|\n",
      "+--------------------+------------------------+\n",
      "|(28,[0,3,5,6,9,10...|                     480|\n",
      "|(28,[0,1,5,6,10,1...|                       0|\n",
      "|(28,[0,5,6,8,9,10...|                       0|\n",
      "|(28,[0,1,3,5,6,9,...|                    6512|\n",
      "|(28,[0,3,5,6,9,10...|                     180|\n",
      "|(28,[0,5,6,7,9,10...|                     975|\n",
      "|(28,[0,3,5,6,9,10...|                    8790|\n",
      "|(28,[0,3,5,6,8,9,...|                    3310|\n",
      "|(28,[0,1,3,4,5,6,...|                       0|\n",
      "|[259090.0,1.0,0.0...|                       0|\n",
      "|(28,[0,3,4,5,6,9,...|                     303|\n",
      "|(28,[0,3,5,6,8,9,...|                       0|\n",
      "|(28,[0,3,4,5,6,8,...|                     580|\n",
      "|[113000.0,1.0,0.0...|                      54|\n",
      "|(28,[0,3,5,6,9,10...|                    1035|\n",
      "|[500283.0,0.0,0.0...|                    6631|\n",
      "|(28,[0,3,5,6,9,10...|                    8133|\n",
      "|(28,[0,3,5,6,8,9,...|                       0|\n",
      "|(28,[0,3,4,5,6,8,...|                      48|\n",
      "|(28,[0,3,4,5,6,8,...|                       0|\n",
      "+--------------------+------------------------+\n",
      "only showing top 20 rows\n",
      "\n"
     ]
    }
   ],
   "source": [
    "final_data = output.select(\"features\",'Medical Care Expenditure')\n",
    "final_data.show()"
   ]
  },
  {
   "cell_type": "code",
   "execution_count": 13,
   "id": "93be1720",
   "metadata": {},
   "outputs": [
    {
     "name": "stderr",
     "output_type": "stream",
     "text": [
      "                                                                                \r"
     ]
    },
    {
     "name": "stdout",
     "output_type": "stream",
     "text": [
      "+-------+------------------------+\n",
      "|summary|Medical Care Expenditure|\n",
      "+-------+------------------------+\n",
      "|  count|                   24138|\n",
      "|   mean|      1790.0679426630209|\n",
      "| stddev|      2380.5440560944794|\n",
      "|    min|                       0|\n",
      "|    max|                   11248|\n",
      "+-------+------------------------+\n",
      "\n"
     ]
    },
    {
     "name": "stderr",
     "output_type": "stream",
     "text": [
      "\r",
      "[Stage 85:===================>                                      (1 + 2) / 3]\r"
     ]
    },
    {
     "name": "stdout",
     "output_type": "stream",
     "text": [
      "+-------+------------------------+\n",
      "|summary|Medical Care Expenditure|\n",
      "+-------+------------------------+\n",
      "|  count|                   10281|\n",
      "|   mean|      1807.0445481957008|\n",
      "| stddev|       2415.060886794736|\n",
      "|    min|                       0|\n",
      "|    max|                   11250|\n",
      "+-------+------------------------+\n",
      "\n"
     ]
    },
    {
     "name": "stderr",
     "output_type": "stream",
     "text": [
      "\r",
      "[Stage 85:======================================>                   (2 + 1) / 3]\r",
      "\r",
      "                                                                                \r"
     ]
    }
   ],
   "source": [
    "train_data,test_data = final_data.randomSplit([0.7,0.3])\n",
    "train_data.describe().show()\n",
    "test_data.describe().show()"
   ]
  },
  {
   "cell_type": "code",
   "execution_count": 14,
   "id": "e7a505c5",
   "metadata": {},
   "outputs": [
    {
     "name": "stderr",
     "output_type": "stream",
     "text": [
      "22/10/12 21:58:14 WARN Instrumentation: [4d632a75] regParam is zero, which might cause numerical instability and overfitting.\n",
      "22/10/12 21:58:14 WARN InstanceBuilder$NativeBLAS: Failed to load implementation from:dev.ludovic.netlib.blas.JNIBLAS\n",
      "22/10/12 21:58:14 WARN InstanceBuilder$NativeBLAS: Failed to load implementation from:dev.ludovic.netlib.blas.ForeignLinkerBLAS\n",
      "22/10/12 21:58:15 WARN InstanceBuilder$NativeLAPACK: Failed to load implementation from:dev.ludovic.netlib.lapack.JNILAPACK\n",
      "22/10/12 21:58:15 WARN Instrumentation: [4d632a75] Cholesky solver failed due to singular covariance matrix. Retrying with Quasi-Newton solver.\n",
      "[Stage 89:===================>                                      (1 + 2) / 3]\r"
     ]
    },
    {
     "name": "stdout",
     "output_type": "stream",
     "text": [
      "Coefficients: [0.003936945784815558,58.242150701261274,-95.42032853463294,0.005293518262224526,-0.0021807415189295984,13.307255725434512,-111.25452905301628,364.8731049108575,-16.810304717366535,-65.58327959453743,-0.22559401665037243,1.4618785887602284,13.251004115252325,286.34080126421236,0.0031016093656690913,58.24215070125857,107.82847494736738,-150.15791190076015,10.592822799903931,278.1582175720907,25.782596704015468,157.68740251269094,118.25210043221017,-1.8517226495881967,-42.99667910870761,41.40484799024556,-42.41246277605195,-12.468488949952617] Intercept: -249.8926821770188\n"
     ]
    },
    {
     "name": "stderr",
     "output_type": "stream",
     "text": [
      "\r",
      "                                                                                \r"
     ]
    }
   ],
   "source": [
    "lr = LinearRegression(labelCol='Medical Care Expenditure')\n",
    "lrModel = lr.fit(train_data) # Fit the model to the data.\n",
    "print(\"Coefficients: {} Intercept: {}\".format(lrModel.coefficients,lrModel.intercept))"
   ]
  },
  {
   "cell_type": "code",
   "execution_count": 15,
   "id": "d9f83c24",
   "metadata": {},
   "outputs": [
    {
     "name": "stderr",
     "output_type": "stream",
     "text": [
      "                                                                                \r"
     ]
    }
   ],
   "source": [
    "# Let's evaluate the model against the test data.\n",
    "test_results = lrModel.evaluate(test_data)"
   ]
  },
  {
   "cell_type": "code",
   "execution_count": 16,
   "id": "7a6389bd",
   "metadata": {},
   "outputs": [
    {
     "name": "stderr",
     "output_type": "stream",
     "text": [
      "/home/ubuntu/spark-3.2.1-bin-hadoop2.7/python/pyspark/sql/context.py:125: FutureWarning: Deprecated in 3.0.0. Use SparkSession.builder.getOrCreate() instead.\n",
      "  warnings.warn(\n"
     ]
    },
    {
     "name": "stdout",
     "output_type": "stream",
     "text": [
      "+-------------------+\n",
      "|          residuals|\n",
      "+-------------------+\n",
      "| -1092.994983488722|\n",
      "| 1266.0871323146166|\n",
      "|  943.8351374671029|\n",
      "|  47.52495275757656|\n",
      "| -723.3146064879056|\n",
      "| 2235.6565989964242|\n",
      "|    851.73892829738|\n",
      "| -673.2654891442148|\n",
      "|  5547.681591536644|\n",
      "|-2415.8636449201513|\n",
      "| -1817.319806146596|\n",
      "|  194.3233666812721|\n",
      "|  4826.342497144465|\n",
      "|  1142.164319992597|\n",
      "|-2852.0446277811984|\n",
      "|-1988.9873761435974|\n",
      "|  293.2684823402037|\n",
      "|  4479.317807853711|\n",
      "| 3286.5589404813245|\n",
      "|  -2385.97355821996|\n",
      "+-------------------+\n",
      "only showing top 20 rows\n",
      "\n"
     ]
    }
   ],
   "source": [
    "# Interesting results! This shows the difference between the predicted value and the test data.\n",
    "test_results.residuals.show()"
   ]
  },
  {
   "cell_type": "code",
   "execution_count": 17,
   "id": "09ab1468",
   "metadata": {},
   "outputs": [
    {
     "name": "stdout",
     "output_type": "stream",
     "text": [
      "RSME: 2195.087966436629\n",
      "R2: 0.17379097682889222\n"
     ]
    }
   ],
   "source": [
    "# Let's get some evaluation metrics (as discussed in the previous linear regression notebook).\n",
    "print(\"RSME: {}\".format(test_results.rootMeanSquaredError))\n",
    "# We can also get the R2 value. \n",
    "print(\"R2: {}\".format(test_results.r2))"
   ]
  },
  {
   "cell_type": "code",
   "execution_count": 18,
   "id": "d3df3f15",
   "metadata": {},
   "outputs": [
    {
     "name": "stdout",
     "output_type": "stream",
     "text": [
      "+--------------------+------------------+\n",
      "|            features|        prediction|\n",
      "+--------------------+------------------+\n",
      "|(28,[0,1,2,3,4,5,...| 2392.994983488722|\n",
      "|(28,[0,1,2,3,4,5,...|2738.9128676853834|\n",
      "|(28,[0,1,2,3,4,5,...|1163.1648625328971|\n",
      "|(28,[0,1,2,3,4,5,...|1655.4750472424234|\n",
      "|(28,[0,1,2,3,4,5,...|2891.3146064879056|\n",
      "|(28,[0,1,2,3,4,5,...|2764.3434010035758|\n",
      "|(28,[0,1,2,3,4,5,...|  2086.26107170262|\n",
      "|(28,[0,1,2,3,4,5,...| 2337.265489144215|\n",
      "|(28,[0,1,2,3,4,5,...|2002.3184084633558|\n",
      "|(28,[0,1,2,3,4,5,...|2415.8636449201513|\n",
      "|(28,[0,1,2,3,4,5,...| 3657.319806146596|\n",
      "|(28,[0,1,2,3,4,5,...| 2472.676633318728|\n",
      "|(28,[0,1,2,3,4,5,...|1731.6575028555355|\n",
      "|(28,[0,1,2,3,4,5,...| 3393.835680007403|\n",
      "|(28,[0,1,2,3,4,5,...|2852.0446277811984|\n",
      "|(28,[0,1,2,3,4,5,...|2430.9873761435974|\n",
      "|(28,[0,1,2,3,4,5,...|1298.7315176597963|\n",
      "|(28,[0,1,2,3,4,5,...|1520.6821921462883|\n",
      "|(28,[0,1,2,3,4,5,...|3169.4410595186755|\n",
      "|(28,[0,1,2,3,4,5,...|  2660.97355821996|\n",
      "+--------------------+------------------+\n",
      "only showing top 20 rows\n",
      "\n"
     ]
    },
    {
     "data": {
      "text/plain": [
       "[Row(features=SparseVector(28, {0: 197042.0, 1: 1.0, 2: 2.0, 3: 54000.0, 4: 90094.0, 5: 47.0, 6: 5.0, 7: 1.0, 8: 2.0, 10: 45.0, 11: 23.0, 12: 2.0, 13: 1.0, 14: 261196.0, 15: 1.0, 18: 21.0, 25: 2.0}), prediction=2392.994983488722)]"
      ]
     },
     "execution_count": 18,
     "metadata": {},
     "output_type": "execute_result"
    }
   ],
   "source": [
    "# Make a prediction by using the unlabeled data features\n",
    "unlabeled_data = test_data.select('features')\n",
    "predictions = lrModel.transform(unlabeled_data)\n",
    "predictions.show()\n",
    "predictions.head(1)"
   ]
  },
  {
   "cell_type": "code",
   "execution_count": 19,
   "id": "9ddae020",
   "metadata": {},
   "outputs": [],
   "source": [
    "# re-run linear regression\n",
    "def reRunLinearRegression(final_data):\n",
    "    train_data,test_data = final_data.randomSplit([0.7,0.3])\n",
    "    lr = LinearRegression(labelCol='Medical Care Expenditure')\n",
    "    lrModel = lr.fit(train_data) # Fit the model to the data.\n",
    "    print(\"Coefficients: {} Intercept: {}\".format(lrModel.coefficients,lrModel.intercept))\n",
    "    test_results = lrModel.evaluate(test_data)\n",
    "    print(\"RSME: {}\".format(test_results.rootMeanSquaredError))\n",
    "    print(\"R2: {}\".format(test_results.r2))"
   ]
  },
  {
   "cell_type": "code",
   "execution_count": 20,
   "id": "c0c99fcf",
   "metadata": {},
   "outputs": [
    {
     "name": "stderr",
     "output_type": "stream",
     "text": [
      "22/10/12 23:19:50 WARN Instrumentation: [c3636e1b] regParam is zero, which might cause numerical instability and overfitting.\n",
      "22/10/12 23:19:52 WARN Instrumentation: [c3636e1b] Cholesky solver failed due to singular covariance matrix. Retrying with Quasi-Newton solver.\n",
      "                                                                                \r"
     ]
    },
    {
     "name": "stdout",
     "output_type": "stream",
     "text": [
      "Coefficients: [0.004232390128127616,67.53802411308126,-85.80488646734831,0.004445125724465798,-0.00202163392182256,13.45383928043216,-107.3860230231768,358.9815541073145,-21.063601486866798,-75.5194930193273,0.2748427000257751,1.7672352872390455,-9.88938497403219,284.97417473346366,0.002911669101215709,67.53802411308087,70.85154583607795,-139.7039844316147,9.720459579615454,314.80885555145227,29.268828950935713,181.6694924656693,147.52426627148026,-7.770477504760209,-22.438699090306933,29.31603229737535,-39.670249314251365,-25.69396442769297] Intercept: -257.0926594082113\n"
     ]
    },
    {
     "name": "stderr",
     "output_type": "stream",
     "text": [
      "\r",
      "[Stage 96:===================>                                      (1 + 2) / 3]\r"
     ]
    },
    {
     "name": "stdout",
     "output_type": "stream",
     "text": [
      "RSME: 2207.8622726957715\n",
      "R2: 0.16428020665256293\n"
     ]
    },
    {
     "name": "stderr",
     "output_type": "stream",
     "text": [
      "\r",
      "                                                                                \r"
     ]
    }
   ],
   "source": [
    "reRunLinearRegression(final_data)"
   ]
  },
  {
   "cell_type": "code",
   "execution_count": 24,
   "id": "cae0d458",
   "metadata": {},
   "outputs": [],
   "source": [
    "# decrease features even more\n",
    "assembler = VectorAssembler(\n",
    "    inputCols=[\"Total Household Income\", \n",
    "                \"Household Head Sex Index\",\n",
    "                \"Household Head Marital Status Index\"],\n",
    "    outputCol=\"features\")\n",
    "output_less = assembler.transform(newstats)\n",
    "final_data_less = output_less.select(\"features\",'Medical Care Expenditure')"
   ]
  },
  {
   "cell_type": "code",
   "execution_count": 25,
   "id": "ef9d3fb1",
   "metadata": {},
   "outputs": [
    {
     "name": "stderr",
     "output_type": "stream",
     "text": [
      "22/10/12 23:22:14 WARN Instrumentation: [216ab858] regParam is zero, which might cause numerical instability and overfitting.\n",
      "                                                                                \r"
     ]
    },
    {
     "name": "stdout",
     "output_type": "stream",
     "text": [
      "Coefficients: [0.007025763647520401,495.55733489837036,-64.47663127310045] Intercept: 463.01017313582446\n",
      "RSME: 2217.3935035916875\n",
      "R2: 0.11421762692043569\n"
     ]
    },
    {
     "name": "stderr",
     "output_type": "stream",
     "text": [
      "\r",
      "[Stage 102:===================>                                     (1 + 2) / 3]\r",
      "\r",
      "                                                                                \r"
     ]
    }
   ],
   "source": [
    "reRunLinearRegression(final_data_less)"
   ]
  },
  {
   "cell_type": "code",
   "execution_count": 26,
   "id": "51224503",
   "metadata": {},
   "outputs": [
    {
     "name": "stderr",
     "output_type": "stream",
     "text": [
      "22/10/12 23:22:54 WARN Instrumentation: [b0f8e2b6] regParam is zero, which might cause numerical instability and overfitting.\n"
     ]
    },
    {
     "name": "stdout",
     "output_type": "stream",
     "text": [
      "Coefficients: [0.006929307431082134,518.8246771736665,-98.52419002169329] Intercept: 470.4773499380054\n",
      "RSME: 2293.825360981248\n",
      "R2: 0.11187260718014502\n"
     ]
    }
   ],
   "source": [
    "reRunLinearRegression(final_data_less)"
   ]
  },
  {
   "cell_type": "code",
   "execution_count": 29,
   "id": "397da2b4",
   "metadata": {},
   "outputs": [],
   "source": [
    "# decrease features even more\n",
    "assembler = VectorAssembler(\n",
    "    inputCols=[ \"Household Head Sex Index\"],\n",
    "    outputCol=\"features\")\n",
    "output_less = assembler.transform(newstats)\n",
    "final_data_less = output_less.select(\"features\",'Medical Care Expenditure')"
   ]
  },
  {
   "cell_type": "code",
   "execution_count": 30,
   "id": "493f6a12",
   "metadata": {},
   "outputs": [
    {
     "name": "stderr",
     "output_type": "stream",
     "text": [
      "22/10/12 23:23:51 WARN Instrumentation: [5ae3c8a7] regParam is zero, which might cause numerical instability and overfitting.\n",
      "                                                                                \r"
     ]
    },
    {
     "name": "stdout",
     "output_type": "stream",
     "text": [
      "Coefficients: [453.67625579375994] Intercept: 1714.5161054554942\n",
      "RSME: 2357.922133114929\n",
      "R2: 0.005362347117791488\n"
     ]
    }
   ],
   "source": [
    "reRunLinearRegression(final_data_less)"
   ]
  },
  {
   "cell_type": "code",
   "execution_count": 31,
   "id": "fd14716b",
   "metadata": {},
   "outputs": [
    {
     "name": "stderr",
     "output_type": "stream",
     "text": [
      "22/10/12 23:28:17 WARN Instrumentation: [da200aa6] regParam is zero, which might cause numerical instability and overfitting.\n",
      "                                                                                \r"
     ]
    },
    {
     "name": "stdout",
     "output_type": "stream",
     "text": [
      "Coefficients: [410.6295331129269] Intercept: 1701.9412935323385\n",
      "RSME: 2414.908319728122\n",
      "R2: 0.007645754319077991\n"
     ]
    }
   ],
   "source": [
    "reRunLinearRegression(final_data_less)"
   ]
  },
  {
   "cell_type": "code",
   "execution_count": null,
   "id": "2b6e746a",
   "metadata": {},
   "outputs": [],
   "source": []
  }
 ],
 "metadata": {
  "kernelspec": {
   "display_name": "Python 3 (ipykernel)",
   "language": "python",
   "name": "python3"
  },
  "language_info": {
   "codemirror_mode": {
    "name": "ipython",
    "version": 3
   },
   "file_extension": ".py",
   "mimetype": "text/x-python",
   "name": "python",
   "nbconvert_exporter": "python",
   "pygments_lexer": "ipython3",
   "version": "3.10.4"
  }
 },
 "nbformat": 4,
 "nbformat_minor": 5
}
