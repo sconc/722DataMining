{
 "cells": [
  {
   "cell_type": "markdown",
   "id": "c60f3d7d",
   "metadata": {},
   "source": [
    "### Tree Methods"
   ]
  },
  {
   "cell_type": "code",
   "execution_count": 1,
   "id": "41a5cc6b",
   "metadata": {},
   "outputs": [
    {
     "name": "stderr",
     "output_type": "stream",
     "text": [
      "WARNING: An illegal reflective access operation has occurred\n",
      "WARNING: Illegal reflective access by org.apache.spark.unsafe.Platform (file:/home/ubuntu/spark-3.2.1-bin-hadoop2.7/jars/spark-unsafe_2.12-3.2.1.jar) to constructor java.nio.DirectByteBuffer(long,int)\n",
      "WARNING: Please consider reporting this to the maintainers of org.apache.spark.unsafe.Platform\n",
      "WARNING: Use --illegal-access=warn to enable warnings of further illegal reflective access operations\n",
      "WARNING: All illegal access operations will be denied in a future release\n",
      "Using Spark's default log4j profile: org/apache/spark/log4j-defaults.properties\n",
      "Setting default log level to \"WARN\".\n",
      "To adjust logging level use sc.setLogLevel(newLevel). For SparkR, use setLogLevel(newLevel).\n",
      "22/10/13 00:21:30 WARN NativeCodeLoader: Unable to load native-hadoop library for your platform... using builtin-java classes where applicable\n",
      "22/10/13 00:21:32 WARN Utils: Service 'SparkUI' could not bind on port 4040. Attempting port 4041.\n"
     ]
    }
   ],
   "source": [
    "# Must be included at the beginning of each new notebook. Remember to change the app name.\n",
    "import findspark\n",
    "findspark.init('/home/ubuntu/spark-3.2.1-bin-hadoop2.7')\n",
    "import pyspark\n",
    "from pyspark.sql import SparkSession\n",
    "spark = SparkSession.builder.appName('722TreeMethods').getOrCreate()\n",
    "\n",
    "# import other packages\n",
    "import pyspark.sql.functions as F\n",
    "from pyspark.ml.feature import StringIndexer\n",
    "from pyspark.ml import Pipeline\n",
    "from pyspark.sql.types import (StructField,StringType,IntegerType,StructType)\n",
    "\n",
    "# Import VectorAssembler and Vectors\n",
    "from pyspark.ml.linalg import Vectors\n",
    "from pyspark.ml.feature import VectorAssembler"
   ]
  },
  {
   "cell_type": "markdown",
   "id": "6c748c5b",
   "metadata": {},
   "source": [
    " Load Data"
   ]
  },
  {
   "cell_type": "code",
   "execution_count": 2,
   "id": "84eceec5",
   "metadata": {},
   "outputs": [],
   "source": [
    "# integrate the 2 sources\n",
    "# code adapted from https://www.geeksforgeeks.org/merge-two-dataframes-in-pyspark/\n",
    "import functools \n",
    "def unionAll(dfs):\n",
    "    return functools.reduce(lambda df1, df2: df1.union(df2.select(df1.columns)), dfs)"
   ]
  },
  {
   "cell_type": "code",
   "execution_count": 3,
   "id": "068f5b36",
   "metadata": {},
   "outputs": [],
   "source": [
    "# create a variable with the correct structure\n",
    "data_schema = [StructField('Total Household Income',IntegerType(),True), StructField('Region',StringType(),True),\n",
    "              StructField('Total Food Expenditure',IntegerType(),True), StructField('Main Source of Income',StringType(),True),\n",
    "              StructField('Agricultural Household indicator',IntegerType(),True), StructField('Bread and Cereals Expenditure',IntegerType(),True),\n",
    "              StructField('Total Rice Expenditure',IntegerType(),True), StructField('Meat Expenditure',IntegerType(),True),\n",
    "              StructField('Total Fish and  marine products Expenditure',IntegerType(),True), StructField('Fruit Expenditure',IntegerType(),True),\n",
    "              StructField('Vegetables Expenditure',IntegerType(),True), StructField('Restaurant and hotels Expenditure',IntegerType(),True),\n",
    "              StructField('Alcoholic Beverages Expenditure',IntegerType(),True), StructField('Tobacco Expenditure',IntegerType(),True),\n",
    "              StructField('Clothing, Footwear and Other Wear Expenditure',IntegerType(),True), StructField('Housing and water Expenditure',IntegerType(),True),\n",
    "              StructField('Imputed House Rental Value',IntegerType(),True), StructField('Medical Care Expenditure',IntegerType(),True),\n",
    "              StructField('Transportation Expenditure',IntegerType(),True), StructField('Communication Expenditure',IntegerType(),True),\n",
    "              StructField('Education Expenditure',IntegerType(),True), StructField('Miscellaneous Goods and Services Expenditure',IntegerType(),True),\n",
    "              StructField('Special Occasions Expenditure',IntegerType(),True), StructField('Crop Farming and Gardening expenses',IntegerType(),True),\n",
    "              StructField('Total Income from Entrepreneurial Acitivites',IntegerType(),True), StructField('Household Head Sex',StringType(),True),\n",
    "              StructField('Household Head Age',IntegerType(),True), StructField('Household Head Marital Status',StringType(),True),\n",
    "              StructField('Household Head Highest Grade Completed',StringType(),True), StructField('Household Head Job or Business Indicator',StringType(),True),\n",
    "              StructField('Household Head Occupation',StringType(),True), StructField('Household Head Class of Worker',StringType(),True),\n",
    "              StructField('Type of Household',StringType(),True), StructField('Total Number of Family members',IntegerType(),True),\n",
    "              StructField('Members with age less than 5 year old',IntegerType(),True), StructField('Members with age 5 - 17 years old',IntegerType(),True),\n",
    "              StructField('Total number of family members employed',IntegerType(),True), StructField('Type of Building/House',StringType(),True),\n",
    "              StructField('Type of Roof',StringType(),True), StructField('Type of Walls',StringType(),True),\n",
    "              StructField('House Floor Area',IntegerType(),True), StructField('House Age',IntegerType(),True),\n",
    "              StructField('Number of bedrooms',IntegerType(),True), StructField('Tenure Status',StringType(),True),\n",
    "              StructField('Toilet Facilities',StringType(),True), StructField('Electricity',IntegerType(),True),\n",
    "              StructField('Main Source of Water Supply',StringType(),True), StructField('Number of Television',IntegerType(),True),\n",
    "              StructField('Number of CD/VCD/DVD',IntegerType(),True), StructField('Number of Component/Stereo set',IntegerType(),True),\n",
    "              StructField('Number of Refrigerator/Freezer',IntegerType(),True), StructField('Number of Washing Machine',IntegerType(),True),\n",
    "              StructField('Number of Airconditioner',IntegerType(),True), StructField('Number of Car, Jeep, Van',IntegerType(),True),\n",
    "              StructField('Number of Landline/wireless telephones',IntegerType(),True), StructField('Number of Cellular phone',IntegerType(),True),\n",
    "              StructField('Number of Personal Computer',IntegerType(),True), StructField('Number of Stove with Oven/Gas Range',IntegerType(),True),\n",
    "              StructField('Number of Motorized Banca',IntegerType(),True), StructField('Number of Motorcycle/Tricycle',IntegerType(),True)\n",
    "              ]\n",
    "\n",
    "final_struct = StructType(fields=data_schema)"
   ]
  },
  {
   "cell_type": "code",
   "execution_count": 4,
   "id": "eb45bc60",
   "metadata": {},
   "outputs": [
    {
     "name": "stderr",
     "output_type": "stream",
     "text": [
      "[Stage 0:===================>                                       (1 + 2) / 3]\r"
     ]
    },
    {
     "name": "stdout",
     "output_type": "stream",
     "text": [
      "Combined dataset with updated dtypes: 41544 x 60\n",
      "root\n",
      " |-- Total Household Income: integer (nullable = true)\n",
      " |-- Region: string (nullable = true)\n",
      " |-- Total Food Expenditure: integer (nullable = true)\n",
      " |-- Main Source of Income: string (nullable = true)\n",
      " |-- Agricultural Household indicator: integer (nullable = true)\n",
      " |-- Bread and Cereals Expenditure: integer (nullable = true)\n",
      " |-- Total Rice Expenditure: integer (nullable = true)\n",
      " |-- Meat Expenditure: integer (nullable = true)\n",
      " |-- Total Fish and  marine products Expenditure: integer (nullable = true)\n",
      " |-- Fruit Expenditure: integer (nullable = true)\n",
      " |-- Vegetables Expenditure: integer (nullable = true)\n",
      " |-- Restaurant and hotels Expenditure: integer (nullable = true)\n",
      " |-- Alcoholic Beverages Expenditure: integer (nullable = true)\n",
      " |-- Tobacco Expenditure: integer (nullable = true)\n",
      " |-- Clothing, Footwear and Other Wear Expenditure: integer (nullable = true)\n",
      " |-- Housing and water Expenditure: integer (nullable = true)\n",
      " |-- Imputed House Rental Value: integer (nullable = true)\n",
      " |-- Medical Care Expenditure: integer (nullable = true)\n",
      " |-- Transportation Expenditure: integer (nullable = true)\n",
      " |-- Communication Expenditure: integer (nullable = true)\n",
      " |-- Education Expenditure: integer (nullable = true)\n",
      " |-- Miscellaneous Goods and Services Expenditure: integer (nullable = true)\n",
      " |-- Special Occasions Expenditure: integer (nullable = true)\n",
      " |-- Crop Farming and Gardening expenses: integer (nullable = true)\n",
      " |-- Total Income from Entrepreneurial Acitivites: integer (nullable = true)\n",
      " |-- Household Head Sex: string (nullable = true)\n",
      " |-- Household Head Age: integer (nullable = true)\n",
      " |-- Household Head Marital Status: string (nullable = true)\n",
      " |-- Household Head Highest Grade Completed: string (nullable = true)\n",
      " |-- Household Head Job or Business Indicator: string (nullable = true)\n",
      " |-- Household Head Occupation: string (nullable = true)\n",
      " |-- Household Head Class of Worker: string (nullable = true)\n",
      " |-- Type of Household: string (nullable = true)\n",
      " |-- Total Number of Family members: integer (nullable = true)\n",
      " |-- Members with age less than 5 year old: integer (nullable = true)\n",
      " |-- Members with age 5 - 17 years old: integer (nullable = true)\n",
      " |-- Total number of family members employed: integer (nullable = true)\n",
      " |-- Type of Building/House: string (nullable = true)\n",
      " |-- Type of Roof: string (nullable = true)\n",
      " |-- Type of Walls: string (nullable = true)\n",
      " |-- House Floor Area: integer (nullable = true)\n",
      " |-- House Age: integer (nullable = true)\n",
      " |-- Number of bedrooms: integer (nullable = true)\n",
      " |-- Tenure Status: string (nullable = true)\n",
      " |-- Toilet Facilities: string (nullable = true)\n",
      " |-- Electricity: integer (nullable = true)\n",
      " |-- Main Source of Water Supply: string (nullable = true)\n",
      " |-- Number of Television: integer (nullable = true)\n",
      " |-- Number of CD/VCD/DVD: integer (nullable = true)\n",
      " |-- Number of Component/Stereo set: integer (nullable = true)\n",
      " |-- Number of Refrigerator/Freezer: integer (nullable = true)\n",
      " |-- Number of Washing Machine: integer (nullable = true)\n",
      " |-- Number of Airconditioner: integer (nullable = true)\n",
      " |-- Number of Car, Jeep, Van: integer (nullable = true)\n",
      " |-- Number of Landline/wireless telephones: integer (nullable = true)\n",
      " |-- Number of Cellular phone: integer (nullable = true)\n",
      " |-- Number of Personal Computer: integer (nullable = true)\n",
      " |-- Number of Stove with Oven/Gas Range: integer (nullable = true)\n",
      " |-- Number of Motorized Banca: integer (nullable = true)\n",
      " |-- Number of Motorcycle/Tricycle: integer (nullable = true)\n",
      "\n"
     ]
    },
    {
     "name": "stderr",
     "output_type": "stream",
     "text": [
      "\r",
      "                                                                                \r"
     ]
    }
   ],
   "source": [
    "# And now we can read in the data using that schema. The other fields are read as integer. \n",
    "df1 = spark.read.option(\"header\", True).csv('dataset/data_ncr.csv', schema=final_struct)\n",
    "df2 = spark.read.option(\"header\", True).csv('dataset/data_therest.csv', schema=final_struct)\n",
    "statsdata = unionAll([df1, df2])\n",
    "\n",
    "print(\"Combined dataset with updated dtypes:\", statsdata.count(), \"x\", len(statsdata.columns))\n",
    "statsdata.printSchema()"
   ]
  },
  {
   "cell_type": "markdown",
   "id": "5d6d3f78",
   "metadata": {},
   "source": [
    "Clean Data"
   ]
  },
  {
   "cell_type": "code",
   "execution_count": 5,
   "id": "f9c1140d",
   "metadata": {},
   "outputs": [
    {
     "name": "stdout",
     "output_type": "stream",
     "text": [
      "Updated dimensions after removing 32 columns: 41544 x 29\n"
     ]
    },
    {
     "name": "stderr",
     "output_type": "stream",
     "text": [
      "                                                                                \r"
     ]
    },
    {
     "name": "stdout",
     "output_type": "stream",
     "text": [
      "root\n",
      " |-- Total Household Income: integer (nullable = true)\n",
      " |-- Main Source of Income: string (nullable = false)\n",
      " |-- Agricultural Household indicator: integer (nullable = true)\n",
      " |-- Imputed House Rental Value: integer (nullable = true)\n",
      " |-- Medical Care Expenditure: integer (nullable = true)\n",
      " |-- Total Income from Entrepreneurial Activities: integer (nullable = true)\n",
      " |-- Household Head Sex: string (nullable = false)\n",
      " |-- Household Head Age: integer (nullable = true)\n",
      " |-- Household Head Marital Status: string (nullable = false)\n",
      " |-- Household Head Highest Grade Completed: string (nullable = false)\n",
      " |-- Household Head Job or Business Indicator: string (nullable = false)\n",
      " |-- Household Head Occupation: string (nullable = false)\n",
      " |-- Household Head Class of Worker: string (nullable = false)\n",
      " |-- Type of Household: string (nullable = false)\n",
      " |-- Total Number of Family members: integer (nullable = true)\n",
      " |-- Members with age less than 5 year old: integer (nullable = true)\n",
      " |-- Members with age 5 - 17 years old: integer (nullable = true)\n",
      " |-- Total number of family members employed: integer (nullable = true)\n",
      " |-- Type of Building/House: string (nullable = false)\n",
      " |-- Type of Roof: string (nullable = false)\n",
      " |-- Type of Walls: string (nullable = false)\n",
      " |-- House Floor Area: integer (nullable = true)\n",
      " |-- House Age: integer (nullable = true)\n",
      " |-- Number of bedrooms: integer (nullable = true)\n",
      " |-- Tenure Status: string (nullable = false)\n",
      " |-- Toilet Facilities: string (nullable = false)\n",
      " |-- Electricity: integer (nullable = true)\n",
      " |-- Main Source of Water Supply: string (nullable = false)\n",
      " |-- Total Expenditures: integer (nullable = true)\n",
      " |-- Main Source of Income Index: double (nullable = false)\n",
      " |-- Household Head Sex Index: double (nullable = false)\n",
      " |-- Household Head Marital Status Index: double (nullable = false)\n",
      " |-- Household Head Highest Grade Completed Index: double (nullable = false)\n",
      " |-- Household Head Job or Business Indicator Index: double (nullable = false)\n",
      " |-- Household Head Occupation Index: double (nullable = false)\n",
      " |-- Household Head Class of Worker Index: double (nullable = false)\n",
      " |-- Type of Household Index: double (nullable = false)\n",
      " |-- Type of Building/House Index: double (nullable = false)\n",
      " |-- Type of Roof Index: double (nullable = false)\n",
      " |-- Type of Walls Index: double (nullable = false)\n",
      " |-- Tenure Status Index: double (nullable = false)\n",
      " |-- Toilet Facilities Index: double (nullable = false)\n",
      " |-- Main Source of Water Supply Index: double (nullable = false)\n",
      "\n"
     ]
    }
   ],
   "source": [
    "# Drop columns\n",
    "Columns_To_Remove = ['Region', 'Number of Television', 'Number of CD/VCD/DVD', 'Number of Component/Stereo set', \n",
    "                     'Number of Refrigerator/Freezer', 'Number of Washing Machine', 'Number of Airconditioner', \n",
    "                     'Number of Car, Jeep, Van', 'Number of Landline/wireless telephones', 'Number of Cellular phone', \n",
    "                     'Number of Personal Computer', 'Number of Stove with Oven/Gas Range', 'Number of Motorized Banca', \n",
    "                     'Number of Motorcycle/Tricycle']\n",
    "statsupdate = statsdata.drop(*Columns_To_Remove)\n",
    "\n",
    "# Add New Column with Total Expenses\n",
    "expenses_cols = ['Total Food Expenditure', 'Bread and Cereals Expenditure', 'Total Rice Expenditure', 'Meat Expenditure', 'Total Fish and  marine products Expenditure', 'Fruit Expenditure', 'Vegetables Expenditure', 'Restaurant and hotels Expenditure', 'Alcoholic Beverages Expenditure', 'Tobacco Expenditure', 'Clothing, Footwear and Other Wear Expenditure', 'Housing and water Expenditure', 'Medical Care Expenditure', 'Transportation Expenditure', 'Communication Expenditure', 'Education Expenditure', 'Miscellaneous Goods and Services Expenditure', 'Special Occasions Expenditure', 'Crop Farming and Gardening expenses']\n",
    "statsupdate = statsupdate.withColumn('Total Expenditures', sum(statsupdate[col] for col in expenses_cols))\n",
    "\n",
    "# Drop the other expenses columns, except Medical Care Expenditure\n",
    "expenses_cols.remove('Medical Care Expenditure')\n",
    "statsupdate = statsupdate.drop(*expenses_cols)\n",
    "print(\"Updated dimensions after removing\",len(expenses_cols)+len(Columns_To_Remove),\"columns:\",statsupdate.count(), \"x\", len(statsupdate.columns))\n",
    "\n",
    "# remove na/nulls\n",
    "statsupdate = statsupdate.na.fill('Not Specified')\n",
    "\n",
    "# remove outliers\n",
    "# calculate upper and lower bounds for outliers, adapted from internet\n",
    "def calculate_bounds(df):\n",
    "    bounds = {\n",
    "        c: dict(\n",
    "            zip([\"q1\", \"q3\"], df.approxQuantile(c, [0.25, 0.75], 0))\n",
    "        )\n",
    "        for c,d in zip(df.columns, df.dtypes) if d[1] == \"int\"\n",
    "    }\n",
    "    for c in bounds:\n",
    "        iqr = bounds[c]['q3'] - bounds[c]['q1']\n",
    "        bounds[c]['min'] = bounds[c]['q1'] - (iqr * 1.5)\n",
    "        bounds[c]['max'] = bounds[c]['q3'] + (iqr * 1.5)\n",
    "    return bounds\n",
    "bounds = calculate_bounds(statsupdate)\n",
    "\n",
    "# remove outliers for \"Total Household Income\"\n",
    "c = \"Total Household Income\"\n",
    "newstats = statsupdate.filter(F.col(c).between(bounds[c]['min'], bounds[c]['max']))\n",
    "\n",
    "# remove outliers for \"Medical Care Expenditure\"\n",
    "c = \"Medical Care Expenditure\"\n",
    "newstats = newstats.filter(F.col(c).between(bounds[c]['min'], bounds[c]['max']))\n",
    "\n",
    "# rename misspelled column\n",
    "newstats = newstats.withColumnRenamed(\"Total Income from Entrepreneurial Acitivites\", \"Total Income from Entrepreneurial Activities\")\n",
    "\n",
    "# categorize\n",
    "#create a list of the columns that are string types\n",
    "categoricalColumns = [item[0] for item in newstats.dtypes if item[1].startswith('string') ]\n",
    "\n",
    "#define a list of stages in your pipeline. The string indexer will be one stage\n",
    "stages = []\n",
    "#iterate through all categorical values, create a string indexer, assign new column name with 'Index' at end\n",
    "for categoricalCol in categoricalColumns:\n",
    "    stringIndexer = StringIndexer(inputCol = categoricalCol, outputCol = categoricalCol + ' Index')\n",
    "    stages += [stringIndexer]\n",
    "\n",
    "pipeline = Pipeline(stages = stages)\n",
    "newstats = pipeline.fit(newstats).transform(newstats)\n",
    "\n",
    "newstats.printSchema()"
   ]
  },
  {
   "cell_type": "markdown",
   "id": "1d44de9d",
   "metadata": {},
   "source": [
    "### Run Tree Methods Classifiers"
   ]
  },
  {
   "cell_type": "code",
   "execution_count": 6,
   "id": "be55f2a3",
   "metadata": {},
   "outputs": [],
   "source": [
    "from pyspark.ml.classification import DecisionTreeClassifier,GBTClassifier,RandomForestClassifier\n"
   ]
  },
  {
   "cell_type": "markdown",
   "id": "dc1e3e87",
   "metadata": {},
   "source": [
    "Prepare Data Formats"
   ]
  },
  {
   "cell_type": "code",
   "execution_count": 7,
   "id": "7c873b87",
   "metadata": {},
   "outputs": [],
   "source": [
    "assembler = VectorAssembler(\n",
    "    inputCols=[\"Total Household Income\", \"Main Source of Income Index\", \n",
    "            \"Agricultural Household indicator\",\"Imputed House Rental Value\",\n",
    "            \"Total Income from Entrepreneurial Activities\",\n",
    "            \"Household Head Age\", \"Total Number of Family members\",\n",
    "            \"Members with age less than 5 year old\",\"Members with age 5 - 17 years old\",\n",
    "            \"Total number of family members employed\", \"House Floor Area\",\n",
    "             \"House Age\",\"Number of bedrooms\",\n",
    "             \"Electricity\",\"Total Expenditures\",\n",
    "             \"Main Source of Income Index\",\"Household Head Sex Index\",\n",
    "             \"Household Head Marital Status Index\",\"Household Head Highest Grade Completed Index\",\n",
    "             \"Household Head Job or Business Indicator Index\",\n",
    "             \"Household Head Class of Worker Index\",\"Type of Household Index\",\n",
    "             \"Type of Building/House Index\",\"Type of Roof Index\",\"Type of Walls Index\",\n",
    "             \"Tenure Status Index\",\"Toilet Facilities Index\",\n",
    "             \"Main Source of Water Supply Index\"],\n",
    "    outputCol=\"features\")\n",
    "output = assembler.transform(newstats)\n",
    "\n",
    "labelIndexer = StringIndexer(inputCol = \"Medical Care Expenditure\", outputCol = \"Medical Care Expenditure Label\")\n",
    "\n",
    "output = labelIndexer.fit(output).transform(output)\n"
   ]
  },
  {
   "cell_type": "code",
   "execution_count": 8,
   "id": "ffddafb6",
   "metadata": {},
   "outputs": [],
   "source": [
    "# Let's select the two columns we want. Features (which contains vectors), and the predictor.\n",
    "final_data = output.select(\"features\",'Medical Care Expenditure Label')"
   ]
  },
  {
   "cell_type": "code",
   "execution_count": 9,
   "id": "f9398547",
   "metadata": {},
   "outputs": [
    {
     "name": "stdout",
     "output_type": "stream",
     "text": [
      "root\n",
      " |-- features: vector (nullable = true)\n",
      " |-- Medical Care Expenditure Label: double (nullable = false)\n",
      "\n"
     ]
    },
    {
     "name": "stderr",
     "output_type": "stream",
     "text": [
      "22/10/13 00:22:04 WARN package: Truncated the string representation of a plan since it was too large. This behavior can be adjusted by setting 'spark.sql.debug.maxToStringFields'.\n"
     ]
    },
    {
     "data": {
      "text/plain": [
       "Row(features=SparseVector(28, {0: 301900.0, 3: 72000.0, 5: 73.0, 6: 4.0, 9: 1.0, 10: 25.0, 11: 15.0, 12: 2.0, 13: 1.0, 14: 381306.0, 16: 1.0, 17: 1.0, 18: 1.0, 19: 1.0, 20: 2.0, 21: 1.0}), Medical Care Expenditure Label=54.0)"
      ]
     },
     "execution_count": 9,
     "metadata": {},
     "output_type": "execute_result"
    }
   ],
   "source": [
    "final_data.printSchema()\n",
    "final_data.head()"
   ]
  },
  {
   "cell_type": "code",
   "execution_count": 10,
   "id": "cea8a330",
   "metadata": {},
   "outputs": [],
   "source": [
    "train_data,test_data = final_data.randomSplit([0.7,0.3])"
   ]
  },
  {
   "cell_type": "markdown",
   "id": "9bab5d32",
   "metadata": {},
   "source": [
    "Create and Train Models"
   ]
  },
  {
   "cell_type": "code",
   "execution_count": 11,
   "id": "bc42334d",
   "metadata": {},
   "outputs": [],
   "source": [
    "# create all 3 models\n",
    "# Use defaults to make the comparison \"fair\". This simplifies the comparison process.\n",
    "dtc = DecisionTreeClassifier(labelCol='Medical Care Expenditure Label',featuresCol='features', maxBins=46)\n",
    "rfc = RandomForestClassifier(labelCol='Medical Care Expenditure Label',featuresCol='features',  maxBins=46)\n",
    "# gbt = GBTClassifier(labelCol='Medical Care Expenditure Label',featuresCol='features',  maxBins=46)"
   ]
  },
  {
   "cell_type": "code",
   "execution_count": 12,
   "id": "33ff39fd",
   "metadata": {},
   "outputs": [
    {
     "name": "stderr",
     "output_type": "stream",
     "text": [
      "22/10/13 00:22:21 WARN DAGScheduler: Broadcasting large task binary with size 1531.5 KiB\n",
      "22/10/13 00:22:25 WARN DAGScheduler: Broadcasting large task binary with size 2.6 MiB\n",
      "22/10/13 00:22:31 WARN DAGScheduler: Broadcasting large task binary with size 4.0 MiB\n",
      "22/10/13 00:22:41 WARN DAGScheduler: Broadcasting large task binary with size 3.5 MiB\n",
      "22/10/13 00:22:42 WARN DAGScheduler: Broadcasting large task binary with size 2.1 MiB\n",
      "22/10/13 00:22:47 WARN DAGScheduler: Broadcasting large task binary with size 5.5 MiB\n",
      "22/10/13 00:22:48 WARN DAGScheduler: Broadcasting large task binary with size 2.2 MiB\n",
      "22/10/13 00:22:53 WARN DAGScheduler: Broadcasting large task binary with size 8.0 MiB\n",
      "22/10/13 00:22:54 WARN DAGScheduler: Broadcasting large task binary with size 2.4 MiB\n",
      "22/10/13 00:22:59 WARN DAGScheduler: Broadcasting large task binary with size 9.4 MiB\n",
      "22/10/13 00:23:01 WARN DAGScheduler: Broadcasting large task binary with size 2.4 MiB\n",
      "22/10/13 00:23:05 WARN DAGScheduler: Broadcasting large task binary with size 9.2 MiB\n",
      "22/10/13 00:23:07 WARN DAGScheduler: Broadcasting large task binary with size 2.4 MiB\n",
      "22/10/13 00:23:11 WARN DAGScheduler: Broadcasting large task binary with size 7.7 MiB\n",
      "22/10/13 00:23:12 WARN DAGScheduler: Broadcasting large task binary with size 2.3 MiB\n",
      "22/10/13 00:23:16 WARN DAGScheduler: Broadcasting large task binary with size 9.2 MiB\n",
      "22/10/13 00:23:18 WARN DAGScheduler: Broadcasting large task binary with size 2.6 MiB\n",
      "22/10/13 00:23:22 WARN DAGScheduler: Broadcasting large task binary with size 8.6 MiB\n",
      "22/10/13 00:23:24 WARN DAGScheduler: Broadcasting large task binary with size 2.2 MiB\n",
      "22/10/13 00:23:28 WARN DAGScheduler: Broadcasting large task binary with size 8.6 MiB\n",
      "22/10/13 00:23:31 WARN DAGScheduler: Broadcasting large task binary with size 2.6 MiB\n",
      "22/10/13 00:23:36 WARN DAGScheduler: Broadcasting large task binary with size 12.9 MiB\n",
      "22/10/13 00:23:37 WARN DAGScheduler: Broadcasting large task binary with size 2.5 MiB\n",
      "22/10/13 00:23:42 WARN DAGScheduler: Broadcasting large task binary with size 7.7 MiB\n",
      "22/10/13 00:23:44 WARN DAGScheduler: Broadcasting large task binary with size 2.2 MiB\n",
      "22/10/13 00:23:49 WARN DAGScheduler: Broadcasting large task binary with size 6.4 MiB\n",
      "22/10/13 00:23:50 WARN DAGScheduler: Broadcasting large task binary with size 1638.2 KiB\n",
      "22/10/13 00:23:53 WARN DAGScheduler: Broadcasting large task binary with size 2.7 MiB\n",
      "                                                                                \r"
     ]
    }
   ],
   "source": [
    "# Train the models (it's three models, so it might take some time).\n",
    "dtc_model = dtc.fit(train_data)\n",
    "rfc_model = rfc.fit(train_data)\n",
    "#gbt_model = gbt.fit(train_data)"
   ]
  },
  {
   "cell_type": "code",
   "execution_count": 13,
   "id": "0d59a686",
   "metadata": {},
   "outputs": [],
   "source": [
    "# Model Comparison - compare each of these models\n",
    "dtc_predictions = dtc_model.transform(test_data)\n",
    "rfc_predictions = rfc_model.transform(test_data)\n",
    "# gbt_predictions = gbt_model.transform(test_data)"
   ]
  },
  {
   "cell_type": "code",
   "execution_count": 14,
   "id": "344519be",
   "metadata": {},
   "outputs": [],
   "source": [
    "# Let's import the evaluator.\n",
    "from pyspark.ml.evaluation import MulticlassClassificationEvaluator"
   ]
  },
  {
   "cell_type": "code",
   "execution_count": 15,
   "id": "b28fde2b",
   "metadata": {},
   "outputs": [],
   "source": [
    "# Select (prediction, true label) and compute test error. \n",
    "acc_evaluator = MulticlassClassificationEvaluator(labelCol=\"Medical Care Expenditure Label\", predictionCol=\"prediction\", metricName=\"accuracy\")"
   ]
  },
  {
   "cell_type": "code",
   "execution_count": 16,
   "id": "99ffdfd5",
   "metadata": {},
   "outputs": [
    {
     "name": "stderr",
     "output_type": "stream",
     "text": [
      "22/10/13 00:23:57 WARN DAGScheduler: Broadcasting large task binary with size 1965.4 KiB\n",
      "22/10/13 00:24:02 WARN DAGScheduler: Broadcasting large task binary with size 49.5 MiB\n",
      "                                                                                \r"
     ]
    }
   ],
   "source": [
    "dtc_acc = acc_evaluator.evaluate(dtc_predictions)\n",
    "rfc_acc = acc_evaluator.evaluate(rfc_predictions)\n",
    "#gbt_acc = acc_evaluator.evaluate(gbt_predictions)"
   ]
  },
  {
   "cell_type": "code",
   "execution_count": 17,
   "id": "ce2f4d10",
   "metadata": {},
   "outputs": [
    {
     "name": "stdout",
     "output_type": "stream",
     "text": [
      "Here are the results!\n",
      "----------------------------------------\n",
      "A single decision tree has an accuracy of: 4.32%\n",
      "----------------------------------------\n",
      "A random forest ensemble has an accuracy of: 4.30%\n",
      "----------------------------------------\n"
     ]
    }
   ],
   "source": [
    "# Let's do something a bit more complex in terms of printing, just so it's formatted nicer. \n",
    "print(\"Here are the results!\")\n",
    "print('-'*40)\n",
    "print('A single decision tree has an accuracy of: {0:2.2f}%'.format(dtc_acc*100))\n",
    "print('-'*40)\n",
    "print('A random forest ensemble has an accuracy of: {0:2.2f}%'.format(rfc_acc*100))\n",
    "print('-'*40)\n",
    "#print('An ensemble using GBT has an accuracy of: {0:2.2f}%'.format(gbt_acc*100))"
   ]
  },
  {
   "cell_type": "code",
   "execution_count": 18,
   "id": "a3e109c4",
   "metadata": {},
   "outputs": [
    {
     "name": "stderr",
     "output_type": "stream",
     "text": [
      "22/10/13 00:24:34 WARN DAGScheduler: Broadcasting large task binary with size 1964.2 KiB\n",
      "                                                                                \r"
     ]
    },
    {
     "name": "stdout",
     "output_type": "stream",
     "text": [
      "+--------------------+------------------------------+--------------------+--------------------+----------+\n",
      "|            features|Medical Care Expenditure Label|       rawPrediction|         probability|prediction|\n",
      "+--------------------+------------------------------+--------------------+--------------------+----------+\n",
      "|(28,[0,1,2,3,4,5,...|                        6007.0|[623.0,114.0,132....|[0.03069721606306...|       0.0|\n",
      "|(28,[0,1,2,3,4,5,...|                        1969.0|[623.0,114.0,132....|[0.03069721606306...|       0.0|\n",
      "|(28,[0,1,2,3,4,5,...|                         423.0|[623.0,114.0,132....|[0.03069721606306...|       0.0|\n",
      "|(28,[0,1,2,3,4,5,...|                        1776.0|[623.0,114.0,132....|[0.03069721606306...|       0.0|\n",
      "|(28,[0,1,2,3,4,5,...|                        3389.0|[623.0,114.0,132....|[0.03069721606306...|       0.0|\n",
      "|(28,[0,1,2,3,4,5,...|                        1086.0|[623.0,114.0,132....|[0.03069721606306...|       0.0|\n",
      "|(28,[0,1,2,3,4,5,...|                          58.0|[623.0,114.0,132....|[0.03069721606306...|       0.0|\n",
      "|(28,[0,1,2,3,4,5,...|                           0.0|[623.0,114.0,132....|[0.03069721606306...|       0.0|\n",
      "|(28,[0,1,2,3,4,5,...|                         656.0|[40.0,2.0,2.0,1.0...|[0.08791208791208...|       0.0|\n",
      "|(28,[0,1,2,3,4,5,...|                        4677.0|[623.0,114.0,132....|[0.03069721606306...|       0.0|\n",
      "|(28,[0,1,2,3,4,5,...|                         765.0|[623.0,114.0,132....|[0.03069721606306...|       0.0|\n",
      "|(28,[0,1,2,3,4,5,...|                          67.0|[623.0,114.0,132....|[0.03069721606306...|       0.0|\n",
      "|(28,[0,1,2,3,4,5,...|                           0.0|[623.0,114.0,132....|[0.03069721606306...|       0.0|\n",
      "|(28,[0,1,2,3,4,5,...|                         980.0|[623.0,114.0,132....|[0.03069721606306...|       0.0|\n",
      "|(28,[0,1,2,3,4,5,...|                         222.0|[623.0,114.0,132....|[0.03069721606306...|       0.0|\n",
      "|(28,[0,1,2,3,4,5,...|                         120.0|[623.0,114.0,132....|[0.03069721606306...|       0.0|\n",
      "|(28,[0,1,2,3,4,5,...|                         221.0|[623.0,114.0,132....|[0.03069721606306...|       0.0|\n",
      "|(28,[0,1,2,3,4,5,...|                        1692.0|[623.0,114.0,132....|[0.03069721606306...|       0.0|\n",
      "|(28,[0,1,2,3,4,5,...|                          29.0|[623.0,114.0,132....|[0.03069721606306...|       0.0|\n",
      "|(28,[0,1,2,3,4,5,...|                        5740.0|[623.0,114.0,132....|[0.03069721606306...|       0.0|\n",
      "+--------------------+------------------------------+--------------------+--------------------+----------+\n",
      "only showing top 20 rows\n",
      "\n"
     ]
    }
   ],
   "source": [
    "dtc_predictions.show()"
   ]
  },
  {
   "cell_type": "code",
   "execution_count": 19,
   "id": "4b343bce",
   "metadata": {},
   "outputs": [
    {
     "name": "stderr",
     "output_type": "stream",
     "text": [
      "22/10/13 00:24:36 WARN DAGScheduler: Broadcasting large task binary with size 49.5 MiB\n",
      "                                                                                \r"
     ]
    },
    {
     "name": "stdout",
     "output_type": "stream",
     "text": [
      "+--------------------+------------------------------+--------------------+--------------------+----------+\n",
      "|            features|Medical Care Expenditure Label|       rawPrediction|         probability|prediction|\n",
      "+--------------------+------------------------------+--------------------+--------------------+----------+\n",
      "|(28,[0,1,2,3,4,5,...|                        6007.0|[0.46197961353058...|[0.02309898067652...|       0.0|\n",
      "|(28,[0,1,2,3,4,5,...|                        1969.0|[0.47998746087590...|[0.02399937304379...|       0.0|\n",
      "|(28,[0,1,2,3,4,5,...|                         423.0|[0.46197961353058...|[0.02309898067652...|       0.0|\n",
      "|(28,[0,1,2,3,4,5,...|                        1776.0|[0.46197961353058...|[0.02309898067652...|       0.0|\n",
      "|(28,[0,1,2,3,4,5,...|                        3389.0|[0.46197961353058...|[0.02309898067652...|       0.0|\n",
      "|(28,[0,1,2,3,4,5,...|                        1086.0|[0.48736449608540...|[0.02436822480427...|       0.0|\n",
      "|(28,[0,1,2,3,4,5,...|                          58.0|[0.45125750615843...|[0.02256287530792...|       0.0|\n",
      "|(28,[0,1,2,3,4,5,...|                           0.0|[0.53410495078489...|[0.02670524753924...|       0.0|\n",
      "|(28,[0,1,2,3,4,5,...|                         656.0|[0.81219022176185...|[0.04060951108809...|       0.0|\n",
      "|(28,[0,1,2,3,4,5,...|                        4677.0|[0.57776441141777...|[0.02888822057088...|       0.0|\n",
      "|(28,[0,1,2,3,4,5,...|                         765.0|[0.57776441141777...|[0.02888822057088...|       0.0|\n",
      "|(28,[0,1,2,3,4,5,...|                          67.0|[0.57776441141777...|[0.02888822057088...|       0.0|\n",
      "|(28,[0,1,2,3,4,5,...|                           0.0|[0.62459160383320...|[0.03122958019166...|       0.0|\n",
      "|(28,[0,1,2,3,4,5,...|                         980.0|[0.57776441141777...|[0.02888822057088...|       0.0|\n",
      "|(28,[0,1,2,3,4,5,...|                         222.0|[0.58568861668293...|[0.02928443083414...|       0.0|\n",
      "|(28,[0,1,2,3,4,5,...|                         120.0|[0.57994057018045...|[0.02899702850902...|       0.0|\n",
      "|(28,[0,1,2,3,4,5,...|                         221.0|[0.60386233961637...|[0.03019311698081...|       0.0|\n",
      "|(28,[0,1,2,3,4,5,...|                        1692.0|[0.60661980854160...|[0.03033099042708...|       0.0|\n",
      "|(28,[0,1,2,3,4,5,...|                          29.0|[0.79910758678991...|[0.03995537933949...|       0.0|\n",
      "|(28,[0,1,2,3,4,5,...|                        5740.0|[0.56150492494556...|[0.02807524624727...|       0.0|\n",
      "+--------------------+------------------------------+--------------------+--------------------+----------+\n",
      "only showing top 20 rows\n",
      "\n"
     ]
    }
   ],
   "source": [
    "rfc_predictions.show()"
   ]
  },
  {
   "cell_type": "code",
   "execution_count": 20,
   "id": "1b079b47",
   "metadata": {},
   "outputs": [],
   "source": [
    "# re-run\n",
    "def reRunTreesClassifiers(final_data):\n",
    "    # split the data\n",
    "    train_data,test_data = final_data.randomSplit([0.7,0.3])\n",
    "    # load the models\n",
    "    dtc = DecisionTreeClassifier(labelCol='Medical Care Expenditure Label',featuresCol='features', maxBins=46)\n",
    "    rfc = RandomForestClassifier(labelCol='Medical Care Expenditure Label',featuresCol='features',  maxBins=46)\n",
    "    # train the data\n",
    "    dtc_model = dtc.fit(train_data)\n",
    "    rfc_model = rfc.fit(train_data)\n",
    "    # predict \n",
    "    dtc_predictions = dtc_model.transform(test_data)\n",
    "    rfc_predictions = rfc_model.transform(test_data)\n",
    "    # measure accuracy\n",
    "    dtc_acc = acc_evaluator.evaluate(dtc_predictions)\n",
    "    rfc_acc = acc_evaluator.evaluate(rfc_predictions)\n",
    "    print(\"Here are the results!\")\n",
    "    print('-'*40)\n",
    "    print('A single decision tree has an accuracy of: {0:2.2f}%'.format(dtc_acc*100))\n",
    "    print('-'*40)\n",
    "    print('A random forest ensemble has an accuracy of: {0:2.2f}%'.format(rfc_acc*100))\n",
    "    print('-'*40)"
   ]
  },
  {
   "cell_type": "code",
   "execution_count": 21,
   "id": "d5fa7a63",
   "metadata": {},
   "outputs": [
    {
     "name": "stderr",
     "output_type": "stream",
     "text": [
      "22/10/13 00:24:47 WARN DAGScheduler: Broadcasting large task binary with size 1564.5 KiB\n",
      "22/10/13 00:24:52 WARN DAGScheduler: Broadcasting large task binary with size 2.8 MiB\n",
      "22/10/13 00:24:58 WARN DAGScheduler: Broadcasting large task binary with size 4.1 MiB\n",
      "22/10/13 00:25:09 WARN DAGScheduler: Broadcasting large task binary with size 3.5 MiB\n",
      "22/10/13 00:25:11 WARN DAGScheduler: Broadcasting large task binary with size 2.1 MiB\n",
      "22/10/13 00:25:14 WARN DAGScheduler: Broadcasting large task binary with size 5.5 MiB\n",
      "22/10/13 00:25:16 WARN DAGScheduler: Broadcasting large task binary with size 2.2 MiB\n",
      "22/10/13 00:25:20 WARN DAGScheduler: Broadcasting large task binary with size 6.9 MiB\n",
      "22/10/13 00:25:22 WARN DAGScheduler: Broadcasting large task binary with size 2.4 MiB\n",
      "22/10/13 00:25:27 WARN DAGScheduler: Broadcasting large task binary with size 9.7 MiB\n",
      "22/10/13 00:25:29 WARN DAGScheduler: Broadcasting large task binary with size 2.4 MiB\n",
      "22/10/13 00:25:34 WARN DAGScheduler: Broadcasting large task binary with size 9.5 MiB\n",
      "22/10/13 00:25:35 WARN DAGScheduler: Broadcasting large task binary with size 2.4 MiB\n",
      "22/10/13 00:25:40 WARN DAGScheduler: Broadcasting large task binary with size 11.1 MiB\n",
      "22/10/13 00:25:42 WARN DAGScheduler: Broadcasting large task binary with size 2.3 MiB\n",
      "22/10/13 00:25:47 WARN DAGScheduler: Broadcasting large task binary with size 9.2 MiB\n",
      "22/10/13 00:25:48 WARN DAGScheduler: Broadcasting large task binary with size 2.5 MiB\n",
      "22/10/13 00:25:53 WARN DAGScheduler: Broadcasting large task binary with size 7.9 MiB\n",
      "22/10/13 00:25:55 WARN DAGScheduler: Broadcasting large task binary with size 2.1 MiB\n",
      "22/10/13 00:26:00 WARN DAGScheduler: Broadcasting large task binary with size 12.0 MiB\n",
      "22/10/13 00:26:02 WARN DAGScheduler: Broadcasting large task binary with size 2.7 MiB\n",
      "22/10/13 00:26:07 WARN DAGScheduler: Broadcasting large task binary with size 9.4 MiB\n",
      "22/10/13 00:26:09 WARN DAGScheduler: Broadcasting large task binary with size 2.5 MiB\n",
      "22/10/13 00:26:14 WARN DAGScheduler: Broadcasting large task binary with size 10.6 MiB\n",
      "22/10/13 00:26:16 WARN DAGScheduler: Broadcasting large task binary with size 2.3 MiB\n",
      "22/10/13 00:26:20 WARN DAGScheduler: Broadcasting large task binary with size 6.6 MiB\n",
      "22/10/13 00:26:21 WARN DAGScheduler: Broadcasting large task binary with size 1269.9 KiB\n",
      "22/10/13 00:26:24 WARN DAGScheduler: Broadcasting large task binary with size 5.5 MiB\n",
      "22/10/13 00:26:25 WARN DAGScheduler: Broadcasting large task binary with size 1322.5 KiB\n",
      "22/10/13 00:26:29 WARN DAGScheduler: Broadcasting large task binary with size 2.4 MiB\n",
      "22/10/13 00:26:34 WARN DAGScheduler: Broadcasting large task binary with size 45.8 MiB\n",
      "[Stage 171:======================================>                  (2 + 1) / 3]\r"
     ]
    },
    {
     "name": "stdout",
     "output_type": "stream",
     "text": [
      "Here are the results!\n",
      "----------------------------------------\n",
      "A single decision tree has an accuracy of: 4.14%\n",
      "----------------------------------------\n",
      "A random forest ensemble has an accuracy of: 4.20%\n",
      "----------------------------------------\n"
     ]
    },
    {
     "name": "stderr",
     "output_type": "stream",
     "text": [
      "\r",
      "                                                                                \r"
     ]
    }
   ],
   "source": [
    "reRunTreesClassifiers(output)"
   ]
  },
  {
   "cell_type": "code",
   "execution_count": 22,
   "id": "35c23541",
   "metadata": {},
   "outputs": [],
   "source": [
    "# decrease features even more\n",
    "assembler = VectorAssembler(\n",
    "    inputCols=[\"Total Household Income\", \n",
    "                \"Household Head Sex Index\",\n",
    "                \"Household Head Marital Status Index\"],\n",
    "    outputCol=\"features\")\n",
    "output_less = assembler.transform(newstats)\n",
    "\n",
    "labelIndexer = StringIndexer(inputCol = \"Medical Care Expenditure\", outputCol = \"Medical Care Expenditure Label\")\n",
    "output_less = labelIndexer.fit(output_less).transform(output_less)\n",
    "final_data_less = output_less.select(\"features\",'Medical Care Expenditure Label')"
   ]
  },
  {
   "cell_type": "code",
   "execution_count": 23,
   "id": "f972cd03",
   "metadata": {},
   "outputs": [
    {
     "name": "stderr",
     "output_type": "stream",
     "text": [
      "22/10/13 00:27:14 WARN DAGScheduler: Broadcasting large task binary with size 1544.6 KiB\n",
      "22/10/13 00:27:15 WARN DAGScheduler: Broadcasting large task binary with size 2.7 MiB\n",
      "22/10/13 00:27:20 WARN DAGScheduler: Broadcasting large task binary with size 3.5 MiB\n",
      "22/10/13 00:27:21 WARN DAGScheduler: Broadcasting large task binary with size 2.1 MiB\n",
      "22/10/13 00:27:22 WARN DAGScheduler: Broadcasting large task binary with size 9.7 MiB\n",
      "22/10/13 00:27:23 WARN DAGScheduler: Broadcasting large task binary with size 4.1 MiB\n",
      "22/10/13 00:27:25 WARN DAGScheduler: Broadcasting large task binary with size 18.8 MiB\n",
      "22/10/13 00:27:28 WARN DAGScheduler: Broadcasting large task binary with size 6.9 MiB\n",
      "22/10/13 00:27:33 WARN DAGScheduler: Broadcasting large task binary with size 21.0 MiB\n",
      "22/10/13 00:27:35 WARN DAGScheduler: Broadcasting large task binary with size 6.9 MiB\n",
      "22/10/13 00:27:40 WARN DAGScheduler: Broadcasting large task binary with size 22.2 MiB\n",
      "22/10/13 00:27:42 WARN DAGScheduler: Broadcasting large task binary with size 6.6 MiB\n",
      "22/10/13 00:27:46 WARN DAGScheduler: Broadcasting large task binary with size 7.9 MiB\n",
      "22/10/13 00:27:47 WARN DAGScheduler: Broadcasting large task binary with size 1322.5 KiB\n",
      "22/10/13 00:27:48 WARN DAGScheduler: Broadcasting large task binary with size 11.7 MiB\n",
      "22/10/13 00:27:49 WARN DAGScheduler: Broadcasting large task binary with size 2.6 MiB\n",
      "22/10/13 00:27:52 WARN DAGScheduler: Broadcasting large task binary with size 1454.9 KiB\n",
      "22/10/13 00:27:57 WARN DAGScheduler: Broadcasting large task binary with size 33.3 MiB\n",
      "[Stage 212:======================================>                  (2 + 1) / 3]\r"
     ]
    },
    {
     "name": "stdout",
     "output_type": "stream",
     "text": [
      "Here are the results!\n",
      "----------------------------------------\n",
      "A single decision tree has an accuracy of: 3.84%\n",
      "----------------------------------------\n",
      "A random forest ensemble has an accuracy of: 3.86%\n",
      "----------------------------------------\n"
     ]
    },
    {
     "name": "stderr",
     "output_type": "stream",
     "text": [
      "\r",
      "                                                                                \r"
     ]
    }
   ],
   "source": [
    "# rerun\n",
    "reRunTreesClassifiers(output_less)"
   ]
  },
  {
   "cell_type": "code",
   "execution_count": 24,
   "id": "34a192de",
   "metadata": {},
   "outputs": [
    {
     "name": "stderr",
     "output_type": "stream",
     "text": [
      "22/10/13 00:29:26 WARN DAGScheduler: Broadcasting large task binary with size 1544.5 KiB\n",
      "22/10/13 00:29:26 WARN DAGScheduler: Broadcasting large task binary with size 2.7 MiB\n",
      "22/10/13 00:29:32 WARN DAGScheduler: Broadcasting large task binary with size 3.5 MiB\n",
      "22/10/13 00:29:33 WARN DAGScheduler: Broadcasting large task binary with size 2.1 MiB\n",
      "22/10/13 00:29:34 WARN DAGScheduler: Broadcasting large task binary with size 9.7 MiB\n",
      "22/10/13 00:29:35 WARN DAGScheduler: Broadcasting large task binary with size 4.1 MiB\n",
      "22/10/13 00:29:38 WARN DAGScheduler: Broadcasting large task binary with size 19.8 MiB\n",
      "22/10/13 00:29:40 WARN DAGScheduler: Broadcasting large task binary with size 6.9 MiB\n",
      "22/10/13 00:29:45 WARN DAGScheduler: Broadcasting large task binary with size 22.5 MiB\n",
      "22/10/13 00:29:47 WARN DAGScheduler: Broadcasting large task binary with size 6.9 MiB\n",
      "22/10/13 00:29:52 WARN DAGScheduler: Broadcasting large task binary with size 20.7 MiB\n",
      "22/10/13 00:29:54 WARN DAGScheduler: Broadcasting large task binary with size 6.6 MiB\n",
      "22/10/13 00:29:58 WARN DAGScheduler: Broadcasting large task binary with size 5.4 MiB\n",
      "22/10/13 00:29:59 WARN DAGScheduler: Broadcasting large task binary with size 1217.3 KiB\n",
      "22/10/13 00:30:00 WARN DAGScheduler: Broadcasting large task binary with size 8.8 MiB\n",
      "22/10/13 00:30:00 WARN DAGScheduler: Broadcasting large task binary with size 1848.6 KiB\n",
      "22/10/13 00:30:03 WARN DAGScheduler: Broadcasting large task binary with size 1244.3 KiB\n",
      "22/10/13 00:30:07 WARN DAGScheduler: Broadcasting large task binary with size 32.4 MiB\n",
      "[Stage 250:======================================>                  (2 + 1) / 3]\r"
     ]
    },
    {
     "name": "stdout",
     "output_type": "stream",
     "text": [
      "Here are the results!\n",
      "----------------------------------------\n",
      "A single decision tree has an accuracy of: 4.09%\n",
      "----------------------------------------\n",
      "A random forest ensemble has an accuracy of: 4.14%\n",
      "----------------------------------------\n"
     ]
    },
    {
     "name": "stderr",
     "output_type": "stream",
     "text": [
      "\r",
      "                                                                                \r"
     ]
    }
   ],
   "source": [
    "reRunTreesClassifiers(output_less)"
   ]
  },
  {
   "cell_type": "code",
   "execution_count": null,
   "id": "df2ada44",
   "metadata": {},
   "outputs": [],
   "source": []
  }
 ],
 "metadata": {
  "kernelspec": {
   "display_name": "Python 3 (ipykernel)",
   "language": "python",
   "name": "python3"
  },
  "language_info": {
   "codemirror_mode": {
    "name": "ipython",
    "version": 3
   },
   "file_extension": ".py",
   "mimetype": "text/x-python",
   "name": "python",
   "nbconvert_exporter": "python",
   "pygments_lexer": "ipython3",
   "version": "3.10.4"
  }
 },
 "nbformat": 4,
 "nbformat_minor": 5
}
