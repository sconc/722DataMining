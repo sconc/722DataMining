{
 "cells": [
  {
   "cell_type": "markdown",
   "id": "a0b428f9",
   "metadata": {},
   "source": [
    "### Infosys 722 - Iteration 4 BDAS (Steps 1-8)\n",
    "### Submitted by: Sym Concepcion\n",
    "### UPI: scon497, studentID: 829972794"
   ]
  },
  {
   "cell_type": "code",
   "execution_count": 1,
   "id": "65a1d6d0",
   "metadata": {},
   "outputs": [
    {
     "name": "stderr",
     "output_type": "stream",
     "text": [
      "WARNING: An illegal reflective access operation has occurred\n",
      "WARNING: Illegal reflective access by org.apache.spark.unsafe.Platform (file:/home/ubuntu/spark-3.2.1-bin-hadoop2.7/jars/spark-unsafe_2.12-3.2.1.jar) to constructor java.nio.DirectByteBuffer(long,int)\n",
      "WARNING: Please consider reporting this to the maintainers of org.apache.spark.unsafe.Platform\n",
      "WARNING: Use --illegal-access=warn to enable warnings of further illegal reflective access operations\n",
      "WARNING: All illegal access operations will be denied in a future release\n",
      "Using Spark's default log4j profile: org/apache/spark/log4j-defaults.properties\n",
      "Setting default log level to \"WARN\".\n",
      "To adjust logging level use sc.setLogLevel(newLevel). For SparkR, use setLogLevel(newLevel).\n",
      "22/10/01 04:20:13 WARN NativeCodeLoader: Unable to load native-hadoop library for your platform... using builtin-java classes where applicable\n",
      "22/10/01 04:20:15 WARN Utils: Service 'SparkUI' could not bind on port 4040. Attempting port 4041.\n"
     ]
    }
   ],
   "source": [
    "# Must be included at the beginning of each new notebook. Remember to change the app name.\n",
    "import findspark\n",
    "findspark.init('/home/ubuntu/spark-3.2.1-bin-hadoop2.7')\n",
    "import pyspark\n",
    "from pyspark.sql import SparkSession\n",
    "spark = SparkSession.builder.appName('basics').getOrCreate()"
   ]
  },
  {
   "cell_type": "code",
   "execution_count": 9,
   "id": "55a706ad",
   "metadata": {},
   "outputs": [],
   "source": [
    "# Let's read in the data. Note that it's in the format of csv\n",
    "df = spark.read.option(\"header\", True).csv('dataset/Filipino Family Income and Expenditure.csv')"
   ]
  },
  {
   "cell_type": "code",
   "execution_count": 15,
   "id": "353a91cd",
   "metadata": {},
   "outputs": [
    {
     "data": {
      "text/plain": [
       "['Total Household Income',\n",
       " 'Region',\n",
       " 'Total Food Expenditure',\n",
       " 'Main Source of Income',\n",
       " 'Agricultural Household indicator',\n",
       " 'Bread and Cereals Expenditure',\n",
       " 'Total Rice Expenditure',\n",
       " 'Meat Expenditure',\n",
       " 'Total Fish and  marine products Expenditure',\n",
       " 'Fruit Expenditure',\n",
       " 'Vegetables Expenditure',\n",
       " 'Restaurant and hotels Expenditure',\n",
       " 'Alcoholic Beverages Expenditure',\n",
       " 'Tobacco Expenditure',\n",
       " 'Clothing, Footwear and Other Wear Expenditure',\n",
       " 'Housing and water Expenditure',\n",
       " 'Imputed House Rental Value',\n",
       " 'Medical Care Expenditure',\n",
       " 'Transportation Expenditure',\n",
       " 'Communication Expenditure',\n",
       " 'Education Expenditure',\n",
       " 'Miscellaneous Goods and Services Expenditure',\n",
       " 'Special Occasions Expenditure',\n",
       " 'Crop Farming and Gardening expenses',\n",
       " 'Total Income from Entrepreneurial Acitivites',\n",
       " 'Household Head Sex',\n",
       " 'Household Head Age',\n",
       " 'Household Head Marital Status',\n",
       " 'Household Head Highest Grade Completed',\n",
       " 'Household Head Job or Business Indicator',\n",
       " 'Household Head Occupation',\n",
       " 'Household Head Class of Worker',\n",
       " 'Type of Household',\n",
       " 'Total Number of Family members',\n",
       " 'Members with age less than 5 year old',\n",
       " 'Members with age 5 - 17 years old',\n",
       " 'Total number of family members employed',\n",
       " 'Type of Building/House',\n",
       " 'Type of Roof',\n",
       " 'Type of Walls',\n",
       " 'House Floor Area',\n",
       " 'House Age',\n",
       " 'Number of bedrooms',\n",
       " 'Tenure Status',\n",
       " 'Toilet Facilities',\n",
       " 'Electricity',\n",
       " 'Main Source of Water Supply',\n",
       " 'Number of Television',\n",
       " 'Number of CD/VCD/DVD',\n",
       " 'Number of Component/Stereo set',\n",
       " 'Number of Refrigerator/Freezer',\n",
       " 'Number of Washing Machine',\n",
       " 'Number of Airconditioner',\n",
       " 'Number of Car, Jeep, Van',\n",
       " 'Number of Landline/wireless telephones',\n",
       " 'Number of Cellular phone',\n",
       " 'Number of Personal Computer',\n",
       " 'Number of Stove with Oven/Gas Range',\n",
       " 'Number of Motorized Banca',\n",
       " 'Number of Motorcycle/Tricycle']"
      ]
     },
     "execution_count": 15,
     "metadata": {},
     "output_type": "execute_result"
    }
   ],
   "source": [
    "# df.show()\n",
    "df.columns"
   ]
  },
  {
   "cell_type": "code",
   "execution_count": 16,
   "id": "8813fb47",
   "metadata": {},
   "outputs": [
    {
     "name": "stdout",
     "output_type": "stream",
     "text": [
      "root\n",
      " |-- Total Household Income: string (nullable = true)\n",
      " |-- Region: string (nullable = true)\n",
      " |-- Total Food Expenditure: string (nullable = true)\n",
      " |-- Main Source of Income: string (nullable = true)\n",
      " |-- Agricultural Household indicator: string (nullable = true)\n",
      " |-- Bread and Cereals Expenditure: string (nullable = true)\n",
      " |-- Total Rice Expenditure: string (nullable = true)\n",
      " |-- Meat Expenditure: string (nullable = true)\n",
      " |-- Total Fish and  marine products Expenditure: string (nullable = true)\n",
      " |-- Fruit Expenditure: string (nullable = true)\n",
      " |-- Vegetables Expenditure: string (nullable = true)\n",
      " |-- Restaurant and hotels Expenditure: string (nullable = true)\n",
      " |-- Alcoholic Beverages Expenditure: string (nullable = true)\n",
      " |-- Tobacco Expenditure: string (nullable = true)\n",
      " |-- Clothing, Footwear and Other Wear Expenditure: string (nullable = true)\n",
      " |-- Housing and water Expenditure: string (nullable = true)\n",
      " |-- Imputed House Rental Value: string (nullable = true)\n",
      " |-- Medical Care Expenditure: string (nullable = true)\n",
      " |-- Transportation Expenditure: string (nullable = true)\n",
      " |-- Communication Expenditure: string (nullable = true)\n",
      " |-- Education Expenditure: string (nullable = true)\n",
      " |-- Miscellaneous Goods and Services Expenditure: string (nullable = true)\n",
      " |-- Special Occasions Expenditure: string (nullable = true)\n",
      " |-- Crop Farming and Gardening expenses: string (nullable = true)\n",
      " |-- Total Income from Entrepreneurial Acitivites: string (nullable = true)\n",
      " |-- Household Head Sex: string (nullable = true)\n",
      " |-- Household Head Age: string (nullable = true)\n",
      " |-- Household Head Marital Status: string (nullable = true)\n",
      " |-- Household Head Highest Grade Completed: string (nullable = true)\n",
      " |-- Household Head Job or Business Indicator: string (nullable = true)\n",
      " |-- Household Head Occupation: string (nullable = true)\n",
      " |-- Household Head Class of Worker: string (nullable = true)\n",
      " |-- Type of Household: string (nullable = true)\n",
      " |-- Total Number of Family members: string (nullable = true)\n",
      " |-- Members with age less than 5 year old: string (nullable = true)\n",
      " |-- Members with age 5 - 17 years old: string (nullable = true)\n",
      " |-- Total number of family members employed: string (nullable = true)\n",
      " |-- Type of Building/House: string (nullable = true)\n",
      " |-- Type of Roof: string (nullable = true)\n",
      " |-- Type of Walls: string (nullable = true)\n",
      " |-- House Floor Area: string (nullable = true)\n",
      " |-- House Age: string (nullable = true)\n",
      " |-- Number of bedrooms: string (nullable = true)\n",
      " |-- Tenure Status: string (nullable = true)\n",
      " |-- Toilet Facilities: string (nullable = true)\n",
      " |-- Electricity: string (nullable = true)\n",
      " |-- Main Source of Water Supply: string (nullable = true)\n",
      " |-- Number of Television: string (nullable = true)\n",
      " |-- Number of CD/VCD/DVD: string (nullable = true)\n",
      " |-- Number of Component/Stereo set: string (nullable = true)\n",
      " |-- Number of Refrigerator/Freezer: string (nullable = true)\n",
      " |-- Number of Washing Machine: string (nullable = true)\n",
      " |-- Number of Airconditioner: string (nullable = true)\n",
      " |-- Number of Car, Jeep, Van: string (nullable = true)\n",
      " |-- Number of Landline/wireless telephones: string (nullable = true)\n",
      " |-- Number of Cellular phone: string (nullable = true)\n",
      " |-- Number of Personal Computer: string (nullable = true)\n",
      " |-- Number of Stove with Oven/Gas Range: string (nullable = true)\n",
      " |-- Number of Motorized Banca: string (nullable = true)\n",
      " |-- Number of Motorcycle/Tricycle: string (nullable = true)\n",
      "\n"
     ]
    }
   ],
   "source": [
    "df.printSchema()"
   ]
  },
  {
   "cell_type": "code",
   "execution_count": null,
   "id": "a93c5548",
   "metadata": {},
   "outputs": [],
   "source": []
  }
 ],
 "metadata": {
  "kernelspec": {
   "display_name": "Python 3 (ipykernel)",
   "language": "python",
   "name": "python3"
  },
  "language_info": {
   "codemirror_mode": {
    "name": "ipython",
    "version": 3
   },
   "file_extension": ".py",
   "mimetype": "text/x-python",
   "name": "python",
   "nbconvert_exporter": "python",
   "pygments_lexer": "ipython3",
   "version": "3.10.4"
  }
 },
 "nbformat": 4,
 "nbformat_minor": 5
}
