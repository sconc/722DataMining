{
 "cells": [
  {
   "cell_type": "markdown",
   "id": "a0b428f9",
   "metadata": {},
   "source": [
    "### Infosys 722 - Iteration 4 BDAS (Steps 1-8)\n",
    "Submitted by: Sym Concepcion\n",
    "UPI: scon497, studentID: 829972794"
   ]
  },
  {
   "cell_type": "code",
   "execution_count": 1,
   "id": "65a1d6d0",
   "metadata": {},
   "outputs": [],
   "source": [
    "# Must be included at the beginning of each new notebook. Remember to change the app name.\n",
    "import findspark\n",
    "findspark.init('/home/ubuntu/spark-3.2.1-bin-hadoop2.7')"
   ]
  },
  {
   "cell_type": "code",
   "execution_count": 14,
   "id": "e32c7a0f",
   "metadata": {},
   "outputs": [],
   "source": [
    "# import other packages\n",
    "import seaborn as sns\n",
    "import matplotlib.pyplot as plt\n",
    "\n",
    "# For Data Manipulation\n",
    "from pyspark.sql.types import (StructField,StringType,IntegerType,StructType)"
   ]
  },
  {
   "cell_type": "code",
   "execution_count": 2,
   "id": "c2e0331c",
   "metadata": {},
   "outputs": [
    {
     "name": "stderr",
     "output_type": "stream",
     "text": [
      "WARNING: An illegal reflective access operation has occurred\n",
      "WARNING: Illegal reflective access by org.apache.spark.unsafe.Platform (file:/home/ubuntu/spark-3.2.1-bin-hadoop2.7/jars/spark-unsafe_2.12-3.2.1.jar) to constructor java.nio.DirectByteBuffer(long,int)\n",
      "WARNING: Please consider reporting this to the maintainers of org.apache.spark.unsafe.Platform\n",
      "WARNING: Use --illegal-access=warn to enable warnings of further illegal reflective access operations\n",
      "WARNING: All illegal access operations will be denied in a future release\n",
      "Using Spark's default log4j profile: org/apache/spark/log4j-defaults.properties\n",
      "Setting default log level to \"WARN\".\n",
      "To adjust logging level use sc.setLogLevel(newLevel). For SparkR, use setLogLevel(newLevel).\n",
      "22/10/10 09:18:56 WARN NativeCodeLoader: Unable to load native-hadoop library for your platform... using builtin-java classes where applicable\n"
     ]
    }
   ],
   "source": [
    "import pyspark\n",
    "from pyspark.sql import SparkSession\n",
    "spark = SparkSession.builder.appName('722Basics').getOrCreate()"
   ]
  },
  {
   "cell_type": "code",
   "execution_count": 3,
   "id": "919a9ee7",
   "metadata": {},
   "outputs": [
    {
     "name": "stderr",
     "output_type": "stream",
     "text": [
      "                                                                                \r"
     ]
    }
   ],
   "source": [
    "# Let's read in the data. There are 2 sources so we can integrate later. \n",
    "# Note that it's in the format of csv\n",
    "df1 = spark.read.option(\"header\", True).csv('dataset/data_ncr.csv')\n",
    "df2 = spark.read.option(\"header\", True).csv('dataset/data_therest.csv')"
   ]
  },
  {
   "cell_type": "code",
   "execution_count": 4,
   "id": "353a91cd",
   "metadata": {},
   "outputs": [
    {
     "name": "stdout",
     "output_type": "stream",
     "text": [
      "Files read into structure of <class 'pyspark.sql.dataframe.DataFrame'>\n",
      "First dataset (NCR): 4130 x 60\n",
      "Second dataset (Rest of the regions): 37414 x 60\n"
     ]
    }
   ],
   "source": [
    "# df.show()\n",
    "print(\"Files read into structure of\",type(df1))\n",
    "print(\"First dataset (NCR):\", df1.count(), \"x\", len(df1.columns))\n",
    "print(\"Second dataset (Rest of the regions):\", df2.count(), \"x\", len(df2.columns))"
   ]
  },
  {
   "cell_type": "code",
   "execution_count": 5,
   "id": "cefec55e",
   "metadata": {},
   "outputs": [],
   "source": [
    "# integrate the 2 sources\n",
    "# code adapted from https://www.geeksforgeeks.org/merge-two-dataframes-in-pyspark/\n",
    "import functools \n",
    "def unionAll(dfs):\n",
    "    return functools.reduce(lambda df1, df2: df1.union(df2.select(df1.columns)), dfs)\n",
    "\n",
    "statsdata = unionAll([df1, df2])"
   ]
  },
  {
   "cell_type": "code",
   "execution_count": 6,
   "id": "8813fb47",
   "metadata": {},
   "outputs": [
    {
     "name": "stdout",
     "output_type": "stream",
     "text": [
      "Combined dataset: 41544 x 60\n",
      "root\n",
      " |-- Total Household Income: string (nullable = true)\n",
      " |-- Region: string (nullable = true)\n",
      " |-- Total Food Expenditure: string (nullable = true)\n",
      " |-- Main Source of Income: string (nullable = true)\n",
      " |-- Agricultural Household indicator: string (nullable = true)\n",
      " |-- Bread and Cereals Expenditure: string (nullable = true)\n",
      " |-- Total Rice Expenditure: string (nullable = true)\n",
      " |-- Meat Expenditure: string (nullable = true)\n",
      " |-- Total Fish and  marine products Expenditure: string (nullable = true)\n",
      " |-- Fruit Expenditure: string (nullable = true)\n",
      " |-- Vegetables Expenditure: string (nullable = true)\n",
      " |-- Restaurant and hotels Expenditure: string (nullable = true)\n",
      " |-- Alcoholic Beverages Expenditure: string (nullable = true)\n",
      " |-- Tobacco Expenditure: string (nullable = true)\n",
      " |-- Clothing, Footwear and Other Wear Expenditure: string (nullable = true)\n",
      " |-- Housing and water Expenditure: string (nullable = true)\n",
      " |-- Imputed House Rental Value: string (nullable = true)\n",
      " |-- Medical Care Expenditure: string (nullable = true)\n",
      " |-- Transportation Expenditure: string (nullable = true)\n",
      " |-- Communication Expenditure: string (nullable = true)\n",
      " |-- Education Expenditure: string (nullable = true)\n",
      " |-- Miscellaneous Goods and Services Expenditure: string (nullable = true)\n",
      " |-- Special Occasions Expenditure: string (nullable = true)\n",
      " |-- Crop Farming and Gardening expenses: string (nullable = true)\n",
      " |-- Total Income from Entrepreneurial Acitivites: string (nullable = true)\n",
      " |-- Household Head Sex: string (nullable = true)\n",
      " |-- Household Head Age: string (nullable = true)\n",
      " |-- Household Head Marital Status: string (nullable = true)\n",
      " |-- Household Head Highest Grade Completed: string (nullable = true)\n",
      " |-- Household Head Job or Business Indicator: string (nullable = true)\n",
      " |-- Household Head Occupation: string (nullable = true)\n",
      " |-- Household Head Class of Worker: string (nullable = true)\n",
      " |-- Type of Household: string (nullable = true)\n",
      " |-- Total Number of Family members: string (nullable = true)\n",
      " |-- Members with age less than 5 year old: string (nullable = true)\n",
      " |-- Members with age 5 - 17 years old: string (nullable = true)\n",
      " |-- Total number of family members employed: string (nullable = true)\n",
      " |-- Type of Building/House: string (nullable = true)\n",
      " |-- Type of Roof: string (nullable = true)\n",
      " |-- Type of Walls: string (nullable = true)\n",
      " |-- House Floor Area: string (nullable = true)\n",
      " |-- House Age: string (nullable = true)\n",
      " |-- Number of bedrooms: string (nullable = true)\n",
      " |-- Tenure Status: string (nullable = true)\n",
      " |-- Toilet Facilities: string (nullable = true)\n",
      " |-- Electricity: string (nullable = true)\n",
      " |-- Main Source of Water Supply: string (nullable = true)\n",
      " |-- Number of Television: string (nullable = true)\n",
      " |-- Number of CD/VCD/DVD: string (nullable = true)\n",
      " |-- Number of Component/Stereo set: string (nullable = true)\n",
      " |-- Number of Refrigerator/Freezer: string (nullable = true)\n",
      " |-- Number of Washing Machine: string (nullable = true)\n",
      " |-- Number of Airconditioner: string (nullable = true)\n",
      " |-- Number of Car, Jeep, Van: string (nullable = true)\n",
      " |-- Number of Landline/wireless telephones: string (nullable = true)\n",
      " |-- Number of Cellular phone: string (nullable = true)\n",
      " |-- Number of Personal Computer: string (nullable = true)\n",
      " |-- Number of Stove with Oven/Gas Range: string (nullable = true)\n",
      " |-- Number of Motorized Banca: string (nullable = true)\n",
      " |-- Number of Motorcycle/Tricycle: string (nullable = true)\n",
      "\n"
     ]
    }
   ],
   "source": [
    "print(\"Combined dataset:\", statsdata.count(), \"x\", len(statsdata.columns))\n",
    "statsdata.printSchema()"
   ]
  },
  {
   "cell_type": "code",
   "execution_count": null,
   "id": "a61c71cf",
   "metadata": {},
   "outputs": [],
   "source": [
    "statsdata.dtypes"
   ]
  },
  {
   "cell_type": "code",
   "execution_count": 7,
   "id": "26f7776d",
   "metadata": {},
   "outputs": [
    {
     "name": "stderr",
     "output_type": "stream",
     "text": [
      "22/10/10 09:19:25 WARN package: Truncated the string representation of a plan since it was too large. This behavior can be adjusted by setting 'spark.sql.debug.maxToStringFields'.\n"
     ]
    },
    {
     "data": {
      "text/plain": [
       "Row(Total Household Income='623738', Region='NCR', Total Food Expenditure='133762', Main Source of Income='Wage/Salaries', Agricultural Household indicator='0', Bread and Cereals Expenditure='21969', Total Rice Expenditure='13000', Meat Expenditure='15192', Total Fish and  marine products Expenditure='10438', Fruit Expenditure='3690', Vegetables Expenditure='5208', Restaurant and hotels Expenditure='52640', Alcoholic Beverages Expenditure='0', Tobacco Expenditure='0', Clothing, Footwear and Other Wear Expenditure='13548', Housing and water Expenditure='124170', Imputed House Rental Value='84000', Medical Care Expenditure='5784', Transportation Expenditure='19440', Communication Expenditure='19188', Education Expenditure='0', Miscellaneous Goods and Services Expenditure='41436', Special Occasions Expenditure='8200', Crop Farming and Gardening expenses='0', Total Income from Entrepreneurial Acitivites='0', Household Head Sex='Male', Household Head Age='62', Household Head Marital Status='Widowed', Household Head Highest Grade Completed='Arts Programs', Household Head Job or Business Indicator='With Job/Business', Household Head Occupation='Composers, musicians and singers', Household Head Class of Worker='Worked for private establishment', Type of Household='Single Family', Total Number of Family members='3', Members with age less than 5 year old='0', Members with age 5 - 17 years old='0', Total number of family members employed='3', Type of Building/House='Single house', Type of Roof='Strong material(galvanized,iron,al,tile,concrete,brick,stone,asbestos)', Type of Walls='Strong', House Floor Area='25', House Age='25', Number of bedrooms='2', Tenure Status='Own or owner-like possession of house and lot', Toilet Facilities='Water-sealed, sewer septic tank, used exclusively by household', Electricity='1', Main Source of Water Supply='Others', Number of Television='2', Number of CD/VCD/DVD='0', Number of Component/Stereo set='1', Number of Refrigerator/Freezer='1', Number of Washing Machine='1', Number of Airconditioner='1', Number of Car, Jeep, Van='0', Number of Landline/wireless telephones='1', Number of Cellular phone='3', Number of Personal Computer='1', Number of Stove with Oven/Gas Range='1', Number of Motorized Banca='0', Number of Motorcycle/Tricycle='0')"
      ]
     },
     "execution_count": 7,
     "metadata": {},
     "output_type": "execute_result"
    }
   ],
   "source": [
    "statsdata.head()"
   ]
  },
  {
   "cell_type": "code",
   "execution_count": 8,
   "id": "babf87df",
   "metadata": {},
   "outputs": [
    {
     "name": "stdout",
     "output_type": "stream",
     "text": [
      "-RECORD 0-------------------------------------------------------------\n",
      " Total Household Income                        | 623738               \n",
      " Region                                        | NCR                  \n",
      " Total Food Expenditure                        | 133762               \n",
      " Main Source of Income                         | Wage/Salaries        \n",
      " Agricultural Household indicator              | 0                    \n",
      " Bread and Cereals Expenditure                 | 21969                \n",
      " Total Rice Expenditure                        | 13000                \n",
      " Meat Expenditure                              | 15192                \n",
      " Total Fish and  marine products Expenditure   | 10438                \n",
      " Fruit Expenditure                             | 3690                 \n",
      " Vegetables Expenditure                        | 5208                 \n",
      " Restaurant and hotels Expenditure             | 52640                \n",
      " Alcoholic Beverages Expenditure               | 0                    \n",
      " Tobacco Expenditure                           | 0                    \n",
      " Clothing, Footwear and Other Wear Expenditure | 13548                \n",
      " Housing and water Expenditure                 | 124170               \n",
      " Imputed House Rental Value                    | 84000                \n",
      " Medical Care Expenditure                      | 5784                 \n",
      " Transportation Expenditure                    | 19440                \n",
      " Communication Expenditure                     | 19188                \n",
      " Education Expenditure                         | 0                    \n",
      " Miscellaneous Goods and Services Expenditure  | 41436                \n",
      " Special Occasions Expenditure                 | 8200                 \n",
      " Crop Farming and Gardening expenses           | 0                    \n",
      " Total Income from Entrepreneurial Acitivites  | 0                    \n",
      " Household Head Sex                            | Male                 \n",
      " Household Head Age                            | 62                   \n",
      " Household Head Marital Status                 | Widowed              \n",
      " Household Head Highest Grade Completed        | Arts Programs        \n",
      " Household Head Job or Business Indicator      | With Job/Business    \n",
      " Household Head Occupation                     | Composers, musici... \n",
      " Household Head Class of Worker                | Worked for privat... \n",
      " Type of Household                             | Single Family        \n",
      " Total Number of Family members                | 3                    \n",
      " Members with age less than 5 year old         | 0                    \n",
      " Members with age 5 - 17 years old             | 0                    \n",
      " Total number of family members employed       | 3                    \n",
      " Type of Building/House                        | Single house         \n",
      " Type of Roof                                  | Strong material(g... \n",
      " Type of Walls                                 | Strong               \n",
      " House Floor Area                              | 25                   \n",
      " House Age                                     | 25                   \n",
      " Number of bedrooms                            | 2                    \n",
      " Tenure Status                                 | Own or owner-like... \n",
      " Toilet Facilities                             | Water-sealed, sew... \n",
      " Electricity                                   | 1                    \n",
      " Main Source of Water Supply                   | Others               \n",
      " Number of Television                          | 2                    \n",
      " Number of CD/VCD/DVD                          | 0                    \n",
      " Number of Component/Stereo set                | 1                    \n",
      " Number of Refrigerator/Freezer                | 1                    \n",
      " Number of Washing Machine                     | 1                    \n",
      " Number of Airconditioner                      | 1                    \n",
      " Number of Car, Jeep, Van                      | 0                    \n",
      " Number of Landline/wireless telephones        | 1                    \n",
      " Number of Cellular phone                      | 3                    \n",
      " Number of Personal Computer                   | 1                    \n",
      " Number of Stove with Oven/Gas Range           | 1                    \n",
      " Number of Motorized Banca                     | 0                    \n",
      " Number of Motorcycle/Tricycle                 | 0                    \n",
      "only showing top 1 row\n",
      "\n"
     ]
    }
   ],
   "source": [
    "statsdata.show(1, vertical=True)"
   ]
  },
  {
   "cell_type": "code",
   "execution_count": 13,
   "id": "81f624aa",
   "metadata": {
    "scrolled": true
   },
   "outputs": [
    {
     "data": {
      "text/html": [
       "<div>\n",
       "<style scoped>\n",
       "    .dataframe tbody tr th:only-of-type {\n",
       "        vertical-align: middle;\n",
       "    }\n",
       "\n",
       "    .dataframe tbody tr th {\n",
       "        vertical-align: top;\n",
       "    }\n",
       "\n",
       "    .dataframe thead th {\n",
       "        text-align: right;\n",
       "    }\n",
       "</style>\n",
       "<table border=\"1\" class=\"dataframe\">\n",
       "  <thead>\n",
       "    <tr style=\"text-align: right;\">\n",
       "      <th></th>\n",
       "      <th>Total Household Income</th>\n",
       "      <th>Region</th>\n",
       "      <th>Total Food Expenditure</th>\n",
       "      <th>Main Source of Income</th>\n",
       "      <th>Agricultural Household indicator</th>\n",
       "      <th>Bread and Cereals Expenditure</th>\n",
       "      <th>Total Rice Expenditure</th>\n",
       "      <th>Meat Expenditure</th>\n",
       "      <th>Total Fish and  marine products Expenditure</th>\n",
       "      <th>Fruit Expenditure</th>\n",
       "      <th>...</th>\n",
       "      <th>Number of Refrigerator/Freezer</th>\n",
       "      <th>Number of Washing Machine</th>\n",
       "      <th>Number of Airconditioner</th>\n",
       "      <th>Number of Car, Jeep, Van</th>\n",
       "      <th>Number of Landline/wireless telephones</th>\n",
       "      <th>Number of Cellular phone</th>\n",
       "      <th>Number of Personal Computer</th>\n",
       "      <th>Number of Stove with Oven/Gas Range</th>\n",
       "      <th>Number of Motorized Banca</th>\n",
       "      <th>Number of Motorcycle/Tricycle</th>\n",
       "    </tr>\n",
       "  </thead>\n",
       "  <tbody>\n",
       "    <tr>\n",
       "      <th>0</th>\n",
       "      <td>623738</td>\n",
       "      <td>NCR</td>\n",
       "      <td>133762</td>\n",
       "      <td>Wage/Salaries</td>\n",
       "      <td>0</td>\n",
       "      <td>21969</td>\n",
       "      <td>13000</td>\n",
       "      <td>15192</td>\n",
       "      <td>10438</td>\n",
       "      <td>3690</td>\n",
       "      <td>...</td>\n",
       "      <td>1</td>\n",
       "      <td>1</td>\n",
       "      <td>1</td>\n",
       "      <td>0</td>\n",
       "      <td>1</td>\n",
       "      <td>3</td>\n",
       "      <td>1</td>\n",
       "      <td>1</td>\n",
       "      <td>0</td>\n",
       "      <td>0</td>\n",
       "    </tr>\n",
       "    <tr>\n",
       "      <th>1</th>\n",
       "      <td>301900</td>\n",
       "      <td>NCR</td>\n",
       "      <td>109815</td>\n",
       "      <td>Wage/Salaries</td>\n",
       "      <td>0</td>\n",
       "      <td>22158</td>\n",
       "      <td>17550</td>\n",
       "      <td>14679</td>\n",
       "      <td>4260</td>\n",
       "      <td>3420</td>\n",
       "      <td>...</td>\n",
       "      <td>1</td>\n",
       "      <td>1</td>\n",
       "      <td>0</td>\n",
       "      <td>0</td>\n",
       "      <td>0</td>\n",
       "      <td>2</td>\n",
       "      <td>1</td>\n",
       "      <td>0</td>\n",
       "      <td>0</td>\n",
       "      <td>0</td>\n",
       "    </tr>\n",
       "    <tr>\n",
       "      <th>2</th>\n",
       "      <td>169200</td>\n",
       "      <td>NCR</td>\n",
       "      <td>47653</td>\n",
       "      <td>Other sources of Income</td>\n",
       "      <td>0</td>\n",
       "      <td>13260</td>\n",
       "      <td>8450</td>\n",
       "      <td>3370</td>\n",
       "      <td>1080</td>\n",
       "      <td>120</td>\n",
       "      <td>...</td>\n",
       "      <td>0</td>\n",
       "      <td>1</td>\n",
       "      <td>0</td>\n",
       "      <td>0</td>\n",
       "      <td>0</td>\n",
       "      <td>2</td>\n",
       "      <td>1</td>\n",
       "      <td>0</td>\n",
       "      <td>0</td>\n",
       "      <td>0</td>\n",
       "    </tr>\n",
       "    <tr>\n",
       "      <th>3</th>\n",
       "      <td>428200</td>\n",
       "      <td>NCR</td>\n",
       "      <td>179808</td>\n",
       "      <td>Wage/Salaries</td>\n",
       "      <td>0</td>\n",
       "      <td>20996</td>\n",
       "      <td>12350</td>\n",
       "      <td>24016</td>\n",
       "      <td>7920</td>\n",
       "      <td>3550</td>\n",
       "      <td>...</td>\n",
       "      <td>1</td>\n",
       "      <td>1</td>\n",
       "      <td>1</td>\n",
       "      <td>0</td>\n",
       "      <td>0</td>\n",
       "      <td>2</td>\n",
       "      <td>1</td>\n",
       "      <td>0</td>\n",
       "      <td>0</td>\n",
       "      <td>0</td>\n",
       "    </tr>\n",
       "    <tr>\n",
       "      <th>4</th>\n",
       "      <td>283100</td>\n",
       "      <td>NCR</td>\n",
       "      <td>123872</td>\n",
       "      <td>Other sources of Income</td>\n",
       "      <td>0</td>\n",
       "      <td>17060</td>\n",
       "      <td>13350</td>\n",
       "      <td>18478</td>\n",
       "      <td>13320</td>\n",
       "      <td>3830</td>\n",
       "      <td>...</td>\n",
       "      <td>1</td>\n",
       "      <td>1</td>\n",
       "      <td>0</td>\n",
       "      <td>0</td>\n",
       "      <td>0</td>\n",
       "      <td>2</td>\n",
       "      <td>1</td>\n",
       "      <td>0</td>\n",
       "      <td>0</td>\n",
       "      <td>0</td>\n",
       "    </tr>\n",
       "  </tbody>\n",
       "</table>\n",
       "<p>5 rows × 60 columns</p>\n",
       "</div>"
      ],
      "text/plain": [
       "  Total Household Income Region Total Food Expenditure  \\\n",
       "0                 623738    NCR                 133762   \n",
       "1                 301900    NCR                 109815   \n",
       "2                 169200    NCR                  47653   \n",
       "3                 428200    NCR                 179808   \n",
       "4                 283100    NCR                 123872   \n",
       "\n",
       "     Main Source of Income Agricultural Household indicator  \\\n",
       "0            Wage/Salaries                                0   \n",
       "1            Wage/Salaries                                0   \n",
       "2  Other sources of Income                                0   \n",
       "3            Wage/Salaries                                0   \n",
       "4  Other sources of Income                                0   \n",
       "\n",
       "  Bread and Cereals Expenditure Total Rice Expenditure Meat Expenditure  \\\n",
       "0                         21969                  13000            15192   \n",
       "1                         22158                  17550            14679   \n",
       "2                         13260                   8450             3370   \n",
       "3                         20996                  12350            24016   \n",
       "4                         17060                  13350            18478   \n",
       "\n",
       "  Total Fish and  marine products Expenditure Fruit Expenditure  ...  \\\n",
       "0                                       10438              3690  ...   \n",
       "1                                        4260              3420  ...   \n",
       "2                                        1080               120  ...   \n",
       "3                                        7920              3550  ...   \n",
       "4                                       13320              3830  ...   \n",
       "\n",
       "  Number of Refrigerator/Freezer Number of Washing Machine  \\\n",
       "0                              1                         1   \n",
       "1                              1                         1   \n",
       "2                              0                         1   \n",
       "3                              1                         1   \n",
       "4                              1                         1   \n",
       "\n",
       "  Number of Airconditioner Number of Car, Jeep, Van  \\\n",
       "0                        1                        0   \n",
       "1                        0                        0   \n",
       "2                        0                        0   \n",
       "3                        1                        0   \n",
       "4                        0                        0   \n",
       "\n",
       "  Number of Landline/wireless telephones Number of Cellular phone  \\\n",
       "0                                      1                        3   \n",
       "1                                      0                        2   \n",
       "2                                      0                        2   \n",
       "3                                      0                        2   \n",
       "4                                      0                        2   \n",
       "\n",
       "  Number of Personal Computer Number of Stove with Oven/Gas Range  \\\n",
       "0                           1                                   1   \n",
       "1                           1                                   0   \n",
       "2                           1                                   0   \n",
       "3                           1                                   0   \n",
       "4                           1                                   0   \n",
       "\n",
       "  Number of Motorized Banca Number of Motorcycle/Tricycle  \n",
       "0                         0                             0  \n",
       "1                         0                             0  \n",
       "2                         0                             0  \n",
       "3                         0                             0  \n",
       "4                         0                             0  \n",
       "\n",
       "[5 rows x 60 columns]"
      ]
     },
     "execution_count": 13,
     "metadata": {},
     "output_type": "execute_result"
    }
   ],
   "source": [
    "statsdata.limit(5).toPandas()"
   ]
  },
  {
   "cell_type": "code",
   "execution_count": 16,
   "id": "80752fce",
   "metadata": {},
   "outputs": [
    {
     "name": "stdout",
     "output_type": "stream",
     "text": [
      "Columns can be classified into 3 types of information:\n"
     ]
    }
   ],
   "source": [
    "# classify columns \n",
    "print(\"Columns can be classified into 3 types of information:\")\n",
    "\n",
    "def classifyDataColumns(statsdata):\n",
    "    print(\"Information about Income\")\n",
    "    stringCol_income = \"Income\"\n",
    "    cols_income = [col for col in statsdata.columns if stringCol_income.casefold() in col.casefold()]\n",
    "    print(len(cols_income), cols_income)\n",
    "    print()\n",
    "\n",
    "    print(\"Information about Expenditure Details\")\n",
    "    stringCol_expense = \"expen\"\n",
    "    cols_expense = [col for col in statsdata.columns if stringCol_expense.casefold() in col.casefold()]\n",
    "    print(len(cols_expense), cols_expense)\n",
    "    print()\n",
    "\n",
    "    print(\"Information about Household Details\")\n",
    "    cols_HH = [col for col in statsdata.columns if ((stringCol_expense.casefold() not in col.casefold()) and (stringCol_income.casefold() not in col.casefold()))]\n",
    "    print(len(cols_HH), cols_HH)\n",
    "    print()\n",
    "\n",
    "    data = [len(cols_income), len(cols_expense), len(cols_HH)]\n",
    "    label = ['About Income', 'About Expenses', 'About Household Details']\n",
    "\n",
    "    plt.pie(data, labels=label, autopct=lambda p: '{:.0f}'.format(p * sum(data) / 100), explode=[0,0,0], shadow=True, startangle=90)\n",
    "    plt.title('Information Column Classification')\n",
    "    plt.axis('equal')\n",
    "    plt.show()\n",
    "    #autopct='%1.1f%%'"
   ]
  },
  {
   "cell_type": "code",
   "execution_count": 17,
   "id": "dabf3bb8",
   "metadata": {},
   "outputs": [
    {
     "name": "stdout",
     "output_type": "stream",
     "text": [
      "Information about Income\n",
      "3 ['Total Household Income', 'Main Source of Income', 'Total Income from Entrepreneurial Acitivites']\n",
      "\n",
      "Information about Expenditure Details\n",
      "19 ['Total Food Expenditure', 'Bread and Cereals Expenditure', 'Total Rice Expenditure', 'Meat Expenditure', 'Total Fish and  marine products Expenditure', 'Fruit Expenditure', 'Vegetables Expenditure', 'Restaurant and hotels Expenditure', 'Alcoholic Beverages Expenditure', 'Tobacco Expenditure', 'Clothing, Footwear and Other Wear Expenditure', 'Housing and water Expenditure', 'Medical Care Expenditure', 'Transportation Expenditure', 'Communication Expenditure', 'Education Expenditure', 'Miscellaneous Goods and Services Expenditure', 'Special Occasions Expenditure', 'Crop Farming and Gardening expenses']\n",
      "\n",
      "Information about Household Details\n",
      "38 ['Region', 'Agricultural Household indicator', 'Imputed House Rental Value', 'Household Head Sex', 'Household Head Age', 'Household Head Marital Status', 'Household Head Highest Grade Completed', 'Household Head Job or Business Indicator', 'Household Head Occupation', 'Household Head Class of Worker', 'Type of Household', 'Total Number of Family members', 'Members with age less than 5 year old', 'Members with age 5 - 17 years old', 'Total number of family members employed', 'Type of Building/House', 'Type of Roof', 'Type of Walls', 'House Floor Area', 'House Age', 'Number of bedrooms', 'Tenure Status', 'Toilet Facilities', 'Electricity', 'Main Source of Water Supply', 'Number of Television', 'Number of CD/VCD/DVD', 'Number of Component/Stereo set', 'Number of Refrigerator/Freezer', 'Number of Washing Machine', 'Number of Airconditioner', 'Number of Car, Jeep, Van', 'Number of Landline/wireless telephones', 'Number of Cellular phone', 'Number of Personal Computer', 'Number of Stove with Oven/Gas Range', 'Number of Motorized Banca', 'Number of Motorcycle/Tricycle']\n",
      "\n"
     ]
    },
    {
     "data": {
      "image/png": "[encoded data removed]",
      "text/plain": [
       "<Figure size 432x288 with 1 Axes>"
      ]
     },
     "metadata": {},
     "output_type": "display_data"
    }
   ],
   "source": [
    "classifyDataColumns(statsdata)"
   ]
  },
  {
   "cell_type": "markdown",
   "id": "ba7c04e1",
   "metadata": {},
   "source": [
    "### Data Description"
   ]
  },
  {
   "cell_type": "code",
   "execution_count": 9,
   "id": "a93c5548",
   "metadata": {},
   "outputs": [
    {
     "name": "stderr",
     "output_type": "stream",
     "text": [
      "[Stage 13:======================================>                   (2 + 1) / 3]\r"
     ]
    },
    {
     "name": "stdout",
     "output_type": "stream",
     "text": [
      "+-------+----------------------+\n",
      "|summary|Total Household Income|\n",
      "+-------+----------------------+\n",
      "|  count|                 41544|\n",
      "|   mean|    247555.58480165608|\n",
      "| stddev|     286880.5226527398|\n",
      "|    min|                100000|\n",
      "|    max|                 99997|\n",
      "+-------+----------------------+\n",
      "\n"
     ]
    },
    {
     "name": "stderr",
     "output_type": "stream",
     "text": [
      "                                                                                \r"
     ]
    }
   ],
   "source": [
    "statsdata.describe('Total Household Income').show()"
   ]
  },
  {
   "cell_type": "code",
   "execution_count": 10,
   "id": "5417a21c",
   "metadata": {},
   "outputs": [
    {
     "name": "stderr",
     "output_type": "stream",
     "text": [
      "[Stage 16:===================>                                      (1 + 2) / 3]\r"
     ]
    },
    {
     "name": "stdout",
     "output_type": "stream",
     "text": [
      "+-------+------------------------+\n",
      "|summary|Medical Care Expenditure|\n",
      "+-------+------------------------+\n",
      "|  count|                   41544|\n",
      "|   mean|       7160.230935875216|\n",
      "| stddev|      26902.002274617334|\n",
      "|    min|                       0|\n",
      "|    max|                    9998|\n",
      "+-------+------------------------+\n",
      "\n"
     ]
    },
    {
     "name": "stderr",
     "output_type": "stream",
     "text": [
      "                                                                                \r"
     ]
    }
   ],
   "source": [
    "statsdata.describe('Medical Care Expenditure').show()"
   ]
  },
  {
   "cell_type": "code",
   "execution_count": 11,
   "id": "66e6e988",
   "metadata": {},
   "outputs": [
    {
     "name": "stderr",
     "output_type": "stream",
     "text": [
      "[Stage 19:===================>                                      (1 + 2) / 3]\r"
     ]
    },
    {
     "name": "stdout",
     "output_type": "stream",
     "text": [
      "+-------+------------------------+----------------------+\n",
      "|summary|Medical Care Expenditure|Total Household Income|\n",
      "+-------+------------------------+----------------------+\n",
      "|  count|                   41544|                 41544|\n",
      "|   mean|       7160.230935875216|    247555.58480165608|\n",
      "| stddev|      26902.002274617334|     286880.5226527398|\n",
      "|    min|                       0|                100000|\n",
      "|    max|                    9998|                 99997|\n",
      "+-------+------------------------+----------------------+\n",
      "\n"
     ]
    },
    {
     "name": "stderr",
     "output_type": "stream",
     "text": [
      "                                                                                \r"
     ]
    }
   ],
   "source": [
    "statsdata.describe('Medical Care Expenditure', 'Total Household Income').show()"
   ]
  },
  {
   "cell_type": "markdown",
   "id": "ed2c9ef4",
   "metadata": {},
   "source": [
    "### Data Manipulation"
   ]
  },
  {
   "cell_type": "code",
   "execution_count": null,
   "id": "04dcc11e",
   "metadata": {},
   "outputs": [],
   "source": [
    "# create a variable with the correct structure\n",
    "\n",
    "data_schema = [StructField('Total Household Income',IntegerType(),True), StructField('Region',StringType(),True),\n",
    "              StructField('Total Food Expenditure',IntegerType(),True), StructField('Main Source of Income',StringType(),True),\n",
    "              StructField('Agricultural Household indicator',IntegerType(),True), StructField('Bread and Cereals Expenditure',IntegerType(),True),\n",
    "              StructField('Total Rice Expenditure',IntegerType(),True), StructField('Meat Expenditure',IntegerType(),True),\n",
    "              StructField('Total Fish and  marine products Expenditure',IntegerType(),True), StructField('Fruit Expenditure',IntegerType(),True),\n",
    "              StructField('Vegetables Expenditure',IntegerType(),True), StructField('Restaurant and hotels Expenditure',IntegerType(),True),\n",
    "              StructField('Alcoholic Beverages Expenditure',IntegerType(),True), StructField('Tobacco Expenditure',IntegerType(),True),\n",
    "              StructField('Clothing, Footwear and Other Wear Expenditure',IntegerType(),True), StructField('Housing and water Expenditure',IntegerType(),True),\n",
    "              StructField('Imputed House Rental Value',IntegerType(),True), StructField('Medical Care Expenditure',IntegerType(),True),\n",
    "              StructField('Transportation Expenditure',IntegerType(),True), StructField('Communication Expenditure',IntegerType(),True),\n",
    "              StructField('Education Expenditure',IntegerType(),True), StructField('Miscellaneous Goods and Services Expenditure',IntegerType(),True),\n",
    "              StructField('Special Occasions Expenditure',IntegerType(),True), StructField('Crop Farming and Gardening expenses',IntegerType(),True),\n",
    "              StructField('Total Income from Entrepreneurial Acitivites',IntegerType(),True), StructField('Household Head Sex',StringType(),True),\n",
    "              StructField('Household Head Age',IntegerType(),True), StructField('Household Head Marital Status',StringType(),True),\n",
    "              StructField('Household Head Highest Grade Completed',StringType(),True), StructField('Household Head Job or Business Indicator',StringType(),True),\n",
    "              StructField('Household Head Occupation',StringType(),True), StructField('Household Head Class of Worker',StringType(),True),\n",
    "              StructField('Type of Household',StringType(),True), StructField('Total Number of Family members',IntegerType(),True),\n",
    "              StructField('Members with age less than 5 year old',IntegerType(),True), StructField('Members with age 5 - 17 years old',IntegerType(),True),\n",
    "              StructField('Total number of family members employed',IntegerType(),True), StructField('Type of Building/House',StringType(),True),\n",
    "              StructField('Type of Roof',StringType(),True), StructField('Type of Walls',StringType(),True),\n",
    "              StructField('House Floor Area',IntegerType(),True), StructField('House Age',IntegerType(),True),\n",
    "              StructField('Number of bedrooms',IntegerType(),True), StructField('Tenure Status',StringType(),True),\n",
    "              StructField('Toilet Facilities',StringType(),True), StructField('Electricity',BooleanType(),True),\n",
    "              StructField('Main Source of Water Supply',StringType(),True), StructField('Number of Television',IntegerType(),True),\n",
    "              StructField('Number of CD/VCD/DVD',IntegerType(),True), StructField('Number of Component/Stereo set',IntegerType(),True),\n",
    "              StructField('Number of Refrigerator/Freezer',IntegerType(),True), StructField('Number of Washing Machine',IntegerType(),True),\n",
    "              StructField('Number of Airconditioner',IntegerType(),True), StructField('Number of Car, Jeep, Van',IntegerType(),True),\n",
    "              StructField('Number of Landline/wireless telephones',IntegerType(),True), StructField('Number of Cellular phone',IntegerType(),True),\n",
    "              StructField('Number of Personal Computer',IntegerType(),True), StructField('Number of Stove with Oven/Gas Range',IntegerType(),True),\n",
    "              StructField('Number of Motorized Banca',IntegerType(),True), StructField('Number of Motorcycle/Tricycle',IntegerType(),True)\n",
    "              ]\n",
    "\n",
    "final_struct = StructType(fields=data_schema)"
   ]
  },
  {
   "cell_type": "code",
   "execution_count": null,
   "id": "f79e9fbe-a1b0-4e54-a733-fccd104b21ef",
   "metadata": {},
   "outputs": [],
   "source": [
    "# And now we can read in the data using that schema. If we print the schema, we can see that age is now an integer. \n",
    "df = spark.read.json('Datasets/people.json', schema=final_struct)\n",
    "\n",
    "df.printSchema()"
   ]
  },
  {
   "cell_type": "code",
   "execution_count": 15,
   "id": "a612f250",
   "metadata": {},
   "outputs": [
    {
     "ename": "ValueError",
     "evalue": "Cannot convert column into bool: please use '&' for 'and', '|' for 'or', '~' for 'not' when building DataFrame boolean expressions.",
     "output_type": "error",
     "traceback": [
      "\u001b[0;31m---------------------------------------------------------------------------\u001b[0m",
      "\u001b[0;31mValueError\u001b[0m                                Traceback (most recent call last)",
      "Input \u001b[0;32mIn [15]\u001b[0m, in \u001b[0;36m<cell line: 3>\u001b[0;34m()\u001b[0m\n\u001b[1;32m      1\u001b[0m \u001b[38;5;66;03m# Data Visualization\u001b[39;00m\n\u001b[0;32m----> 3\u001b[0m ax \u001b[38;5;241m=\u001b[39m \u001b[43msns\u001b[49m\u001b[38;5;241;43m.\u001b[39;49m\u001b[43mhistplot\u001b[49m\u001b[43m \u001b[49m\u001b[43m(\u001b[49m\u001b[43mdata\u001b[49m\u001b[38;5;241;43m=\u001b[39;49m\u001b[43mstatsdata\u001b[49m\u001b[43m,\u001b[49m\u001b[43m \u001b[49m\u001b[43mx\u001b[49m\u001b[38;5;241;43m=\u001b[39;49m\u001b[38;5;124;43m\"\u001b[39;49m\u001b[38;5;124;43mMain Source of Income\u001b[39;49m\u001b[38;5;124;43m\"\u001b[39;49m\u001b[43m)\u001b[49m\n\u001b[1;32m      4\u001b[0m total \u001b[38;5;241m=\u001b[39m statsdata[\u001b[38;5;124m\"\u001b[39m\u001b[38;5;124mMain Source of Income\u001b[39m\u001b[38;5;124m\"\u001b[39m]\u001b[38;5;241m.\u001b[39mcount()\n\u001b[1;32m      5\u001b[0m \u001b[38;5;28;01mfor\u001b[39;00m p \u001b[38;5;129;01min\u001b[39;00m ax\u001b[38;5;241m.\u001b[39mpatches:\n",
      "File \u001b[0;32m~/.local/lib/python3.10/site-packages/seaborn/distributions.py:1430\u001b[0m, in \u001b[0;36mhistplot\u001b[0;34m(data, x, y, hue, weights, stat, bins, binwidth, binrange, discrete, cumulative, common_bins, common_norm, multiple, element, fill, shrink, kde, kde_kws, line_kws, thresh, pthresh, pmax, cbar, cbar_ax, cbar_kws, palette, hue_order, hue_norm, color, log_scale, legend, ax, **kwargs)\u001b[0m\n\u001b[1;32m   1409\u001b[0m \u001b[38;5;28;01mdef\u001b[39;00m \u001b[38;5;21mhistplot\u001b[39m(\n\u001b[1;32m   1410\u001b[0m     data\u001b[38;5;241m=\u001b[39m\u001b[38;5;28;01mNone\u001b[39;00m, \u001b[38;5;241m*\u001b[39m,\n\u001b[1;32m   1411\u001b[0m     \u001b[38;5;66;03m# Vector variables\u001b[39;00m\n\u001b[0;32m   (...)\u001b[0m\n\u001b[1;32m   1427\u001b[0m     \u001b[38;5;241m*\u001b[39m\u001b[38;5;241m*\u001b[39mkwargs,\n\u001b[1;32m   1428\u001b[0m ):\n\u001b[0;32m-> 1430\u001b[0m     p \u001b[38;5;241m=\u001b[39m \u001b[43m_DistributionPlotter\u001b[49m\u001b[43m(\u001b[49m\n\u001b[1;32m   1431\u001b[0m \u001b[43m        \u001b[49m\u001b[43mdata\u001b[49m\u001b[38;5;241;43m=\u001b[39;49m\u001b[43mdata\u001b[49m\u001b[43m,\u001b[49m\n\u001b[1;32m   1432\u001b[0m \u001b[43m        \u001b[49m\u001b[43mvariables\u001b[49m\u001b[38;5;241;43m=\u001b[39;49m\u001b[43m_DistributionPlotter\u001b[49m\u001b[38;5;241;43m.\u001b[39;49m\u001b[43mget_semantics\u001b[49m\u001b[43m(\u001b[49m\u001b[38;5;28;43mlocals\u001b[39;49m\u001b[43m(\u001b[49m\u001b[43m)\u001b[49m\u001b[43m)\u001b[49m\n\u001b[1;32m   1433\u001b[0m \u001b[43m    \u001b[49m\u001b[43m)\u001b[49m\n\u001b[1;32m   1435\u001b[0m     p\u001b[38;5;241m.\u001b[39mmap_hue(palette\u001b[38;5;241m=\u001b[39mpalette, order\u001b[38;5;241m=\u001b[39mhue_order, norm\u001b[38;5;241m=\u001b[39mhue_norm)\n\u001b[1;32m   1437\u001b[0m     \u001b[38;5;28;01mif\u001b[39;00m ax \u001b[38;5;129;01mis\u001b[39;00m \u001b[38;5;28;01mNone\u001b[39;00m:\n",
      "File \u001b[0;32m~/.local/lib/python3.10/site-packages/seaborn/distributions.py:111\u001b[0m, in \u001b[0;36m_DistributionPlotter.__init__\u001b[0;34m(self, data, variables)\u001b[0m\n\u001b[1;32m    105\u001b[0m \u001b[38;5;28;01mdef\u001b[39;00m \u001b[38;5;21m__init__\u001b[39m(\n\u001b[1;32m    106\u001b[0m     \u001b[38;5;28mself\u001b[39m,\n\u001b[1;32m    107\u001b[0m     data\u001b[38;5;241m=\u001b[39m\u001b[38;5;28;01mNone\u001b[39;00m,\n\u001b[1;32m    108\u001b[0m     variables\u001b[38;5;241m=\u001b[39m{},\n\u001b[1;32m    109\u001b[0m ):\n\u001b[0;32m--> 111\u001b[0m     \u001b[38;5;28;43msuper\u001b[39;49m\u001b[43m(\u001b[49m\u001b[43m)\u001b[49m\u001b[38;5;241;43m.\u001b[39;49m\u001b[38;5;21;43m__init__\u001b[39;49m\u001b[43m(\u001b[49m\u001b[43mdata\u001b[49m\u001b[38;5;241;43m=\u001b[39;49m\u001b[43mdata\u001b[49m\u001b[43m,\u001b[49m\u001b[43m \u001b[49m\u001b[43mvariables\u001b[49m\u001b[38;5;241;43m=\u001b[39;49m\u001b[43mvariables\u001b[49m\u001b[43m)\u001b[49m\n",
      "File \u001b[0;32m~/.local/lib/python3.10/site-packages/seaborn/_core.py:605\u001b[0m, in \u001b[0;36mVectorPlotter.__init__\u001b[0;34m(self, data, variables)\u001b[0m\n\u001b[1;32m    603\u001b[0m \u001b[38;5;28;01mdef\u001b[39;00m \u001b[38;5;21m__init__\u001b[39m(\u001b[38;5;28mself\u001b[39m, data\u001b[38;5;241m=\u001b[39m\u001b[38;5;28;01mNone\u001b[39;00m, variables\u001b[38;5;241m=\u001b[39m{}):\n\u001b[0;32m--> 605\u001b[0m     \u001b[38;5;28;43mself\u001b[39;49m\u001b[38;5;241;43m.\u001b[39;49m\u001b[43massign_variables\u001b[49m\u001b[43m(\u001b[49m\u001b[43mdata\u001b[49m\u001b[43m,\u001b[49m\u001b[43m \u001b[49m\u001b[43mvariables\u001b[49m\u001b[43m)\u001b[49m\n\u001b[1;32m    607\u001b[0m     \u001b[38;5;28;01mfor\u001b[39;00m var, \u001b[38;5;28mcls\u001b[39m \u001b[38;5;129;01min\u001b[39;00m \u001b[38;5;28mself\u001b[39m\u001b[38;5;241m.\u001b[39m_semantic_mappings\u001b[38;5;241m.\u001b[39mitems():\n\u001b[1;32m    608\u001b[0m \n\u001b[1;32m    609\u001b[0m         \u001b[38;5;66;03m# Create the mapping function\u001b[39;00m\n\u001b[1;32m    610\u001b[0m         map_func \u001b[38;5;241m=\u001b[39m partial(\u001b[38;5;28mcls\u001b[39m\u001b[38;5;241m.\u001b[39mmap, plotter\u001b[38;5;241m=\u001b[39m\u001b[38;5;28mself\u001b[39m)\n",
      "File \u001b[0;32m~/.local/lib/python3.10/site-packages/seaborn/_core.py:668\u001b[0m, in \u001b[0;36mVectorPlotter.assign_variables\u001b[0;34m(self, data, variables)\u001b[0m\n\u001b[1;32m    666\u001b[0m \u001b[38;5;28;01melse\u001b[39;00m:\n\u001b[1;32m    667\u001b[0m     \u001b[38;5;28mself\u001b[39m\u001b[38;5;241m.\u001b[39minput_format \u001b[38;5;241m=\u001b[39m \u001b[38;5;124m\"\u001b[39m\u001b[38;5;124mlong\u001b[39m\u001b[38;5;124m\"\u001b[39m\n\u001b[0;32m--> 668\u001b[0m     plot_data, variables \u001b[38;5;241m=\u001b[39m \u001b[38;5;28;43mself\u001b[39;49m\u001b[38;5;241;43m.\u001b[39;49m\u001b[43m_assign_variables_longform\u001b[49m\u001b[43m(\u001b[49m\n\u001b[1;32m    669\u001b[0m \u001b[43m        \u001b[49m\u001b[43mdata\u001b[49m\u001b[43m,\u001b[49m\u001b[43m \u001b[49m\u001b[38;5;241;43m*\u001b[39;49m\u001b[38;5;241;43m*\u001b[39;49m\u001b[43mvariables\u001b[49m\u001b[43m,\u001b[49m\n\u001b[1;32m    670\u001b[0m \u001b[43m    \u001b[49m\u001b[43m)\u001b[49m\n\u001b[1;32m    672\u001b[0m \u001b[38;5;28mself\u001b[39m\u001b[38;5;241m.\u001b[39mplot_data \u001b[38;5;241m=\u001b[39m plot_data\n\u001b[1;32m    673\u001b[0m \u001b[38;5;28mself\u001b[39m\u001b[38;5;241m.\u001b[39mvariables \u001b[38;5;241m=\u001b[39m variables\n",
      "File \u001b[0;32m~/.local/lib/python3.10/site-packages/seaborn/_core.py:882\u001b[0m, in \u001b[0;36mVectorPlotter._assign_variables_longform\u001b[0;34m(self, data, **kwargs)\u001b[0m\n\u001b[1;32m    873\u001b[0m \u001b[38;5;28;01mfor\u001b[39;00m key, val \u001b[38;5;129;01min\u001b[39;00m kwargs\u001b[38;5;241m.\u001b[39mitems():\n\u001b[1;32m    874\u001b[0m \n\u001b[1;32m    875\u001b[0m     \u001b[38;5;66;03m# First try to treat the argument as a key for the data collection.\u001b[39;00m\n\u001b[0;32m   (...)\u001b[0m\n\u001b[1;32m    878\u001b[0m     \u001b[38;5;66;03m# taking from the main data object. Only allow strings to reference\u001b[39;00m\n\u001b[1;32m    879\u001b[0m     \u001b[38;5;66;03m# fields in the index, because otherwise there is too much ambiguity.\u001b[39;00m\n\u001b[1;32m    880\u001b[0m     \u001b[38;5;28;01mtry\u001b[39;00m:\n\u001b[1;32m    881\u001b[0m         val_as_data_key \u001b[38;5;241m=\u001b[39m (\n\u001b[0;32m--> 882\u001b[0m             \u001b[43mval\u001b[49m\u001b[43m \u001b[49m\u001b[38;5;129;43;01min\u001b[39;49;00m\u001b[43m \u001b[49m\u001b[43mdata\u001b[49m\n\u001b[1;32m    883\u001b[0m             \u001b[38;5;129;01mor\u001b[39;00m (\u001b[38;5;28misinstance\u001b[39m(val, (\u001b[38;5;28mstr\u001b[39m, \u001b[38;5;28mbytes\u001b[39m)) \u001b[38;5;129;01mand\u001b[39;00m val \u001b[38;5;129;01min\u001b[39;00m index)\n\u001b[1;32m    884\u001b[0m         )\n\u001b[1;32m    885\u001b[0m     \u001b[38;5;28;01mexcept\u001b[39;00m (\u001b[38;5;167;01mKeyError\u001b[39;00m, \u001b[38;5;167;01mTypeError\u001b[39;00m):\n\u001b[1;32m    886\u001b[0m         val_as_data_key \u001b[38;5;241m=\u001b[39m \u001b[38;5;28;01mFalse\u001b[39;00m\n",
      "File \u001b[0;32m~/spark-3.2.1-bin-hadoop2.7/python/pyspark/sql/column.py:907\u001b[0m, in \u001b[0;36mColumn.__nonzero__\u001b[0;34m(self)\u001b[0m\n\u001b[1;32m    906\u001b[0m \u001b[38;5;28;01mdef\u001b[39;00m \u001b[38;5;21m__nonzero__\u001b[39m(\u001b[38;5;28mself\u001b[39m):\n\u001b[0;32m--> 907\u001b[0m     \u001b[38;5;28;01mraise\u001b[39;00m \u001b[38;5;167;01mValueError\u001b[39;00m(\u001b[38;5;124m\"\u001b[39m\u001b[38;5;124mCannot convert column into bool: please use \u001b[39m\u001b[38;5;124m'\u001b[39m\u001b[38;5;124m&\u001b[39m\u001b[38;5;124m'\u001b[39m\u001b[38;5;124m for \u001b[39m\u001b[38;5;124m'\u001b[39m\u001b[38;5;124mand\u001b[39m\u001b[38;5;124m'\u001b[39m\u001b[38;5;124m, \u001b[39m\u001b[38;5;124m'\u001b[39m\u001b[38;5;124m|\u001b[39m\u001b[38;5;124m'\u001b[39m\u001b[38;5;124m for \u001b[39m\u001b[38;5;124m'\u001b[39m\u001b[38;5;124mor\u001b[39m\u001b[38;5;124m'\u001b[39m\u001b[38;5;124m, \u001b[39m\u001b[38;5;124m\"\u001b[39m\n\u001b[1;32m    908\u001b[0m                      \u001b[38;5;124m\"\u001b[39m\u001b[38;5;124m'\u001b[39m\u001b[38;5;124m~\u001b[39m\u001b[38;5;124m'\u001b[39m\u001b[38;5;124m for \u001b[39m\u001b[38;5;124m'\u001b[39m\u001b[38;5;124mnot\u001b[39m\u001b[38;5;124m'\u001b[39m\u001b[38;5;124m when building DataFrame boolean expressions.\u001b[39m\u001b[38;5;124m\"\u001b[39m)\n",
      "\u001b[0;31mValueError\u001b[0m: Cannot convert column into bool: please use '&' for 'and', '|' for 'or', '~' for 'not' when building DataFrame boolean expressions."
     ]
    }
   ],
   "source": [
    "# Data Visualization\n",
    "\n",
    "ax = sns.histplot (data=statsdata, x=\"Main Source of Income\")\n",
    "total = statsdata[\"Main Source of Income\"].count()\n",
    "for p in ax.patches:\n",
    "    txt = str((p.get_height()/total*100).round(2)) + '%'\n",
    "    txt_x = p.get_x() \n",
    "    txt_y = p.get_height()\n",
    "    ax.text(txt_x,txt_y,txt)\n",
    "    \n",
    "plt.show()"
   ]
  },
  {
   "cell_type": "code",
   "execution_count": 15,
   "id": "bb2a2368",
   "metadata": {},
   "outputs": [
    {
     "name": "stdout",
     "output_type": "stream",
     "text": [
      "+-------+------------------------+----------------------+\n",
      "|summary|Medical Care Expenditure|Total Household Income|\n",
      "+-------+------------------------+----------------------+\n",
      "|  count|                   41544|                 41544|\n",
      "|   mean|       7160.230935875216|    247555.58480165608|\n",
      "| stddev|      26902.002274617334|     286880.5226527398|\n",
      "|    min|                       0|                100000|\n",
      "|    max|                    9998|                 99997|\n",
      "+-------+------------------------+----------------------+\n",
      "\n"
     ]
    },
    {
     "ename": "AttributeError",
     "evalue": "'NoneType' object has no attribute 'set_option'",
     "output_type": "error",
     "traceback": [
      "\u001b[0;31m---------------------------------------------------------------------------\u001b[0m",
      "\u001b[0;31mAttributeError\u001b[0m                            Traceback (most recent call last)",
      "Input \u001b[0;32mIn [15]\u001b[0m, in \u001b[0;36m<cell line: 1>\u001b[0;34m()\u001b[0m\n\u001b[0;32m----> 1\u001b[0m \u001b[43mstatsdata\u001b[49m\u001b[38;5;241;43m.\u001b[39;49m\u001b[43mdescribe\u001b[49m\u001b[43m(\u001b[49m\u001b[38;5;124;43m'\u001b[39;49m\u001b[38;5;124;43mMedical Care Expenditure\u001b[39;49m\u001b[38;5;124;43m'\u001b[39;49m\u001b[43m,\u001b[49m\u001b[43m \u001b[49m\u001b[38;5;124;43m'\u001b[39;49m\u001b[38;5;124;43mTotal Household Income\u001b[39;49m\u001b[38;5;124;43m'\u001b[39;49m\u001b[43m)\u001b[49m\u001b[38;5;241;43m.\u001b[39;49m\u001b[43mshow\u001b[49m\u001b[43m(\u001b[49m\u001b[43m)\u001b[49m\u001b[38;5;241;43m.\u001b[39;49m\u001b[43mset_option\u001b[49m(\u001b[38;5;124m'\u001b[39m\u001b[38;5;124mfloat_format\u001b[39m\u001b[38;5;124m'\u001b[39m, \u001b[38;5;124m'\u001b[39m\u001b[38;5;132;01m{:,.2f}\u001b[39;00m\u001b[38;5;124m'\u001b[39m\u001b[38;5;241m.\u001b[39mformat)\n",
      "\u001b[0;31mAttributeError\u001b[0m: 'NoneType' object has no attribute 'set_option'"
     ]
    }
   ],
   "source": [
    "statsdata.describe('Medical Care Expenditure', 'Total Household Income').show().set_option('float_format', '{:,.2f}'.format)"
   ]
  },
  {
   "cell_type": "code",
   "execution_count": 11,
   "id": "2ef3e6a4",
   "metadata": {},
   "outputs": [
    {
     "data": {
      "text/plain": [
       "[('Total Household Income', 'string'),\n",
       " ('Region', 'string'),\n",
       " ('Total Food Expenditure', 'string'),\n",
       " ('Main Source of Income', 'string'),\n",
       " ('Agricultural Household indicator', 'string'),\n",
       " ('Bread and Cereals Expenditure', 'string'),\n",
       " ('Total Rice Expenditure', 'string'),\n",
       " ('Meat Expenditure', 'string'),\n",
       " ('Total Fish and  marine products Expenditure', 'string'),\n",
       " ('Fruit Expenditure', 'string'),\n",
       " ('Vegetables Expenditure', 'string'),\n",
       " ('Restaurant and hotels Expenditure', 'string'),\n",
       " ('Alcoholic Beverages Expenditure', 'string'),\n",
       " ('Tobacco Expenditure', 'string'),\n",
       " ('Clothing, Footwear and Other Wear Expenditure', 'string'),\n",
       " ('Housing and water Expenditure', 'string'),\n",
       " ('Imputed House Rental Value', 'string'),\n",
       " ('Medical Care Expenditure', 'string'),\n",
       " ('Transportation Expenditure', 'string'),\n",
       " ('Communication Expenditure', 'string'),\n",
       " ('Education Expenditure', 'string'),\n",
       " ('Miscellaneous Goods and Services Expenditure', 'string'),\n",
       " ('Special Occasions Expenditure', 'string'),\n",
       " ('Crop Farming and Gardening expenses', 'string'),\n",
       " ('Total Income from Entrepreneurial Acitivites', 'string'),\n",
       " ('Household Head Sex', 'string'),\n",
       " ('Household Head Age', 'string'),\n",
       " ('Household Head Marital Status', 'string'),\n",
       " ('Household Head Highest Grade Completed', 'string'),\n",
       " ('Household Head Job or Business Indicator', 'string'),\n",
       " ('Household Head Occupation', 'string'),\n",
       " ('Household Head Class of Worker', 'string'),\n",
       " ('Type of Household', 'string'),\n",
       " ('Total Number of Family members', 'string'),\n",
       " ('Members with age less than 5 year old', 'string'),\n",
       " ('Members with age 5 - 17 years old', 'string'),\n",
       " ('Total number of family members employed', 'string'),\n",
       " ('Type of Building/House', 'string'),\n",
       " ('Type of Roof', 'string'),\n",
       " ('Type of Walls', 'string'),\n",
       " ('House Floor Area', 'string'),\n",
       " ('House Age', 'string'),\n",
       " ('Number of bedrooms', 'string'),\n",
       " ('Tenure Status', 'string'),\n",
       " ('Toilet Facilities', 'string'),\n",
       " ('Electricity', 'string'),\n",
       " ('Main Source of Water Supply', 'string'),\n",
       " ('Number of Television', 'string'),\n",
       " ('Number of CD/VCD/DVD', 'string'),\n",
       " ('Number of Component/Stereo set', 'string'),\n",
       " ('Number of Refrigerator/Freezer', 'string'),\n",
       " ('Number of Washing Machine', 'string'),\n",
       " ('Number of Airconditioner', 'string'),\n",
       " ('Number of Car, Jeep, Van', 'string'),\n",
       " ('Number of Landline/wireless telephones', 'string'),\n",
       " ('Number of Cellular phone', 'string'),\n",
       " ('Number of Personal Computer', 'string'),\n",
       " ('Number of Stove with Oven/Gas Range', 'string'),\n",
       " ('Number of Motorized Banca', 'string'),\n",
       " ('Number of Motorcycle/Tricycle', 'string')]"
      ]
     },
     "execution_count": 11,
     "metadata": {},
     "output_type": "execute_result"
    }
   ],
   "source": [
    "statsdata.dtypes"
   ]
  },
  {
   "cell_type": "code",
   "execution_count": 12,
   "id": "e9abb4dd",
   "metadata": {},
   "outputs": [
    {
     "ename": "SyntaxError",
     "evalue": "invalid syntax (2936071580.py, line 2)",
     "output_type": "error",
     "traceback": [
      "\u001b[0;36m  Input \u001b[0;32mIn [12]\u001b[0;36m\u001b[0m\n\u001b[0;31m    import org.apache.spark.sql.functions.{col}\u001b[0m\n\u001b[0m                                          ^\u001b[0m\n\u001b[0;31mSyntaxError\u001b[0m\u001b[0;31m:\u001b[0m invalid syntax\n"
     ]
    }
   ],
   "source": [
    "#Filter rows that has numeric value on column\n",
    "import org.apache.spark.sql.functions.{col}\n",
    "statsdata.filter(col(\"alphanumeric\").cast(\"int\").isNotNull).show()"
   ]
  },
  {
   "cell_type": "code",
   "execution_count": 13,
   "id": "7216803f",
   "metadata": {},
   "outputs": [
    {
     "name": "stderr",
     "output_type": "stream",
     "text": [
      "                                                                                \r"
     ]
    },
    {
     "name": "stdout",
     "output_type": "stream",
     "text": [
      "<class 'pandas.core.frame.DataFrame'>\n",
      "RangeIndex: 41544 entries, 0 to 41543\n",
      "Data columns (total 60 columns):\n",
      " #   Column                                         Non-Null Count  Dtype \n",
      "---  ------                                         --------------  ----- \n",
      " 0   Total Household Income                         41544 non-null  object\n",
      " 1   Region                                         41544 non-null  object\n",
      " 2   Total Food Expenditure                         41544 non-null  object\n",
      " 3   Main Source of Income                          41544 non-null  object\n",
      " 4   Agricultural Household indicator               41544 non-null  object\n",
      " 5   Bread and Cereals Expenditure                  41544 non-null  object\n",
      " 6   Total Rice Expenditure                         41544 non-null  object\n",
      " 7   Meat Expenditure                               41544 non-null  object\n",
      " 8   Total Fish and  marine products Expenditure    41544 non-null  object\n",
      " 9   Fruit Expenditure                              41544 non-null  object\n",
      " 10  Vegetables Expenditure                         41544 non-null  object\n",
      " 11  Restaurant and hotels Expenditure              41544 non-null  object\n",
      " 12  Alcoholic Beverages Expenditure                41544 non-null  object\n",
      " 13  Tobacco Expenditure                            41544 non-null  object\n",
      " 14  Clothing, Footwear and Other Wear Expenditure  41544 non-null  object\n",
      " 15  Housing and water Expenditure                  41544 non-null  object\n",
      " 16  Imputed House Rental Value                     41544 non-null  object\n",
      " 17  Medical Care Expenditure                       41544 non-null  object\n",
      " 18  Transportation Expenditure                     41544 non-null  object\n",
      " 19  Communication Expenditure                      41544 non-null  object\n",
      " 20  Education Expenditure                          41544 non-null  object\n",
      " 21  Miscellaneous Goods and Services Expenditure   41544 non-null  object\n",
      " 22  Special Occasions Expenditure                  41544 non-null  object\n",
      " 23  Crop Farming and Gardening expenses            41544 non-null  object\n",
      " 24  Total Income from Entrepreneurial Acitivites   41544 non-null  object\n",
      " 25  Household Head Sex                             41544 non-null  object\n",
      " 26  Household Head Age                             41544 non-null  object\n",
      " 27  Household Head Marital Status                  41544 non-null  object\n",
      " 28  Household Head Highest Grade Completed         41544 non-null  object\n",
      " 29  Household Head Job or Business Indicator       41544 non-null  object\n",
      " 30  Household Head Occupation                      34008 non-null  object\n",
      " 31  Household Head Class of Worker                 34008 non-null  object\n",
      " 32  Type of Household                              41544 non-null  object\n",
      " 33  Total Number of Family members                 41544 non-null  object\n",
      " 34  Members with age less than 5 year old          41544 non-null  object\n",
      " 35  Members with age 5 - 17 years old              41544 non-null  object\n",
      " 36  Total number of family members employed        41544 non-null  object\n",
      " 37  Type of Building/House                         41544 non-null  object\n",
      " 38  Type of Roof                                   41544 non-null  object\n",
      " 39  Type of Walls                                  41544 non-null  object\n",
      " 40  House Floor Area                               41544 non-null  object\n",
      " 41  House Age                                      41544 non-null  object\n",
      " 42  Number of bedrooms                             41544 non-null  object\n",
      " 43  Tenure Status                                  41544 non-null  object\n",
      " 44  Toilet Facilities                              41544 non-null  object\n",
      " 45  Electricity                                    41544 non-null  object\n",
      " 46  Main Source of Water Supply                    41544 non-null  object\n",
      " 47  Number of Television                           41544 non-null  object\n",
      " 48  Number of CD/VCD/DVD                           41544 non-null  object\n",
      " 49  Number of Component/Stereo set                 41544 non-null  object\n",
      " 50  Number of Refrigerator/Freezer                 41544 non-null  object\n",
      " 51  Number of Washing Machine                      41544 non-null  object\n",
      " 52  Number of Airconditioner                       41544 non-null  object\n",
      " 53  Number of Car, Jeep, Van                       41544 non-null  object\n",
      " 54  Number of Landline/wireless telephones         41544 non-null  object\n",
      " 55  Number of Cellular phone                       41544 non-null  object\n",
      " 56  Number of Personal Computer                    41544 non-null  object\n",
      " 57  Number of Stove with Oven/Gas Range            41544 non-null  object\n",
      " 58  Number of Motorized Banca                      41544 non-null  object\n",
      " 59  Number of Motorcycle/Tricycle                  41544 non-null  object\n",
      "dtypes: object(60)\n",
      "memory usage: 19.0+ MB\n"
     ]
    }
   ],
   "source": [
    "statsdata.toPandas().info()"
   ]
  },
  {
   "cell_type": "code",
   "execution_count": null,
   "id": "457c954f",
   "metadata": {},
   "outputs": [],
   "source": []
  }
 ],
 "metadata": {
  "kernelspec": {
   "display_name": "Python 3 (ipykernel)",
   "language": "python",
   "name": "python3"
  },
  "language_info": {
   "codemirror_mode": {
    "name": "ipython",
    "version": 3
   },
   "file_extension": ".py",
   "mimetype": "text/x-python",
   "name": "python",
   "nbconvert_exporter": "python",
   "pygments_lexer": "ipython3",
   "version": "3.9.12"
  }
 },
 "nbformat": 4,
 "nbformat_minor": 5
}
