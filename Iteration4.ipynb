{
 "cells": [
  {
   "cell_type": "markdown",
   "id": "a0b428f9",
   "metadata": {},
   "source": [
    "### Infosys 722 - Iteration 4 BDAS (Steps 1-8)\n",
    "### Submitted by: Sym Concepcion\n",
    "### UPI: scon497, studentID: 829972794"
   ]
  },
  {
   "cell_type": "code",
   "execution_count": 1,
   "id": "65a1d6d0",
   "metadata": {},
   "outputs": [],
   "source": [
    "# Must be included at the beginning of each new notebook. Remember to change the app name.\n",
    "import findspark\n",
    "findspark.init('/home/ubuntu/spark-3.2.1-bin-hadoop2.7')"
   ]
  },
  {
   "cell_type": "code",
   "execution_count": 2,
   "id": "2497bef7",
   "metadata": {},
   "outputs": [
    {
     "name": "stderr",
     "output_type": "stream",
     "text": [
      "WARNING: An illegal reflective access operation has occurred\n",
      "WARNING: Illegal reflective access by org.apache.spark.unsafe.Platform (file:/home/ubuntu/spark-3.2.1-bin-hadoop2.7/jars/spark-unsafe_2.12-3.2.1.jar) to constructor java.nio.DirectByteBuffer(long,int)\n",
      "WARNING: Please consider reporting this to the maintainers of org.apache.spark.unsafe.Platform\n",
      "WARNING: Use --illegal-access=warn to enable warnings of further illegal reflective access operations\n",
      "WARNING: All illegal access operations will be denied in a future release\n",
      "Using Spark's default log4j profile: org/apache/spark/log4j-defaults.properties\n",
      "Setting default log level to \"WARN\".\n",
      "To adjust logging level use sc.setLogLevel(newLevel). For SparkR, use setLogLevel(newLevel).\n",
      "22/10/08 03:06:27 WARN NativeCodeLoader: Unable to load native-hadoop library for your platform... using builtin-java classes where applicable\n"
     ]
    }
   ],
   "source": [
    "import pyspark\n",
    "from pyspark.sql import SparkSession\n",
    "spark = SparkSession.builder.appName('722Basics').getOrCreate()"
   ]
  },
  {
   "cell_type": "code",
   "execution_count": 3,
   "id": "df8f2518",
   "metadata": {},
   "outputs": [],
   "source": [
    "# Let's read in the data. There are 2 sources so we can integrate later. \n",
    "# Note that it's in the format of csv\n",
    "df1 = spark.read.option(\"header\", True).csv('dataset/data_ncr.csv')\n",
    "df2 = spark.read.option(\"header\", True).csv('dataset/data_therest.csv')"
   ]
  },
  {
   "cell_type": "code",
   "execution_count": 4,
   "id": "353a91cd",
   "metadata": {},
   "outputs": [
    {
     "name": "stdout",
     "output_type": "stream",
     "text": [
      "Files read into structure of <class 'pyspark.sql.dataframe.DataFrame'>\n",
      "First dataset (NCR): 4130 x 60\n",
      "Second dataset (Rest of the regions): 37414 x 60\n"
     ]
    }
   ],
   "source": [
    "# df.show()\n",
    "print(\"Files read into structure of\",type(df1))\n",
    "print(\"First dataset (NCR):\", df1.count(), \"x\", len(df1.columns))\n",
    "print(\"Second dataset (Rest of the regions):\", df2.count(), \"x\", len(df2.columns))"
   ]
  },
  {
   "cell_type": "code",
   "execution_count": 5,
   "id": "4f15fd41",
   "metadata": {},
   "outputs": [],
   "source": [
    "# integrate the 2 sources\n",
    "# code adapted from https://www.geeksforgeeks.org/merge-two-dataframes-in-pyspark/\n",
    "import functools \n",
    "def unionAll(dfs):\n",
    "    return functools.reduce(lambda df1, df2: df1.union(df2.select(df1.columns)), dfs)\n",
    "\n",
    "statsdata = unionAll([df1, df2])"
   ]
  },
  {
   "cell_type": "code",
   "execution_count": 7,
   "id": "8813fb47",
   "metadata": {},
   "outputs": [
    {
     "name": "stdout",
     "output_type": "stream",
     "text": [
      "Combined dataset: 41544 x 60\n",
      "root\n",
      " |-- Total Household Income: string (nullable = true)\n",
      " |-- Region: string (nullable = true)\n",
      " |-- Total Food Expenditure: string (nullable = true)\n",
      " |-- Main Source of Income: string (nullable = true)\n",
      " |-- Agricultural Household indicator: string (nullable = true)\n",
      " |-- Bread and Cereals Expenditure: string (nullable = true)\n",
      " |-- Total Rice Expenditure: string (nullable = true)\n",
      " |-- Meat Expenditure: string (nullable = true)\n",
      " |-- Total Fish and  marine products Expenditure: string (nullable = true)\n",
      " |-- Fruit Expenditure: string (nullable = true)\n",
      " |-- Vegetables Expenditure: string (nullable = true)\n",
      " |-- Restaurant and hotels Expenditure: string (nullable = true)\n",
      " |-- Alcoholic Beverages Expenditure: string (nullable = true)\n",
      " |-- Tobacco Expenditure: string (nullable = true)\n",
      " |-- Clothing, Footwear and Other Wear Expenditure: string (nullable = true)\n",
      " |-- Housing and water Expenditure: string (nullable = true)\n",
      " |-- Imputed House Rental Value: string (nullable = true)\n",
      " |-- Medical Care Expenditure: string (nullable = true)\n",
      " |-- Transportation Expenditure: string (nullable = true)\n",
      " |-- Communication Expenditure: string (nullable = true)\n",
      " |-- Education Expenditure: string (nullable = true)\n",
      " |-- Miscellaneous Goods and Services Expenditure: string (nullable = true)\n",
      " |-- Special Occasions Expenditure: string (nullable = true)\n",
      " |-- Crop Farming and Gardening expenses: string (nullable = true)\n",
      " |-- Total Income from Entrepreneurial Acitivites: string (nullable = true)\n",
      " |-- Household Head Sex: string (nullable = true)\n",
      " |-- Household Head Age: string (nullable = true)\n",
      " |-- Household Head Marital Status: string (nullable = true)\n",
      " |-- Household Head Highest Grade Completed: string (nullable = true)\n",
      " |-- Household Head Job or Business Indicator: string (nullable = true)\n",
      " |-- Household Head Occupation: string (nullable = true)\n",
      " |-- Household Head Class of Worker: string (nullable = true)\n",
      " |-- Type of Household: string (nullable = true)\n",
      " |-- Total Number of Family members: string (nullable = true)\n",
      " |-- Members with age less than 5 year old: string (nullable = true)\n",
      " |-- Members with age 5 - 17 years old: string (nullable = true)\n",
      " |-- Total number of family members employed: string (nullable = true)\n",
      " |-- Type of Building/House: string (nullable = true)\n",
      " |-- Type of Roof: string (nullable = true)\n",
      " |-- Type of Walls: string (nullable = true)\n",
      " |-- House Floor Area: string (nullable = true)\n",
      " |-- House Age: string (nullable = true)\n",
      " |-- Number of bedrooms: string (nullable = true)\n",
      " |-- Tenure Status: string (nullable = true)\n",
      " |-- Toilet Facilities: string (nullable = true)\n",
      " |-- Electricity: string (nullable = true)\n",
      " |-- Main Source of Water Supply: string (nullable = true)\n",
      " |-- Number of Television: string (nullable = true)\n",
      " |-- Number of CD/VCD/DVD: string (nullable = true)\n",
      " |-- Number of Component/Stereo set: string (nullable = true)\n",
      " |-- Number of Refrigerator/Freezer: string (nullable = true)\n",
      " |-- Number of Washing Machine: string (nullable = true)\n",
      " |-- Number of Airconditioner: string (nullable = true)\n",
      " |-- Number of Car, Jeep, Van: string (nullable = true)\n",
      " |-- Number of Landline/wireless telephones: string (nullable = true)\n",
      " |-- Number of Cellular phone: string (nullable = true)\n",
      " |-- Number of Personal Computer: string (nullable = true)\n",
      " |-- Number of Stove with Oven/Gas Range: string (nullable = true)\n",
      " |-- Number of Motorized Banca: string (nullable = true)\n",
      " |-- Number of Motorcycle/Tricycle: string (nullable = true)\n",
      "\n"
     ]
    }
   ],
   "source": [
    "print(\"Combined dataset:\", statsdata.count(), \"x\", len(statsdata.columns))\n",
    "statsdata.printSchema()"
   ]
  },
  {
   "cell_type": "code",
   "execution_count": 9,
   "id": "0bf92f49",
   "metadata": {},
   "outputs": [
    {
     "data": {
      "text/plain": [
       "Row(Total Household Income='623738', Region='NCR', Total Food Expenditure='133762', Main Source of Income='Wage/Salaries', Agricultural Household indicator='0', Bread and Cereals Expenditure='21969', Total Rice Expenditure='13000', Meat Expenditure='15192', Total Fish and  marine products Expenditure='10438', Fruit Expenditure='3690', Vegetables Expenditure='5208', Restaurant and hotels Expenditure='52640', Alcoholic Beverages Expenditure='0', Tobacco Expenditure='0', Clothing, Footwear and Other Wear Expenditure='13548', Housing and water Expenditure='124170', Imputed House Rental Value='84000', Medical Care Expenditure='5784', Transportation Expenditure='19440', Communication Expenditure='19188', Education Expenditure='0', Miscellaneous Goods and Services Expenditure='41436', Special Occasions Expenditure='8200', Crop Farming and Gardening expenses='0', Total Income from Entrepreneurial Acitivites='0', Household Head Sex='Male', Household Head Age='62', Household Head Marital Status='Widowed', Household Head Highest Grade Completed='Arts Programs', Household Head Job or Business Indicator='With Job/Business', Household Head Occupation='Composers, musicians and singers', Household Head Class of Worker='Worked for private establishment', Type of Household='Single Family', Total Number of Family members='3', Members with age less than 5 year old='0', Members with age 5 - 17 years old='0', Total number of family members employed='3', Type of Building/House='Single house', Type of Roof='Strong material(galvanized,iron,al,tile,concrete,brick,stone,asbestos)', Type of Walls='Strong', House Floor Area='25', House Age='25', Number of bedrooms='2', Tenure Status='Own or owner-like possession of house and lot', Toilet Facilities='Water-sealed, sewer septic tank, used exclusively by household', Electricity='1', Main Source of Water Supply='Others', Number of Television='2', Number of CD/VCD/DVD='0', Number of Component/Stereo set='1', Number of Refrigerator/Freezer='1', Number of Washing Machine='1', Number of Airconditioner='1', Number of Car, Jeep, Van='0', Number of Landline/wireless telephones='1', Number of Cellular phone='3', Number of Personal Computer='1', Number of Stove with Oven/Gas Range='1', Number of Motorized Banca='0', Number of Motorcycle/Tricycle='0')"
      ]
     },
     "execution_count": 9,
     "metadata": {},
     "output_type": "execute_result"
    }
   ],
   "source": [
    "statsdata.head()"
   ]
  },
  {
   "cell_type": "code",
   "execution_count": 10,
   "id": "ecf9b495",
   "metadata": {},
   "outputs": [
    {
     "name": "stdout",
     "output_type": "stream",
     "text": [
      "+----------------------+------+----------------------+---------------------+--------------------------------+-----------------------------+----------------------+----------------+-------------------------------------------+-----------------+----------------------+---------------------------------+-------------------------------+-------------------+---------------------------------------------+-----------------------------+--------------------------+------------------------+--------------------------+-------------------------+---------------------+--------------------------------------------+-----------------------------+-----------------------------------+--------------------------------------------+------------------+------------------+-----------------------------+--------------------------------------+----------------------------------------+-------------------------+------------------------------+-----------------+------------------------------+-------------------------------------+---------------------------------+---------------------------------------+----------------------+--------------------+-------------+----------------+---------+------------------+--------------------+--------------------+-----------+---------------------------+--------------------+--------------------+------------------------------+------------------------------+-------------------------+------------------------+------------------------+--------------------------------------+------------------------+---------------------------+-----------------------------------+-------------------------+-----------------------------+\n",
      "|Total Household Income|Region|Total Food Expenditure|Main Source of Income|Agricultural Household indicator|Bread and Cereals Expenditure|Total Rice Expenditure|Meat Expenditure|Total Fish and  marine products Expenditure|Fruit Expenditure|Vegetables Expenditure|Restaurant and hotels Expenditure|Alcoholic Beverages Expenditure|Tobacco Expenditure|Clothing, Footwear and Other Wear Expenditure|Housing and water Expenditure|Imputed House Rental Value|Medical Care Expenditure|Transportation Expenditure|Communication Expenditure|Education Expenditure|Miscellaneous Goods and Services Expenditure|Special Occasions Expenditure|Crop Farming and Gardening expenses|Total Income from Entrepreneurial Acitivites|Household Head Sex|Household Head Age|Household Head Marital Status|Household Head Highest Grade Completed|Household Head Job or Business Indicator|Household Head Occupation|Household Head Class of Worker|Type of Household|Total Number of Family members|Members with age less than 5 year old|Members with age 5 - 17 years old|Total number of family members employed|Type of Building/House|        Type of Roof|Type of Walls|House Floor Area|House Age|Number of bedrooms|       Tenure Status|   Toilet Facilities|Electricity|Main Source of Water Supply|Number of Television|Number of CD/VCD/DVD|Number of Component/Stereo set|Number of Refrigerator/Freezer|Number of Washing Machine|Number of Airconditioner|Number of Car, Jeep, Van|Number of Landline/wireless telephones|Number of Cellular phone|Number of Personal Computer|Number of Stove with Oven/Gas Range|Number of Motorized Banca|Number of Motorcycle/Tricycle|\n",
      "+----------------------+------+----------------------+---------------------+--------------------------------+-----------------------------+----------------------+----------------+-------------------------------------------+-----------------+----------------------+---------------------------------+-------------------------------+-------------------+---------------------------------------------+-----------------------------+--------------------------+------------------------+--------------------------+-------------------------+---------------------+--------------------------------------------+-----------------------------+-----------------------------------+--------------------------------------------+------------------+------------------+-----------------------------+--------------------------------------+----------------------------------------+-------------------------+------------------------------+-----------------+------------------------------+-------------------------------------+---------------------------------+---------------------------------------+----------------------+--------------------+-------------+----------------+---------+------------------+--------------------+--------------------+-----------+---------------------------+--------------------+--------------------+------------------------------+------------------------------+-------------------------+------------------------+------------------------+--------------------------------------+------------------------+---------------------------+-----------------------------------+-------------------------+-----------------------------+\n",
      "|                623738|   NCR|                133762|        Wage/Salaries|                               0|                        21969|                 13000|           15192|                                      10438|             3690|                  5208|                            52640|                              0|                  0|                                        13548|                       124170|                     84000|                    5784|                     19440|                    19188|                    0|                                       41436|                         8200|                                  0|                                           0|              Male|                62|                      Widowed|                         Arts Programs|                       With Job/Business|     Composers, musici...|          Worked for privat...|    Single Family|                             3|                                    0|                                0|                                      3|          Single house|Strong material(g...|       Strong|              25|       25|                 2|Own or owner-like...|Water-sealed, sew...|          1|                     Others|                   2|                   0|                             1|                             1|                        1|                       1|                       0|                                     1|                       3|                          1|                                  1|                        0|                            0|\n",
      "|                301900|   NCR|                109815|        Wage/Salaries|                               0|                        22158|                 17550|           14679|                                       4260|             3420|                  5150|                            44140|                           3640|                  0|                                         3290|                       101790|                     72000|                     480|                     17790|                     3600|                 1900|                                       24444|                         3200|                                  0|                                           0|            Female|                73|                      Widowed|                   Elementary Graduate|                         No Job/Business|                     null|                          null|  Extended Family|                             4|                                    0|                                0|                                      1|          Single house|Strong material(g...|       Strong|              25|       15|                 2|Own or owner-like...|Water-sealed, sew...|          1|       Own use, faucet, ...|                   1|                   1|                             0|                             1|                        1|                       0|                       0|                                     0|                       2|                          1|                                  0|                        0|                            0|\n",
      "|                169200|   NCR|                 47653| Other sources of ...|                               0|                        13260|                  8450|            3370|                                       1080|              120|                   420|                            23710|                              0|                  0|                                         5048|                        32532|                         0|                       0|                      2220|                     2880|                61800|                                       11250|                         6500|                                  0|                                           0|            Female|                23|                       Single|                   Second Year College|                         No Job/Business|                     null|                          null|  Extended Family|                             2|                                    0|                                0|                                      0|          Single house|Strong material(g...|       Strong|              10|       10|                 0|Rent house/room i...|Water-sealed, sew...|          1|       Own use, faucet, ...|                   1|                   1|                             0|                             0|                        1|                       0|                       0|                                     0|                       2|                          1|                                  0|                        0|                            0|\n",
      "|                428200|   NCR|                179808|        Wage/Salaries|                               0|                        20996|                 12350|           24016|                                       7920|             3550|                  4980|                           102790|                           2184|               2172|                                         5339|                        72510|                         0|                       0|                      3630|                    15114|                14210|                                       42342|                         9500|                                  0|                                           0|              Male|                42|                      Married|                  Engineering and E...|                       With Job/Business|     Electrical Engineers|          Worked for privat...|    Single Family|                             3|                                    0|                                1|                                      2|          Single house|Strong material(g...|       Strong|              12|       15|                 1|Rent house/room i...|Water-sealed, sew...|          1|       Own use, faucet, ...|                   1|                   1|                             1|                             1|                        1|                       1|                       0|                                     0|                       2|                          1|                                  0|                        0|                            0|\n",
      "|                283100|   NCR|                123872| Other sources of ...|                               0|                        17060|                 13350|           18478|                                      13320|             3830|                  6776|                            45600|                              0|                  0|                                         4310|                        65190|                     36000|                    6512|                     10200|                    10800|                    0|                                       19194|                         6500|                                  0|                                           0|              Male|                57|                      Married|                  Third Year High S...|                         No Job/Business|                     null|                          null|    Single Family|                             3|                                    0|                                0|                                      1|          Single house|Strong material(g...|       Strong|              20|       12|                 2|Own or owner-like...|Water-sealed, sew...|          1|       Own use, faucet, ...|                   2|                   1|                             0|                             1|                        1|                       0|                       0|                                     0|                       2|                          1|                                  0|                        0|                            0|\n",
      "|                513400|   NCR|                189137|        Wage/Salaries|                               0|                        44962|                 33800|           20602|                                      14840|             3670|                  7490|                            73470|                              0|               4344|                                         5299|                       115800|                     60000|                     180|                     16722|                    18714|                    0|                                       47166|                         6000|                                  0|                                           0|            Female|                59|                      Married|                  High School Graduate|                         No Job/Business|                     null|                          null|  Extended Family|                             6|                                    0|                                0|                                      4|          Single house|Strong material(g...|       Strong|              30|       25|                 2|Own or owner-like...|Water-sealed, sew...|          1|       Own use, faucet, ...|                   2|                   1|                             1|                             1|                        1|                       1|                       0|                                     1|                       3|                          1|                                  1|                        0|                            0|\n",
      "|                 96255|   NCR|                 73028|        Wage/Salaries|                               0|                        10078|                  6526|            4020|                                       4544|              690|                  4120|                             7080|                           1820|               1448|                                         1410|                        30720|                         0|                     975|                      2436|                     2280|                    0|                                        7314|                          500|                                  0|                                           0|              Male|                28|                      Married|                  High School Graduate|                       With Job/Business|     Messengers, packa...|          Worked for privat...|    Single Family|                             3|                                    1|                                0|                                      1|                Duplex|Strong material(g...|       Strong|              10|       35|                 0|Rent house/room i...|Water-sealed, sew...|          1|       Shared, faucet, c...|                   1|                   0|                             0|                             0|                        0|                       0|                       0|                                     0|                       2|                          0|                                  0|                        0|                            0|\n",
      "|                304222|   NCR|                130908|        Wage/Salaries|                               0|                        25195|                 17628|           12150|                                       6649|             2110|                  3620|                            67125|                           5005|               2172|                                         2260|                        81000|                     51000|                    8790|                     13422|                     1890|                    0|                                       13374|                         1800|                                  0|                                           0|              Male|                60|                      Married|                   Elementary Graduate|                       With Job/Business|     Lifting truck ope...|          Worked for privat...|    Single Family|                             3|                                    0|                                0|                                      2|          Single house|Strong material(g...|       Strong|              20|        9|                 2|Rent-free house a...|Water-sealed, sew...|          1|       Own use, faucet, ...|                   1|                   1|                             0|                             1|                        1|                       0|                       0|                                     0|                       2|                          0|                                  0|                        0|                            0|\n",
      "|                287475|   NCR|                149365|        Wage/Salaries|                               0|                        19663|                 14933|           16415|                                       6860|             1635|                  4780|                            82145|                           1630|                  0|                                         4830|                        70698|                     42000|                    3310|                     18516|                     2562|                10250|                                       16548|                         2850|                                  0|                                           0|            Female|                39|                      Married|                  High School Graduate|                       With Job/Business|     Helpers and clean...|          Worked for privat...|    Single Family|                             5|                                    0|                                2|                                      2|          Single house|Strong material(g...|       Strong|              15|       15|                 2|Own or owner-like...|Water-sealed, sew...|          1|       Own use, faucet, ...|                   1|                   1|                             0|                             0|                        1|                       0|                       0|                                     0|                       3|                          0|                                  0|                        0|                            0|\n",
      "|                367204|   NCR|                190454|        Wage/Salaries|                               0|                        43072|                 30680|           43765|                                       7614|             3980|                  4458|                            45700|                           4290|                905|                                         6185|                        75060|                     30000|                   12195|                     17004|                     1980|                  780|                                       27552|                         2400|                                  0|                                       94790|              Male|                43|                      Married|                  High School Graduate|                       With Job/Business|     Heavy truck and l...|          Worked for privat...|  Extended Family|                             8|                                    1|                                1|                                      2|          Single house|Strong material(g...|       Strong|              15|       15|                 1|Own or owner-like...|Water-sealed, sew...|          1|       Own use, faucet, ...|                   1|                   0|                             0|                             1|                        1|                       0|                       0|                                     0|                       1|                          0|                                  0|                        0|                            0|\n",
      "+----------------------+------+----------------------+---------------------+--------------------------------+-----------------------------+----------------------+----------------+-------------------------------------------+-----------------+----------------------+---------------------------------+-------------------------------+-------------------+---------------------------------------------+-----------------------------+--------------------------+------------------------+--------------------------+-------------------------+---------------------+--------------------------------------------+-----------------------------+-----------------------------------+--------------------------------------------+------------------+------------------+-----------------------------+--------------------------------------+----------------------------------------+-------------------------+------------------------------+-----------------+------------------------------+-------------------------------------+---------------------------------+---------------------------------------+----------------------+--------------------+-------------+----------------+---------+------------------+--------------------+--------------------+-----------+---------------------------+--------------------+--------------------+------------------------------+------------------------------+-------------------------+------------------------+------------------------+--------------------------------------+------------------------+---------------------------+-----------------------------------+-------------------------+-----------------------------+\n",
      "only showing top 10 rows\n",
      "\n"
     ]
    }
   ],
   "source": [
    "statsdata.show(10)"
   ]
  },
  {
   "cell_type": "code",
   "execution_count": 11,
   "id": "a93c5548",
   "metadata": {},
   "outputs": [
    {
     "name": "stderr",
     "output_type": "stream",
     "text": [
      "\r",
      "[Stage 16:===================>                                      (1 + 2) / 3]\r",
      "\r",
      "[Stage 16:======================================>                   (2 + 1) / 3]\r"
     ]
    },
    {
     "name": "stdout",
     "output_type": "stream",
     "text": [
      "+-------+----------------------+\n",
      "|summary|Total Household Income|\n",
      "+-------+----------------------+\n",
      "|  count|                 41544|\n",
      "|   mean|    247555.58480165608|\n",
      "| stddev|     286880.5226527398|\n",
      "|    min|                100000|\n",
      "|    max|                 99997|\n",
      "+-------+----------------------+\n",
      "\n"
     ]
    },
    {
     "name": "stderr",
     "output_type": "stream",
     "text": [
      "\r",
      "                                                                                \r"
     ]
    }
   ],
   "source": [
    "statsdata.describe('Total Household Income').show()"
   ]
  },
  {
   "cell_type": "code",
   "execution_count": 12,
   "id": "b55499a9",
   "metadata": {},
   "outputs": [
    {
     "name": "stdout",
     "output_type": "stream",
     "text": [
      "+-------+------------------------+\n",
      "|summary|Medical Care Expenditure|\n",
      "+-------+------------------------+\n",
      "|  count|                   41544|\n",
      "|   mean|       7160.230935875216|\n",
      "| stddev|      26902.002274617334|\n",
      "|    min|                       0|\n",
      "|    max|                    9998|\n",
      "+-------+------------------------+\n",
      "\n"
     ]
    }
   ],
   "source": [
    "statsdata.describe('Medical Care Expenditure').show()"
   ]
  },
  {
   "cell_type": "code",
   "execution_count": null,
   "id": "f62928d3",
   "metadata": {},
   "outputs": [],
   "source": []
  }
 ],
 "metadata": {
  "kernelspec": {
   "display_name": "Python 3 (ipykernel)",
   "language": "python",
   "name": "python3"
  },
  "language_info": {
   "codemirror_mode": {
    "name": "ipython",
    "version": 3
   },
   "file_extension": ".py",
   "mimetype": "text/x-python",
   "name": "python",
   "nbconvert_exporter": "python",
   "pygments_lexer": "ipython3",
   "version": "3.10.4"
  }
 },
 "nbformat": 4,
 "nbformat_minor": 5
}
