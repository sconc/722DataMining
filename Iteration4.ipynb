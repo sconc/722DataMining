{
 "cells": [
  {
   "cell_type": "markdown",
   "id": "a0b428f9",
   "metadata": {},
   "source": [
    "### Infosys 722 - Iteration 4 BDAS (Steps 1-8)\n",
    "### Submitted by: Sym Concepcion\n",
    "### UPI: scon497, studentID: 829972794"
   ]
  },
  {
   "cell_type": "code",
   "execution_count": 1,
   "id": "65a1d6d0",
   "metadata": {},
   "outputs": [],
   "source": [
    "# Must be included at the beginning of each new notebook. Remember to change the app name.\n",
    "import findspark\n",
    "findspark.init('/home/ubuntu/spark-3.2.1-bin-hadoop2.7')"
   ]
  },
  {
   "cell_type": "code",
   "execution_count": 2,
   "id": "c2e0331c",
   "metadata": {},
   "outputs": [
    {
     "name": "stderr",
     "output_type": "stream",
     "text": [
      "WARNING: An illegal reflective access operation has occurred\n",
      "WARNING: Illegal reflective access by org.apache.spark.unsafe.Platform (file:/home/ubuntu/spark-3.2.1-bin-hadoop2.7/jars/spark-unsafe_2.12-3.2.1.jar) to constructor java.nio.DirectByteBuffer(long,int)\n",
      "WARNING: Please consider reporting this to the maintainers of org.apache.spark.unsafe.Platform\n",
      "WARNING: Use --illegal-access=warn to enable warnings of further illegal reflective access operations\n",
      "WARNING: All illegal access operations will be denied in a future release\n",
      "Using Spark's default log4j profile: org/apache/spark/log4j-defaults.properties\n",
      "Setting default log level to \"WARN\".\n",
      "To adjust logging level use sc.setLogLevel(newLevel). For SparkR, use setLogLevel(newLevel).\n",
      "22/10/08 03:06:27 WARN NativeCodeLoader: Unable to load native-hadoop library for your platform... using builtin-java classes where applicable\n"
     ]
    }
   ],
   "source": [
    "import pyspark\n",
    "from pyspark.sql import SparkSession\n",
    "spark = SparkSession.builder.appName('722Basics').getOrCreate()"
   ]
  },
  {
   "cell_type": "code",
   "execution_count": 3,
   "id": "919a9ee7",
   "metadata": {},
   "outputs": [],
   "source": [
    "# Let's read in the data. There are 2 sources so we can integrate later. \n",
    "# Note that it's in the format of csv\n",
    "df1 = spark.read.option(\"header\", True).csv('dataset/data_ncr.csv')\n",
    "df2 = spark.read.option(\"header\", True).csv('dataset/data_therest.csv')"
   ]
  },
  {
   "cell_type": "code",
   "execution_count": 4,
   "id": "353a91cd",
   "metadata": {},
   "outputs": [
    {
     "name": "stdout",
     "output_type": "stream",
     "text": [
      "Files read into structure of <class 'pyspark.sql.dataframe.DataFrame'>\n",
      "First dataset (NCR): 4130 x 60\n",
      "Second dataset (Rest of the regions): 37414 x 60\n"
     ]
    }
   ],
   "source": [
    "# df.show()\n",
    "print(\"Files read into structure of\",type(df1))\n",
    "print(\"First dataset (NCR):\", df1.count(), \"x\", len(df1.columns))\n",
    "print(\"Second dataset (Rest of the regions):\", df2.count(), \"x\", len(df2.columns))"
   ]
  },
  {
   "cell_type": "code",
   "execution_count": 5,
   "id": "cefec55e",
   "metadata": {},
   "outputs": [],
   "source": [
    "# integrate the 2 sources\n",
    "# code adapted from https://www.geeksforgeeks.org/merge-two-dataframes-in-pyspark/\n",
    "import functools \n",
    "def unionAll(dfs):\n",
    "    return functools.reduce(lambda df1, df2: df1.union(df2.select(df1.columns)), dfs)\n",
    "\n",
    "statsdata = unionAll([df1, df2])"
   ]
  },
  {
   "cell_type": "code",
   "execution_count": 7,
   "id": "8813fb47",
   "metadata": {},
   "outputs": [
    {
     "name": "stdout",
     "output_type": "stream",
     "text": [
      "Combined dataset: 41544 x 60\n",
      "root\n",
      " |-- Total Household Income: string (nullable = true)\n",
      " |-- Region: string (nullable = true)\n",
      " |-- Total Food Expenditure: string (nullable = true)\n",
      " |-- Main Source of Income: string (nullable = true)\n",
      " |-- Agricultural Household indicator: string (nullable = true)\n",
      " |-- Bread and Cereals Expenditure: string (nullable = true)\n",
      " |-- Total Rice Expenditure: string (nullable = true)\n",
      " |-- Meat Expenditure: string (nullable = true)\n",
      " |-- Total Fish and  marine products Expenditure: string (nullable = true)\n",
      " |-- Fruit Expenditure: string (nullable = true)\n",
      " |-- Vegetables Expenditure: string (nullable = true)\n",
      " |-- Restaurant and hotels Expenditure: string (nullable = true)\n",
      " |-- Alcoholic Beverages Expenditure: string (nullable = true)\n",
      " |-- Tobacco Expenditure: string (nullable = true)\n",
      " |-- Clothing, Footwear and Other Wear Expenditure: string (nullable = true)\n",
      " |-- Housing and water Expenditure: string (nullable = true)\n",
      " |-- Imputed House Rental Value: string (nullable = true)\n",
      " |-- Medical Care Expenditure: string (nullable = true)\n",
      " |-- Transportation Expenditure: string (nullable = true)\n",
      " |-- Communication Expenditure: string (nullable = true)\n",
      " |-- Education Expenditure: string (nullable = true)\n",
      " |-- Miscellaneous Goods and Services Expenditure: string (nullable = true)\n",
      " |-- Special Occasions Expenditure: string (nullable = true)\n",
      " |-- Crop Farming and Gardening expenses: string (nullable = true)\n",
      " |-- Total Income from Entrepreneurial Acitivites: string (nullable = true)\n",
      " |-- Household Head Sex: string (nullable = true)\n",
      " |-- Household Head Age: string (nullable = true)\n",
      " |-- Household Head Marital Status: string (nullable = true)\n",
      " |-- Household Head Highest Grade Completed: string (nullable = true)\n",
      " |-- Household Head Job or Business Indicator: string (nullable = true)\n",
      " |-- Household Head Occupation: string (nullable = true)\n",
      " |-- Household Head Class of Worker: string (nullable = true)\n",
      " |-- Type of Household: string (nullable = true)\n",
      " |-- Total Number of Family members: string (nullable = true)\n",
      " |-- Members with age less than 5 year old: string (nullable = true)\n",
      " |-- Members with age 5 - 17 years old: string (nullable = true)\n",
      " |-- Total number of family members employed: string (nullable = true)\n",
      " |-- Type of Building/House: string (nullable = true)\n",
      " |-- Type of Roof: string (nullable = true)\n",
      " |-- Type of Walls: string (nullable = true)\n",
      " |-- House Floor Area: string (nullable = true)\n",
      " |-- House Age: string (nullable = true)\n",
      " |-- Number of bedrooms: string (nullable = true)\n",
      " |-- Tenure Status: string (nullable = true)\n",
      " |-- Toilet Facilities: string (nullable = true)\n",
      " |-- Electricity: string (nullable = true)\n",
      " |-- Main Source of Water Supply: string (nullable = true)\n",
      " |-- Number of Television: string (nullable = true)\n",
      " |-- Number of CD/VCD/DVD: string (nullable = true)\n",
      " |-- Number of Component/Stereo set: string (nullable = true)\n",
      " |-- Number of Refrigerator/Freezer: string (nullable = true)\n",
      " |-- Number of Washing Machine: string (nullable = true)\n",
      " |-- Number of Airconditioner: string (nullable = true)\n",
      " |-- Number of Car, Jeep, Van: string (nullable = true)\n",
      " |-- Number of Landline/wireless telephones: string (nullable = true)\n",
      " |-- Number of Cellular phone: string (nullable = true)\n",
      " |-- Number of Personal Computer: string (nullable = true)\n",
      " |-- Number of Stove with Oven/Gas Range: string (nullable = true)\n",
      " |-- Number of Motorized Banca: string (nullable = true)\n",
      " |-- Number of Motorcycle/Tricycle: string (nullable = true)\n",
      "\n"
     ]
    }
   ],
   "source": [
    "print(\"Combined dataset:\", statsdata.count(), \"x\", len(statsdata.columns))\n",
    "statsdata.printSchema()"
   ]
  },
  {
   "cell_type": "code",
   "execution_count": 9,
   "id": "26f7776d",
   "metadata": {},
   "outputs": [
    {
     "data": {
      "text/plain": [
       "Row(Total Household Income='623738', Region='NCR', Total Food Expenditure='133762', Main Source of Income='Wage/Salaries', Agricultural Household indicator='0', Bread and Cereals Expenditure='21969', Total Rice Expenditure='13000', Meat Expenditure='15192', Total Fish and  marine products Expenditure='10438', Fruit Expenditure='3690', Vegetables Expenditure='5208', Restaurant and hotels Expenditure='52640', Alcoholic Beverages Expenditure='0', Tobacco Expenditure='0', Clothing, Footwear and Other Wear Expenditure='13548', Housing and water Expenditure='124170', Imputed House Rental Value='84000', Medical Care Expenditure='5784', Transportation Expenditure='19440', Communication Expenditure='19188', Education Expenditure='0', Miscellaneous Goods and Services Expenditure='41436', Special Occasions Expenditure='8200', Crop Farming and Gardening expenses='0', Total Income from Entrepreneurial Acitivites='0', Household Head Sex='Male', Household Head Age='62', Household Head Marital Status='Widowed', Household Head Highest Grade Completed='Arts Programs', Household Head Job or Business Indicator='With Job/Business', Household Head Occupation='Composers, musicians and singers', Household Head Class of Worker='Worked for private establishment', Type of Household='Single Family', Total Number of Family members='3', Members with age less than 5 year old='0', Members with age 5 - 17 years old='0', Total number of family members employed='3', Type of Building/House='Single house', Type of Roof='Strong material(galvanized,iron,al,tile,concrete,brick,stone,asbestos)', Type of Walls='Strong', House Floor Area='25', House Age='25', Number of bedrooms='2', Tenure Status='Own or owner-like possession of house and lot', Toilet Facilities='Water-sealed, sewer septic tank, used exclusively by household', Electricity='1', Main Source of Water Supply='Others', Number of Television='2', Number of CD/VCD/DVD='0', Number of Component/Stereo set='1', Number of Refrigerator/Freezer='1', Number of Washing Machine='1', Number of Airconditioner='1', Number of Car, Jeep, Van='0', Number of Landline/wireless telephones='1', Number of Cellular phone='3', Number of Personal Computer='1', Number of Stove with Oven/Gas Range='1', Number of Motorized Banca='0', Number of Motorcycle/Tricycle='0')"
      ]
     },
     "execution_count": 9,
     "metadata": {},
     "output_type": "execute_result"
    }
   ],
   "source": [
    "statsdata.head()"
   ]
  },
  {
   "cell_type": "code",
   "execution_count": 29,
   "id": "babf87df",
   "metadata": {},
   "outputs": [
    {
     "name": "stdout",
     "output_type": "stream",
     "text": [
      "-RECORD 0-------------------------------------------------------------\n",
      " Total Household Income                        | 623738               \n",
      " Region                                        | NCR                  \n",
      " Total Food Expenditure                        | 133762               \n",
      " Main Source of Income                         | Wage/Salaries        \n",
      " Agricultural Household indicator              | 0                    \n",
      " Bread and Cereals Expenditure                 | 21969                \n",
      " Total Rice Expenditure                        | 13000                \n",
      " Meat Expenditure                              | 15192                \n",
      " Total Fish and  marine products Expenditure   | 10438                \n",
      " Fruit Expenditure                             | 3690                 \n",
      " Vegetables Expenditure                        | 5208                 \n",
      " Restaurant and hotels Expenditure             | 52640                \n",
      " Alcoholic Beverages Expenditure               | 0                    \n",
      " Tobacco Expenditure                           | 0                    \n",
      " Clothing, Footwear and Other Wear Expenditure | 13548                \n",
      " Housing and water Expenditure                 | 124170               \n",
      " Imputed House Rental Value                    | 84000                \n",
      " Medical Care Expenditure                      | 5784                 \n",
      " Transportation Expenditure                    | 19440                \n",
      " Communication Expenditure                     | 19188                \n",
      " Education Expenditure                         | 0                    \n",
      " Miscellaneous Goods and Services Expenditure  | 41436                \n",
      " Special Occasions Expenditure                 | 8200                 \n",
      " Crop Farming and Gardening expenses           | 0                    \n",
      " Total Income from Entrepreneurial Acitivites  | 0                    \n",
      " Household Head Sex                            | Male                 \n",
      " Household Head Age                            | 62                   \n",
      " Household Head Marital Status                 | Widowed              \n",
      " Household Head Highest Grade Completed        | Arts Programs        \n",
      " Household Head Job or Business Indicator      | With Job/Business    \n",
      " Household Head Occupation                     | Composers, musici... \n",
      " Household Head Class of Worker                | Worked for privat... \n",
      " Type of Household                             | Single Family        \n",
      " Total Number of Family members                | 3                    \n",
      " Members with age less than 5 year old         | 0                    \n",
      " Members with age 5 - 17 years old             | 0                    \n",
      " Total number of family members employed       | 3                    \n",
      " Type of Building/House                        | Single house         \n",
      " Type of Roof                                  | Strong material(g... \n",
      " Type of Walls                                 | Strong               \n",
      " House Floor Area                              | 25                   \n",
      " House Age                                     | 25                   \n",
      " Number of bedrooms                            | 2                    \n",
      " Tenure Status                                 | Own or owner-like... \n",
      " Toilet Facilities                             | Water-sealed, sew... \n",
      " Electricity                                   | 1                    \n",
      " Main Source of Water Supply                   | Others               \n",
      " Number of Television                          | 2                    \n",
      " Number of CD/VCD/DVD                          | 0                    \n",
      " Number of Component/Stereo set                | 1                    \n",
      " Number of Refrigerator/Freezer                | 1                    \n",
      " Number of Washing Machine                     | 1                    \n",
      " Number of Airconditioner                      | 1                    \n",
      " Number of Car, Jeep, Van                      | 0                    \n",
      " Number of Landline/wireless telephones        | 1                    \n",
      " Number of Cellular phone                      | 3                    \n",
      " Number of Personal Computer                   | 1                    \n",
      " Number of Stove with Oven/Gas Range           | 1                    \n",
      " Number of Motorized Banca                     | 0                    \n",
      " Number of Motorcycle/Tricycle                 | 0                    \n",
      "only showing top 1 row\n",
      "\n"
     ]
    }
   ],
   "source": [
    "statsdata.show(1, vertical=True)"
   ]
  },
  {
   "cell_type": "code",
   "execution_count": 11,
   "id": "a93c5548",
   "metadata": {},
   "outputs": [
    {
     "name": "stderr",
     "output_type": "stream",
     "text": [
      "\r",
      "[Stage 16:===================>                                      (1 + 2) / 3]\r",
      "\r",
      "[Stage 16:======================================>                   (2 + 1) / 3]\r"
     ]
    },
    {
     "name": "stdout",
     "output_type": "stream",
     "text": [
      "+-------+----------------------+\n",
      "|summary|Total Household Income|\n",
      "+-------+----------------------+\n",
      "|  count|                 41544|\n",
      "|   mean|    247555.58480165608|\n",
      "| stddev|     286880.5226527398|\n",
      "|    min|                100000|\n",
      "|    max|                 99997|\n",
      "+-------+----------------------+\n",
      "\n"
     ]
    },
    {
     "name": "stderr",
     "output_type": "stream",
     "text": [
      "\r",
      "                                                                                \r"
     ]
    }
   ],
   "source": [
    "statsdata.describe('Total Household Income').show()"
   ]
  },
  {
   "cell_type": "code",
   "execution_count": 12,
   "id": "5417a21c",
   "metadata": {},
   "outputs": [
    {
     "name": "stdout",
     "output_type": "stream",
     "text": [
      "+-------+------------------------+\n",
      "|summary|Medical Care Expenditure|\n",
      "+-------+------------------------+\n",
      "|  count|                   41544|\n",
      "|   mean|       7160.230935875216|\n",
      "| stddev|      26902.002274617334|\n",
      "|    min|                       0|\n",
      "|    max|                    9998|\n",
      "+-------+------------------------+\n",
      "\n"
     ]
    }
   ],
   "source": [
    "statsdata.describe('Medical Care Expenditure').show()"
   ]
  },
  {
   "cell_type": "code",
   "execution_count": 13,
   "id": "66e6e988",
   "metadata": {},
   "outputs": [
    {
     "name": "stderr",
     "output_type": "stream",
     "text": [
      "\r",
      "[Stage 22:===================>                                      (1 + 2) / 3]\r"
     ]
    },
    {
     "name": "stdout",
     "output_type": "stream",
     "text": [
      "+-------+------------------------+----------------------+\n",
      "|summary|Medical Care Expenditure|Total Household Income|\n",
      "+-------+------------------------+----------------------+\n",
      "|  count|                   41544|                 41544|\n",
      "|   mean|       7160.230935875216|    247555.58480165608|\n",
      "| stddev|      26902.002274617334|     286880.5226527398|\n",
      "|    min|                       0|                100000|\n",
      "|    max|                    9998|                 99997|\n",
      "+-------+------------------------+----------------------+\n",
      "\n"
     ]
    },
    {
     "name": "stderr",
     "output_type": "stream",
     "text": [
      "\r",
      "                                                                                \r"
     ]
    }
   ],
   "source": [
    "statsdata.describe('Medical Care Expenditure', 'Total Household Income').show()"
   ]
  },
  {
   "cell_type": "code",
   "execution_count": 26,
   "id": "cfced377",
   "metadata": {},
   "outputs": [
    {
     "ename": "AttributeError",
     "evalue": "type object 'DataFrame' has no attribute 'set_option'",
     "output_type": "error",
     "traceback": [
      "\u001b[0;31m---------------------------------------------------------------------------\u001b[0m",
      "\u001b[0;31mAttributeError\u001b[0m                            Traceback (most recent call last)",
      "Input \u001b[0;32mIn [26]\u001b[0m, in \u001b[0;36m<cell line: 1>\u001b[0;34m()\u001b[0m\n\u001b[0;32m----> 1\u001b[0m \u001b[43mpyspark\u001b[49m\u001b[38;5;241;43m.\u001b[39;49m\u001b[43msql\u001b[49m\u001b[38;5;241;43m.\u001b[39;49m\u001b[43mdataframe\u001b[49m\u001b[38;5;241;43m.\u001b[39;49m\u001b[43mDataFrame\u001b[49m\u001b[38;5;241;43m.\u001b[39;49m\u001b[43mset_option\u001b[49m(\u001b[38;5;124m'\u001b[39m\u001b[38;5;124mfloat_format\u001b[39m\u001b[38;5;124m'\u001b[39m, \u001b[38;5;124m'\u001b[39m\u001b[38;5;132;01m{:,.2f}\u001b[39;00m\u001b[38;5;124m'\u001b[39m\u001b[38;5;241m.\u001b[39mformat)\n",
      "\u001b[0;31mAttributeError\u001b[0m: type object 'DataFrame' has no attribute 'set_option'"
     ]
    }
   ],
   "source": [
    "pyspark.sql.dataframe.DataFrame.set_option('float_format', '{:,.2f}'.format)"
   ]
  },
  {
   "cell_type": "code",
   "execution_count": 15,
   "id": "bb2a2368",
   "metadata": {},
   "outputs": [
    {
     "name": "stdout",
     "output_type": "stream",
     "text": [
      "+-------+------------------------+----------------------+\n",
      "|summary|Medical Care Expenditure|Total Household Income|\n",
      "+-------+------------------------+----------------------+\n",
      "|  count|                   41544|                 41544|\n",
      "|   mean|       7160.230935875216|    247555.58480165608|\n",
      "| stddev|      26902.002274617334|     286880.5226527398|\n",
      "|    min|                       0|                100000|\n",
      "|    max|                    9998|                 99997|\n",
      "+-------+------------------------+----------------------+\n",
      "\n"
     ]
    },
    {
     "ename": "AttributeError",
     "evalue": "'NoneType' object has no attribute 'set_option'",
     "output_type": "error",
     "traceback": [
      "\u001b[0;31m---------------------------------------------------------------------------\u001b[0m",
      "\u001b[0;31mAttributeError\u001b[0m                            Traceback (most recent call last)",
      "Input \u001b[0;32mIn [15]\u001b[0m, in \u001b[0;36m<cell line: 1>\u001b[0;34m()\u001b[0m\n\u001b[0;32m----> 1\u001b[0m \u001b[43mstatsdata\u001b[49m\u001b[38;5;241;43m.\u001b[39;49m\u001b[43mdescribe\u001b[49m\u001b[43m(\u001b[49m\u001b[38;5;124;43m'\u001b[39;49m\u001b[38;5;124;43mMedical Care Expenditure\u001b[39;49m\u001b[38;5;124;43m'\u001b[39;49m\u001b[43m,\u001b[49m\u001b[43m \u001b[49m\u001b[38;5;124;43m'\u001b[39;49m\u001b[38;5;124;43mTotal Household Income\u001b[39;49m\u001b[38;5;124;43m'\u001b[39;49m\u001b[43m)\u001b[49m\u001b[38;5;241;43m.\u001b[39;49m\u001b[43mshow\u001b[49m\u001b[43m(\u001b[49m\u001b[43m)\u001b[49m\u001b[38;5;241;43m.\u001b[39;49m\u001b[43mset_option\u001b[49m(\u001b[38;5;124m'\u001b[39m\u001b[38;5;124mfloat_format\u001b[39m\u001b[38;5;124m'\u001b[39m, \u001b[38;5;124m'\u001b[39m\u001b[38;5;132;01m{:,.2f}\u001b[39;00m\u001b[38;5;124m'\u001b[39m\u001b[38;5;241m.\u001b[39mformat)\n",
      "\u001b[0;31mAttributeError\u001b[0m: 'NoneType' object has no attribute 'set_option'"
     ]
    }
   ],
   "source": [
    "statsdata.describe('Medical Care Expenditure', 'Total Household Income').show().set_option('float_format', '{:,.2f}'.format)"
   ]
  },
  {
   "cell_type": "code",
   "execution_count": 16,
   "id": "74182710",
   "metadata": {},
   "outputs": [
    {
     "name": "stdout",
     "output_type": "stream",
     "text": [
      "+----------------------+------+----------------------+---------------------+--------------------------------+-----------------------------+----------------------+----------------+-------------------------------------------+-----------------+----------------------+---------------------------------+-------------------------------+-------------------+---------------------------------------------+-----------------------------+--------------------------+------------------------+--------------------------+-------------------------+---------------------+--------------------------------------------+-----------------------------+-----------------------------------+--------------------------------------------+------------------+------------------+-----------------------------+--------------------------------------+----------------------------------------+-------------------------+------------------------------+-----------------+------------------------------+-------------------------------------+---------------------------------+---------------------------------------+----------------------+------------+-------------+----------------+---------+------------------+-------------+-----------------+-----------+---------------------------+--------------------+--------------------+------------------------------+------------------------------+-------------------------+------------------------+------------------------+--------------------------------------+------------------------+---------------------------+-----------------------------------+-------------------------+-----------------------------+\n",
      "|Total Household Income|Region|Total Food Expenditure|Main Source of Income|Agricultural Household indicator|Bread and Cereals Expenditure|Total Rice Expenditure|Meat Expenditure|Total Fish and  marine products Expenditure|Fruit Expenditure|Vegetables Expenditure|Restaurant and hotels Expenditure|Alcoholic Beverages Expenditure|Tobacco Expenditure|Clothing, Footwear and Other Wear Expenditure|Housing and water Expenditure|Imputed House Rental Value|Medical Care Expenditure|Transportation Expenditure|Communication Expenditure|Education Expenditure|Miscellaneous Goods and Services Expenditure|Special Occasions Expenditure|Crop Farming and Gardening expenses|Total Income from Entrepreneurial Acitivites|Household Head Sex|Household Head Age|Household Head Marital Status|Household Head Highest Grade Completed|Household Head Job or Business Indicator|Household Head Occupation|Household Head Class of Worker|Type of Household|Total Number of Family members|Members with age less than 5 year old|Members with age 5 - 17 years old|Total number of family members employed|Type of Building/House|Type of Roof|Type of Walls|House Floor Area|House Age|Number of bedrooms|Tenure Status|Toilet Facilities|Electricity|Main Source of Water Supply|Number of Television|Number of CD/VCD/DVD|Number of Component/Stereo set|Number of Refrigerator/Freezer|Number of Washing Machine|Number of Airconditioner|Number of Car, Jeep, Van|Number of Landline/wireless telephones|Number of Cellular phone|Number of Personal Computer|Number of Stove with Oven/Gas Range|Number of Motorized Banca|Number of Motorcycle/Tricycle|\n",
      "+----------------------+------+----------------------+---------------------+--------------------------------+-----------------------------+----------------------+----------------+-------------------------------------------+-----------------+----------------------+---------------------------------+-------------------------------+-------------------+---------------------------------------------+-----------------------------+--------------------------+------------------------+--------------------------+-------------------------+---------------------+--------------------------------------------+-----------------------------+-----------------------------------+--------------------------------------------+------------------+------------------+-----------------------------+--------------------------------------+----------------------------------------+-------------------------+------------------------------+-----------------+------------------------------+-------------------------------------+---------------------------------+---------------------------------------+----------------------+------------+-------------+----------------+---------+------------------+-------------+-----------------+-----------+---------------------------+--------------------+--------------------+------------------------------+------------------------------+-------------------------+------------------------+------------------------+--------------------------------------+------------------------+---------------------------+-----------------------------------+-------------------------+-----------------------------+\n",
      "|                    62|    NC|                    13|                   Wa|                               0|                           21|                    13|              15|                                         10|               36|                    52|                               52|                              0|                  0|                                           13|                           12|                        84|                      57|                        19|                       19|                    0|                                          41|                           82|                                  0|                                           0|                Ma|                62|                           Wi|                                    Ar|                                      Wi|                       Co|                            Wo|               Si|                             3|                                    0|                                0|                                      3|                    Si|          St|           St|              25|       25|                 2|           Ow|               Wa|          1|                         Ot|                   2|                   0|                             1|                             1|                        1|                       1|                       0|                                     1|                       3|                          1|                                  1|                        0|                            0|\n",
      "|                    30|    NC|                    10|                   Wa|                               0|                           22|                    17|              14|                                         42|               34|                    51|                               44|                             36|                  0|                                           32|                           10|                        72|                      48|                        17|                       36|                   19|                                          24|                           32|                                  0|                                           0|                Fe|                73|                           Wi|                                    El|                                      No|                       nu|                            nu|               Ex|                             4|                                    0|                                0|                                      1|                    Si|          St|           St|              25|       15|                 2|           Ow|               Wa|          1|                         Ow|                   1|                   1|                             0|                             1|                        1|                       0|                       0|                                     0|                       2|                          1|                                  0|                        0|                            0|\n",
      "+----------------------+------+----------------------+---------------------+--------------------------------+-----------------------------+----------------------+----------------+-------------------------------------------+-----------------+----------------------+---------------------------------+-------------------------------+-------------------+---------------------------------------------+-----------------------------+--------------------------+------------------------+--------------------------+-------------------------+---------------------+--------------------------------------------+-----------------------------+-----------------------------------+--------------------------------------------+------------------+------------------+-----------------------------+--------------------------------------+----------------------------------------+-------------------------+------------------------------+-----------------+------------------------------+-------------------------------------+---------------------------------+---------------------------------------+----------------------+------------+-------------+----------------+---------+------------------+-------------+-----------------+-----------+---------------------------+--------------------+--------------------+------------------------------+------------------------------+-------------------------+------------------------+------------------------+--------------------------------------+------------------------+---------------------------+-----------------------------------+-------------------------+-----------------------------+\n",
      "only showing top 2 rows\n",
      "\n"
     ]
    }
   ],
   "source": [
    "statsdata.show(2,2)"
   ]
  },
  {
   "cell_type": "code",
   "execution_count": 22,
   "id": "66f4554b",
   "metadata": {},
   "outputs": [
    {
     "data": {
      "text/html": [
       "<div>\n",
       "<style scoped>\n",
       "    .dataframe tbody tr th:only-of-type {\n",
       "        vertical-align: middle;\n",
       "    }\n",
       "\n",
       "    .dataframe tbody tr th {\n",
       "        vertical-align: top;\n",
       "    }\n",
       "\n",
       "    .dataframe thead th {\n",
       "        text-align: right;\n",
       "    }\n",
       "</style>\n",
       "<table border=\"1\" class=\"dataframe\">\n",
       "  <thead>\n",
       "    <tr style=\"text-align: right;\">\n",
       "      <th></th>\n",
       "      <th>Total Household Income</th>\n",
       "      <th>Region</th>\n",
       "      <th>Total Food Expenditure</th>\n",
       "      <th>Main Source of Income</th>\n",
       "      <th>Agricultural Household indicator</th>\n",
       "      <th>Bread and Cereals Expenditure</th>\n",
       "      <th>Total Rice Expenditure</th>\n",
       "      <th>Meat Expenditure</th>\n",
       "      <th>Total Fish and  marine products Expenditure</th>\n",
       "      <th>Fruit Expenditure</th>\n",
       "      <th>...</th>\n",
       "      <th>Number of Refrigerator/Freezer</th>\n",
       "      <th>Number of Washing Machine</th>\n",
       "      <th>Number of Airconditioner</th>\n",
       "      <th>Number of Car, Jeep, Van</th>\n",
       "      <th>Number of Landline/wireless telephones</th>\n",
       "      <th>Number of Cellular phone</th>\n",
       "      <th>Number of Personal Computer</th>\n",
       "      <th>Number of Stove with Oven/Gas Range</th>\n",
       "      <th>Number of Motorized Banca</th>\n",
       "      <th>Number of Motorcycle/Tricycle</th>\n",
       "    </tr>\n",
       "  </thead>\n",
       "  <tbody>\n",
       "    <tr>\n",
       "      <th>0</th>\n",
       "      <td>623738</td>\n",
       "      <td>NCR</td>\n",
       "      <td>133762</td>\n",
       "      <td>Wage/Salaries</td>\n",
       "      <td>0</td>\n",
       "      <td>21969</td>\n",
       "      <td>13000</td>\n",
       "      <td>15192</td>\n",
       "      <td>10438</td>\n",
       "      <td>3690</td>\n",
       "      <td>...</td>\n",
       "      <td>1</td>\n",
       "      <td>1</td>\n",
       "      <td>1</td>\n",
       "      <td>0</td>\n",
       "      <td>1</td>\n",
       "      <td>3</td>\n",
       "      <td>1</td>\n",
       "      <td>1</td>\n",
       "      <td>0</td>\n",
       "      <td>0</td>\n",
       "    </tr>\n",
       "    <tr>\n",
       "      <th>1</th>\n",
       "      <td>301900</td>\n",
       "      <td>NCR</td>\n",
       "      <td>109815</td>\n",
       "      <td>Wage/Salaries</td>\n",
       "      <td>0</td>\n",
       "      <td>22158</td>\n",
       "      <td>17550</td>\n",
       "      <td>14679</td>\n",
       "      <td>4260</td>\n",
       "      <td>3420</td>\n",
       "      <td>...</td>\n",
       "      <td>1</td>\n",
       "      <td>1</td>\n",
       "      <td>0</td>\n",
       "      <td>0</td>\n",
       "      <td>0</td>\n",
       "      <td>2</td>\n",
       "      <td>1</td>\n",
       "      <td>0</td>\n",
       "      <td>0</td>\n",
       "      <td>0</td>\n",
       "    </tr>\n",
       "    <tr>\n",
       "      <th>2</th>\n",
       "      <td>169200</td>\n",
       "      <td>NCR</td>\n",
       "      <td>47653</td>\n",
       "      <td>Other sources of Income</td>\n",
       "      <td>0</td>\n",
       "      <td>13260</td>\n",
       "      <td>8450</td>\n",
       "      <td>3370</td>\n",
       "      <td>1080</td>\n",
       "      <td>120</td>\n",
       "      <td>...</td>\n",
       "      <td>0</td>\n",
       "      <td>1</td>\n",
       "      <td>0</td>\n",
       "      <td>0</td>\n",
       "      <td>0</td>\n",
       "      <td>2</td>\n",
       "      <td>1</td>\n",
       "      <td>0</td>\n",
       "      <td>0</td>\n",
       "      <td>0</td>\n",
       "    </tr>\n",
       "    <tr>\n",
       "      <th>3</th>\n",
       "      <td>428200</td>\n",
       "      <td>NCR</td>\n",
       "      <td>179808</td>\n",
       "      <td>Wage/Salaries</td>\n",
       "      <td>0</td>\n",
       "      <td>20996</td>\n",
       "      <td>12350</td>\n",
       "      <td>24016</td>\n",
       "      <td>7920</td>\n",
       "      <td>3550</td>\n",
       "      <td>...</td>\n",
       "      <td>1</td>\n",
       "      <td>1</td>\n",
       "      <td>1</td>\n",
       "      <td>0</td>\n",
       "      <td>0</td>\n",
       "      <td>2</td>\n",
       "      <td>1</td>\n",
       "      <td>0</td>\n",
       "      <td>0</td>\n",
       "      <td>0</td>\n",
       "    </tr>\n",
       "    <tr>\n",
       "      <th>4</th>\n",
       "      <td>283100</td>\n",
       "      <td>NCR</td>\n",
       "      <td>123872</td>\n",
       "      <td>Other sources of Income</td>\n",
       "      <td>0</td>\n",
       "      <td>17060</td>\n",
       "      <td>13350</td>\n",
       "      <td>18478</td>\n",
       "      <td>13320</td>\n",
       "      <td>3830</td>\n",
       "      <td>...</td>\n",
       "      <td>1</td>\n",
       "      <td>1</td>\n",
       "      <td>0</td>\n",
       "      <td>0</td>\n",
       "      <td>0</td>\n",
       "      <td>2</td>\n",
       "      <td>1</td>\n",
       "      <td>0</td>\n",
       "      <td>0</td>\n",
       "      <td>0</td>\n",
       "    </tr>\n",
       "  </tbody>\n",
       "</table>\n",
       "<p>5 rows × 60 columns</p>\n",
       "</div>"
      ],
      "text/plain": [
       "  Total Household Income Region Total Food Expenditure  \\\n",
       "0                 623738    NCR                 133762   \n",
       "1                 301900    NCR                 109815   \n",
       "2                 169200    NCR                  47653   \n",
       "3                 428200    NCR                 179808   \n",
       "4                 283100    NCR                 123872   \n",
       "\n",
       "     Main Source of Income Agricultural Household indicator  \\\n",
       "0            Wage/Salaries                                0   \n",
       "1            Wage/Salaries                                0   \n",
       "2  Other sources of Income                                0   \n",
       "3            Wage/Salaries                                0   \n",
       "4  Other sources of Income                                0   \n",
       "\n",
       "  Bread and Cereals Expenditure Total Rice Expenditure Meat Expenditure  \\\n",
       "0                         21969                  13000            15192   \n",
       "1                         22158                  17550            14679   \n",
       "2                         13260                   8450             3370   \n",
       "3                         20996                  12350            24016   \n",
       "4                         17060                  13350            18478   \n",
       "\n",
       "  Total Fish and  marine products Expenditure Fruit Expenditure  ...  \\\n",
       "0                                       10438              3690  ...   \n",
       "1                                        4260              3420  ...   \n",
       "2                                        1080               120  ...   \n",
       "3                                        7920              3550  ...   \n",
       "4                                       13320              3830  ...   \n",
       "\n",
       "  Number of Refrigerator/Freezer Number of Washing Machine  \\\n",
       "0                              1                         1   \n",
       "1                              1                         1   \n",
       "2                              0                         1   \n",
       "3                              1                         1   \n",
       "4                              1                         1   \n",
       "\n",
       "  Number of Airconditioner Number of Car, Jeep, Van  \\\n",
       "0                        1                        0   \n",
       "1                        0                        0   \n",
       "2                        0                        0   \n",
       "3                        1                        0   \n",
       "4                        0                        0   \n",
       "\n",
       "  Number of Landline/wireless telephones Number of Cellular phone  \\\n",
       "0                                      1                        3   \n",
       "1                                      0                        2   \n",
       "2                                      0                        2   \n",
       "3                                      0                        2   \n",
       "4                                      0                        2   \n",
       "\n",
       "  Number of Personal Computer Number of Stove with Oven/Gas Range  \\\n",
       "0                           1                                   1   \n",
       "1                           1                                   0   \n",
       "2                           1                                   0   \n",
       "3                           1                                   0   \n",
       "4                           1                                   0   \n",
       "\n",
       "  Number of Motorized Banca Number of Motorcycle/Tricycle  \n",
       "0                         0                             0  \n",
       "1                         0                             0  \n",
       "2                         0                             0  \n",
       "3                         0                             0  \n",
       "4                         0                             0  \n",
       "\n",
       "[5 rows x 60 columns]"
      ]
     },
     "execution_count": 22,
     "metadata": {},
     "output_type": "execute_result"
    }
   ],
   "source": [
    "statsdata.limit(5).toPandas()"
   ]
  },
  {
   "cell_type": "code",
   "execution_count": 24,
   "id": "e7961683",
   "metadata": {},
   "outputs": [
    {
     "name": "stdout",
     "output_type": "stream",
     "text": [
      "<class 'list'>\n"
     ]
    }
   ],
   "source": [
    "print(type(statsdata.tail(5)))"
   ]
  },
  {
   "cell_type": "code",
   "execution_count": 25,
   "id": "d6136d20",
   "metadata": {},
   "outputs": [
    {
     "ename": "NameError",
     "evalue": "name 'pd' is not defined",
     "output_type": "error",
     "traceback": [
      "\u001b[0;31m---------------------------------------------------------------------------\u001b[0m",
      "\u001b[0;31mNameError\u001b[0m                                 Traceback (most recent call last)",
      "Input \u001b[0;32mIn [25]\u001b[0m, in \u001b[0;36m<cell line: 1>\u001b[0;34m()\u001b[0m\n\u001b[0;32m----> 1\u001b[0m \u001b[43mpd\u001b[49m\u001b[38;5;241m.\u001b[39mset_option(\u001b[38;5;124m'\u001b[39m\u001b[38;5;124mfloat_format\u001b[39m\u001b[38;5;124m'\u001b[39m, \u001b[38;5;124m'\u001b[39m\u001b[38;5;132;01m{:,.2f}\u001b[39;00m\u001b[38;5;124m'\u001b[39m\u001b[38;5;241m.\u001b[39mformat)\n",
      "\u001b[0;31mNameError\u001b[0m: name 'pd' is not defined"
     ]
    }
   ],
   "source": [
    "pd.set_option('float_format', '{:,.2f}'.format)"
   ]
  },
  {
   "cell_type": "code",
   "execution_count": 32,
   "id": "2ef3e6a4",
   "metadata": {},
   "outputs": [
    {
     "data": {
      "text/plain": [
       "[('Total Household Income', 'string'),\n",
       " ('Region', 'string'),\n",
       " ('Total Food Expenditure', 'string'),\n",
       " ('Main Source of Income', 'string'),\n",
       " ('Agricultural Household indicator', 'string'),\n",
       " ('Bread and Cereals Expenditure', 'string'),\n",
       " ('Total Rice Expenditure', 'string'),\n",
       " ('Meat Expenditure', 'string'),\n",
       " ('Total Fish and  marine products Expenditure', 'string'),\n",
       " ('Fruit Expenditure', 'string'),\n",
       " ('Vegetables Expenditure', 'string'),\n",
       " ('Restaurant and hotels Expenditure', 'string'),\n",
       " ('Alcoholic Beverages Expenditure', 'string'),\n",
       " ('Tobacco Expenditure', 'string'),\n",
       " ('Clothing, Footwear and Other Wear Expenditure', 'string'),\n",
       " ('Housing and water Expenditure', 'string'),\n",
       " ('Imputed House Rental Value', 'string'),\n",
       " ('Medical Care Expenditure', 'string'),\n",
       " ('Transportation Expenditure', 'string'),\n",
       " ('Communication Expenditure', 'string'),\n",
       " ('Education Expenditure', 'string'),\n",
       " ('Miscellaneous Goods and Services Expenditure', 'string'),\n",
       " ('Special Occasions Expenditure', 'string'),\n",
       " ('Crop Farming and Gardening expenses', 'string'),\n",
       " ('Total Income from Entrepreneurial Acitivites', 'string'),\n",
       " ('Household Head Sex', 'string'),\n",
       " ('Household Head Age', 'string'),\n",
       " ('Household Head Marital Status', 'string'),\n",
       " ('Household Head Highest Grade Completed', 'string'),\n",
       " ('Household Head Job or Business Indicator', 'string'),\n",
       " ('Household Head Occupation', 'string'),\n",
       " ('Household Head Class of Worker', 'string'),\n",
       " ('Type of Household', 'string'),\n",
       " ('Total Number of Family members', 'string'),\n",
       " ('Members with age less than 5 year old', 'string'),\n",
       " ('Members with age 5 - 17 years old', 'string'),\n",
       " ('Total number of family members employed', 'string'),\n",
       " ('Type of Building/House', 'string'),\n",
       " ('Type of Roof', 'string'),\n",
       " ('Type of Walls', 'string'),\n",
       " ('House Floor Area', 'string'),\n",
       " ('House Age', 'string'),\n",
       " ('Number of bedrooms', 'string'),\n",
       " ('Tenure Status', 'string'),\n",
       " ('Toilet Facilities', 'string'),\n",
       " ('Electricity', 'string'),\n",
       " ('Main Source of Water Supply', 'string'),\n",
       " ('Number of Television', 'string'),\n",
       " ('Number of CD/VCD/DVD', 'string'),\n",
       " ('Number of Component/Stereo set', 'string'),\n",
       " ('Number of Refrigerator/Freezer', 'string'),\n",
       " ('Number of Washing Machine', 'string'),\n",
       " ('Number of Airconditioner', 'string'),\n",
       " ('Number of Car, Jeep, Van', 'string'),\n",
       " ('Number of Landline/wireless telephones', 'string'),\n",
       " ('Number of Cellular phone', 'string'),\n",
       " ('Number of Personal Computer', 'string'),\n",
       " ('Number of Stove with Oven/Gas Range', 'string'),\n",
       " ('Number of Motorized Banca', 'string'),\n",
       " ('Number of Motorcycle/Tricycle', 'string')]"
      ]
     },
     "execution_count": 32,
     "metadata": {},
     "output_type": "execute_result"
    }
   ],
   "source": [
    "statsdata.dtypes"
   ]
  },
  {
   "cell_type": "code",
   "execution_count": 38,
   "id": "e9abb4dd",
   "metadata": {},
   "outputs": [
    {
     "ename": "SyntaxError",
     "evalue": "invalid syntax (258163060.py, line 2)",
     "output_type": "error",
     "traceback": [
      "\u001b[0;36m  Input \u001b[0;32mIn [38]\u001b[0;36m\u001b[0m\n\u001b[0;31m    import org.apache.spark.sql.functions.{col}\u001b[0m\n\u001b[0m                                          ^\u001b[0m\n\u001b[0;31mSyntaxError\u001b[0m\u001b[0;31m:\u001b[0m invalid syntax\n"
     ]
    }
   ],
   "source": [
    "#Filter rows that has numeric value on column\n",
    "import org.apache.spark.sql.functions.{col}\n",
    "statsdata.filter(col(\"alphanumeric\").cast(\"int\").isNotNull).show()"
   ]
  },
  {
   "cell_type": "code",
   "execution_count": 39,
   "id": "7216803f",
   "metadata": {},
   "outputs": [
    {
     "name": "stderr",
     "output_type": "stream",
     "text": [
      "                                                                                \r"
     ]
    },
    {
     "name": "stdout",
     "output_type": "stream",
     "text": [
      "<class 'pandas.core.frame.DataFrame'>\n",
      "RangeIndex: 41544 entries, 0 to 41543\n",
      "Data columns (total 60 columns):\n",
      " #   Column                                         Non-Null Count  Dtype \n",
      "---  ------                                         --------------  ----- \n",
      " 0   Total Household Income                         41544 non-null  object\n",
      " 1   Region                                         41544 non-null  object\n",
      " 2   Total Food Expenditure                         41544 non-null  object\n",
      " 3   Main Source of Income                          41544 non-null  object\n",
      " 4   Agricultural Household indicator               41544 non-null  object\n",
      " 5   Bread and Cereals Expenditure                  41544 non-null  object\n",
      " 6   Total Rice Expenditure                         41544 non-null  object\n",
      " 7   Meat Expenditure                               41544 non-null  object\n",
      " 8   Total Fish and  marine products Expenditure    41544 non-null  object\n",
      " 9   Fruit Expenditure                              41544 non-null  object\n",
      " 10  Vegetables Expenditure                         41544 non-null  object\n",
      " 11  Restaurant and hotels Expenditure              41544 non-null  object\n",
      " 12  Alcoholic Beverages Expenditure                41544 non-null  object\n",
      " 13  Tobacco Expenditure                            41544 non-null  object\n",
      " 14  Clothing, Footwear and Other Wear Expenditure  41544 non-null  object\n",
      " 15  Housing and water Expenditure                  41544 non-null  object\n",
      " 16  Imputed House Rental Value                     41544 non-null  object\n",
      " 17  Medical Care Expenditure                       41544 non-null  object\n",
      " 18  Transportation Expenditure                     41544 non-null  object\n",
      " 19  Communication Expenditure                      41544 non-null  object\n",
      " 20  Education Expenditure                          41544 non-null  object\n",
      " 21  Miscellaneous Goods and Services Expenditure   41544 non-null  object\n",
      " 22  Special Occasions Expenditure                  41544 non-null  object\n",
      " 23  Crop Farming and Gardening expenses            41544 non-null  object\n",
      " 24  Total Income from Entrepreneurial Acitivites   41544 non-null  object\n",
      " 25  Household Head Sex                             41544 non-null  object\n",
      " 26  Household Head Age                             41544 non-null  object\n",
      " 27  Household Head Marital Status                  41544 non-null  object\n",
      " 28  Household Head Highest Grade Completed         41544 non-null  object\n",
      " 29  Household Head Job or Business Indicator       41544 non-null  object\n",
      " 30  Household Head Occupation                      34008 non-null  object\n",
      " 31  Household Head Class of Worker                 34008 non-null  object\n",
      " 32  Type of Household                              41544 non-null  object\n",
      " 33  Total Number of Family members                 41544 non-null  object\n",
      " 34  Members with age less than 5 year old          41544 non-null  object\n",
      " 35  Members with age 5 - 17 years old              41544 non-null  object\n",
      " 36  Total number of family members employed        41544 non-null  object\n",
      " 37  Type of Building/House                         41544 non-null  object\n",
      " 38  Type of Roof                                   41544 non-null  object\n",
      " 39  Type of Walls                                  41544 non-null  object\n",
      " 40  House Floor Area                               41544 non-null  object\n",
      " 41  House Age                                      41544 non-null  object\n",
      " 42  Number of bedrooms                             41544 non-null  object\n",
      " 43  Tenure Status                                  41544 non-null  object\n",
      " 44  Toilet Facilities                              41544 non-null  object\n",
      " 45  Electricity                                    41544 non-null  object\n",
      " 46  Main Source of Water Supply                    41544 non-null  object\n",
      " 47  Number of Television                           41544 non-null  object\n",
      " 48  Number of CD/VCD/DVD                           41544 non-null  object\n",
      " 49  Number of Component/Stereo set                 41544 non-null  object\n",
      " 50  Number of Refrigerator/Freezer                 41544 non-null  object\n",
      " 51  Number of Washing Machine                      41544 non-null  object\n",
      " 52  Number of Airconditioner                       41544 non-null  object\n",
      " 53  Number of Car, Jeep, Van                       41544 non-null  object\n",
      " 54  Number of Landline/wireless telephones         41544 non-null  object\n",
      " 55  Number of Cellular phone                       41544 non-null  object\n",
      " 56  Number of Personal Computer                    41544 non-null  object\n",
      " 57  Number of Stove with Oven/Gas Range            41544 non-null  object\n",
      " 58  Number of Motorized Banca                      41544 non-null  object\n",
      " 59  Number of Motorcycle/Tricycle                  41544 non-null  object\n",
      "dtypes: object(60)\n",
      "memory usage: 19.0+ MB\n"
     ]
    }
   ],
   "source": [
    "statsdata.toPandas().info()"
   ]
  },
  {
   "cell_type": "code",
   "execution_count": 40,
   "id": "9256b33d",
   "metadata": {},
   "outputs": [
    {
     "data": {
      "text/plain": [
       "<bound method DataFrame.summary of DataFrame[Total Household Income: string, Region: string, Total Food Expenditure: string, Main Source of Income: string, Agricultural Household indicator: string, Bread and Cereals Expenditure: string, Total Rice Expenditure: string, Meat Expenditure: string, Total Fish and  marine products Expenditure: string, Fruit Expenditure: string, Vegetables Expenditure: string, Restaurant and hotels Expenditure: string, Alcoholic Beverages Expenditure: string, Tobacco Expenditure: string, Clothing, Footwear and Other Wear Expenditure: string, Housing and water Expenditure: string, Imputed House Rental Value: string, Medical Care Expenditure: string, Transportation Expenditure: string, Communication Expenditure: string, Education Expenditure: string, Miscellaneous Goods and Services Expenditure: string, Special Occasions Expenditure: string, Crop Farming and Gardening expenses: string, Total Income from Entrepreneurial Acitivites: string, Household Head Sex: string, Household Head Age: string, Household Head Marital Status: string, Household Head Highest Grade Completed: string, Household Head Job or Business Indicator: string, Household Head Occupation: string, Household Head Class of Worker: string, Type of Household: string, Total Number of Family members: string, Members with age less than 5 year old: string, Members with age 5 - 17 years old: string, Total number of family members employed: string, Type of Building/House: string, Type of Roof: string, Type of Walls: string, House Floor Area: string, House Age: string, Number of bedrooms: string, Tenure Status: string, Toilet Facilities: string, Electricity: string, Main Source of Water Supply: string, Number of Television: string, Number of CD/VCD/DVD: string, Number of Component/Stereo set: string, Number of Refrigerator/Freezer: string, Number of Washing Machine: string, Number of Airconditioner: string, Number of Car, Jeep, Van: string, Number of Landline/wireless telephones: string, Number of Cellular phone: string, Number of Personal Computer: string, Number of Stove with Oven/Gas Range: string, Number of Motorized Banca: string, Number of Motorcycle/Tricycle: string]>"
      ]
     },
     "execution_count": 40,
     "metadata": {},
     "output_type": "execute_result"
    }
   ],
   "source": [
    "statsdata.summary"
   ]
  },
  {
   "cell_type": "code",
   "execution_count": 41,
   "id": "672676e3",
   "metadata": {},
   "outputs": [
    {
     "name": "stderr",
     "output_type": "stream",
     "text": [
      "[Stage 40:>                                                         (0 + 1) / 1]\r"
     ]
    },
    {
     "name": "stdout",
     "output_type": "stream",
     "text": [
      "+-------+----------------------+------------------+----------------------+---------------------+--------------------------------+-----------------------------+----------------------+------------------+-------------------------------------------+------------------+----------------------+---------------------------------+-------------------------------+-------------------+---------------------------------------------+-----------------------------+--------------------------+------------------------+--------------------------+-------------------------+---------------------+--------------------------------------------+-----------------------------+-----------------------------------+--------------------------------------------+------------------+------------------+-----------------------------+--------------------------------------+----------------------------------------+-------------------------+------------------------------+--------------------+------------------------------+-------------------------------------+---------------------------------+---------------------------------------+----------------------+--------------------+-------------+------------------+------------------+------------------+--------------------+--------------------+------------------+---------------------------+--------------------+--------------------+------------------------------+------------------------------+-------------------------+------------------------+------------------------+--------------------------------------+------------------------+---------------------------+-----------------------------------+-------------------------+-----------------------------+\n",
      "|summary|Total Household Income|            Region|Total Food Expenditure|Main Source of Income|Agricultural Household indicator|Bread and Cereals Expenditure|Total Rice Expenditure|  Meat Expenditure|Total Fish and  marine products Expenditure| Fruit Expenditure|Vegetables Expenditure|Restaurant and hotels Expenditure|Alcoholic Beverages Expenditure|Tobacco Expenditure|Clothing, Footwear and Other Wear Expenditure|Housing and water Expenditure|Imputed House Rental Value|Medical Care Expenditure|Transportation Expenditure|Communication Expenditure|Education Expenditure|Miscellaneous Goods and Services Expenditure|Special Occasions Expenditure|Crop Farming and Gardening expenses|Total Income from Entrepreneurial Acitivites|Household Head Sex|Household Head Age|Household Head Marital Status|Household Head Highest Grade Completed|Household Head Job or Business Indicator|Household Head Occupation|Household Head Class of Worker|   Type of Household|Total Number of Family members|Members with age less than 5 year old|Members with age 5 - 17 years old|Total number of family members employed|Type of Building/House|        Type of Roof|Type of Walls|  House Floor Area|         House Age|Number of bedrooms|       Tenure Status|   Toilet Facilities|       Electricity|Main Source of Water Supply|Number of Television|Number of CD/VCD/DVD|Number of Component/Stereo set|Number of Refrigerator/Freezer|Number of Washing Machine|Number of Airconditioner|Number of Car, Jeep, Van|Number of Landline/wireless telephones|Number of Cellular phone|Number of Personal Computer|Number of Stove with Oven/Gas Range|Number of Motorized Banca|Number of Motorcycle/Tricycle|\n",
      "+-------+----------------------+------------------+----------------------+---------------------+--------------------------------+-----------------------------+----------------------+------------------+-------------------------------------------+------------------+----------------------+---------------------------------+-------------------------------+-------------------+---------------------------------------------+-----------------------------+--------------------------+------------------------+--------------------------+-------------------------+---------------------+--------------------------------------------+-----------------------------+-----------------------------------+--------------------------------------------+------------------+------------------+-----------------------------+--------------------------------------+----------------------------------------+-------------------------+------------------------------+--------------------+------------------------------+-------------------------------------+---------------------------------+---------------------------------------+----------------------+--------------------+-------------+------------------+------------------+------------------+--------------------+--------------------+------------------+---------------------------+--------------------+--------------------+------------------------------+------------------------------+-------------------------+------------------------+------------------------+--------------------------------------+------------------------+---------------------------+-----------------------------------+-------------------------+-----------------------------+\n",
      "|  count|                 41544|             41544|                 41544|                41544|                           41544|                        41544|                 41544|             41544|                                      41544|             41544|                 41544|                            41544|                          41544|              41544|                                        41544|                        41544|                     41544|                   41544|                     41544|                    41544|                41544|                                       41544|                        41544|                              41544|                                       41544|             41544|             41544|                        41544|                                 41544|                                   41544|                    34008|                         34008|               41544|                         41544|                                41544|                            41544|                                  41544|                 41544|               41544|        41544|             41544|             41544|             41544|               41544|               41544|             41544|                      41544|               41544|               41544|                         41544|                         41544|                    41544|                   41544|                   41544|                                 41544|                   41544|                      41544|                              41544|                    41544|                        41544|\n",
      "|   mean|    247555.58480165608|              null|     85099.15819372232|                 null|              0.4298575004814173|           25133.723642403234|    18195.825004814174|10540.072573656846|                         10529.318337184672|2550.4749903716543|     5006.918568264972|               15436.566074523396|               1085.06812054689|  2294.736183323705|                            4954.621076449066|            38375.46779318313|        20921.544627383017|       7160.230935875216|         11806.34445407279|       4095.4920566146734|    7473.500481417293|                          12522.071634893126|            5265.726001347968|                 13816.859715000963|                          54376.239264394375|              null|51.381450991719625|                         null|                                  null|                                    null|                     null|                          null|                null|             4.635181975736568|                   0.4102156749470441|                1.362579433853264|                     1.2726988253418063|                  null|                null|         null|55.603360292701716|20.125505488157135|1.7880078952435972|                null|                null|0.8908145580589255|                       null|  0.8568746389370306| 0.43522530329289427|            0.1621413441170807|            0.3941844791064895|       0.3198055074138263|     0.12981417292509148|     0.08121509724629308|                  0.060610437126901597|       1.905738494126709|         0.3150154053533603|                0.13503755054881572|     0.013118621220874253|          0.28988542268438283|\n",
      "| stddev|     286880.5226527398|              null|     51637.94768239425|                 null|              0.6766664573905795|           13466.482983898033|     11727.22434974807|10497.727756963273|                          7812.201613353636|2969.7528787908345|    3300.1752359323573|                23705.19592934714|             2174.4319127104686| 3998.9771314595355|                            7496.500945481631|            53111.67817368486|        39371.518254865645|      26902.002274617334|        19351.213715330116|        7298.822613969044|    21219.17090729897|                          17547.027921165394|           13279.593680536731|                 47643.781776507494|                          147142.78904003717|              null|14.166081158245369|                         null|                                  null|                                    null|                     null|                          null|                null|            2.2802517165264873|                   0.6943900995613601|               1.4079996925750449|                     1.1491517182731796|                  null|                null|         null| 55.02316479936468|14.295452252095654|1.1056636057521325|                null|                null|0.3118754919734611|                       null|  0.6463058140944541|  0.5601247813006391|            0.3891078920314106|            0.5370251377798984|       0.4784820222111542|       0.448672901177239|      0.3467858983993903|                    0.2767317851836862|        1.55813046617518|         0.7396981767131176|                 0.3540828380105861|       0.1271707833655038|           0.5584078404188935|\n",
      "|    min|                100000|                  |                 10000| Enterpreneurial A...|                               0|                            0|                     0|                 0|                                          0|                 0|                     0|                                0|                              0|                  0|                                            0|                        10002|                         0|                       0|                         0|                        0|                    0|                                           0|                            0|                                  0|                                           0|            Female|                10|                     Annulled|                  Agriculture, Fore...|                         No Job/Business|     Accountants and a...|          Employer in own f...|     Extended Family|                             1|                                    0|                                0|                                      0|  Commercial/indust...|Light material (c...|        Light|                10|                 0|                 0|      Not Applicable|          Closed pit|                 0|                   Dug well|                   0|                   0|                             0|                             0|                        0|                       0|                       0|                                     0|                       0|                          0|                                  0|                        0|                            0|\n",
      "|    25%|              104888.0|              null|               51014.0|                 null|                             0.0|                      16554.0|               11020.0|            3353.0|                                     5503.0|            1023.0|                2872.0|                           1930.0|                            0.0|                0.0|                                       1365.0|                      13080.0|                    6000.0|                   300.0|                    2412.0|                    564.0|                  0.0|                                      3792.0|                          0.0|                                0.0|                                         0.0|              null|              41.0|                         null|                                  null|                                    null|                     null|                          null|                null|                           3.0|                                  0.0|                              0.0|                                    0.0|                  null|                null|         null|              25.0|              10.0|               1.0|                null|                null|               1.0|                       null|                 0.0|                 0.0|                           0.0|                           0.0|                      0.0|                     0.0|                     0.0|                                   0.0|                     1.0|                        0.0|                                0.0|                      0.0|                          0.0|\n",
      "|    50%|              164070.0|              null|               72977.0|                 null|                             0.0|                      23320.0|               16620.0|            7332.0|                                     8694.0|            1820.0|                4314.0|                           7310.0|                          270.0|              300.0|                                       2740.0|                      22986.0|                   10800.0|                  1125.0|                    6036.0|                   1506.0|                880.0|                                      6804.0|                       1500.0|                                0.0|                                     19200.0|              null|              51.0|                         null|                                  null|                                    null|                     null|                          null|                null|                           4.0|                                  0.0|                              1.0|                                    1.0|                  null|                null|         null|              40.0|              17.0|               2.0|                null|                null|               1.0|                       null|                 1.0|                 0.0|                           0.0|                           0.0|                      0.0|                     0.0|                     0.0|                                   0.0|                     2.0|                        0.0|                                0.0|                      0.0|                          0.0|\n",
      "|    75%|              291081.0|              null|              105619.0|                 null|                             1.0|                      31436.0|               23920.0|           14290.0|                                    13384.0|            3098.0|                6303.0|                          19913.0|                         1298.0|             3136.0|                                       5580.0|                      45942.0|                   24000.0|                  4680.0|                   13776.0|                   3900.0|               4050.0|                                     14148.0|                       5000.0|                             6300.0|                                     65938.0|              null|              61.0|                         null|                                  null|                                    null|                     null|                          null|                null|                           6.0|                                  1.0|                              2.0|                                    2.0|                  null|                null|         null|              70.0|              26.0|               2.0|                null|                null|               1.0|                       null|                 1.0|                 1.0|                           0.0|                           1.0|                      1.0|                     0.0|                     0.0|                                   0.0|                     3.0|                        0.0|                                0.0|                      0.0|                          0.0|\n",
      "|    max|                 99997|XII - SOCCSKSARGEN|                 99994|        Wage/Salaries|                               2|                         9994|                  9999|              9999|                                       9999|              9998|                  9997|                            99970|                           9998|               9995|                                         9999|                        99996|                     99600|                    9998|                      9996|                     9996|                 9990|                                        9996|                         9995|                               9993|                                       99982|              Male|                99|                      Widowed|                   Veterinary Programs|                       With Job/Business|     Workers reporting...|          Worked without pa...|Two or More Nonre...|                             9|                                    5|                                8|                                      8|          Single house|Strong material(g...|   Very Light|               998|                99|                 9|Rent-free house a...|Water-sealed, sew...|                 1|       Unprotected sprin...|                   6|                   5|                             5|                             5|                        3|                       5|                       5|                                     4|                       9|                          6|                                  3|                        3|                            5|\n",
      "+-------+----------------------+------------------+----------------------+---------------------+--------------------------------+-----------------------------+----------------------+------------------+-------------------------------------------+------------------+----------------------+---------------------------------+-------------------------------+-------------------+---------------------------------------------+-----------------------------+--------------------------+------------------------+--------------------------+-------------------------+---------------------+--------------------------------------------+-----------------------------+-----------------------------------+--------------------------------------------+------------------+------------------+-----------------------------+--------------------------------------+----------------------------------------+-------------------------+------------------------------+--------------------+------------------------------+-------------------------------------+---------------------------------+---------------------------------------+----------------------+--------------------+-------------+------------------+------------------+------------------+--------------------+--------------------+------------------+---------------------------+--------------------+--------------------+------------------------------+------------------------------+-------------------------+------------------------+------------------------+--------------------------------------+------------------------+---------------------------+-----------------------------------+-------------------------+-----------------------------+\n",
      "\n"
     ]
    },
    {
     "name": "stderr",
     "output_type": "stream",
     "text": [
      "\r",
      "                                                                                \r"
     ]
    }
   ],
   "source": [
    "statsdata.summary().show()"
   ]
  },
  {
   "cell_type": "code",
   "execution_count": null,
   "id": "2a3ed233",
   "metadata": {},
   "outputs": [],
   "source": []
  }
 ],
 "metadata": {
  "kernelspec": {
   "display_name": "Python 3 (ipykernel)",
   "language": "python",
   "name": "python3"
  },
  "language_info": {
   "codemirror_mode": {
    "name": "ipython",
    "version": 3
   },
   "file_extension": ".py",
   "mimetype": "text/x-python",
   "name": "python",
   "nbconvert_exporter": "python",
   "pygments_lexer": "ipython3",
   "version": "3.10.4"
  }
 },
 "nbformat": 4,
 "nbformat_minor": 5
}
